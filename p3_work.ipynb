{
 "cells": [
  {
   "cell_type": "code",
   "execution_count": 1,
   "metadata": {},
   "outputs": [],
   "source": [
    "import codecs\n",
    "import math\n",
    "import random\n",
    "import string\n",
    "import time\n",
    "import numpy as np\n",
    "import torch\n",
    "from sklearn.metrics import accuracy_score\n",
    "\n",
    "'''\n",
    "Don't change these constants for the classification task.\n",
    "You may use different copies for the sentence generation model.\n",
    "'''\n",
    "languages = [\"af\", \"cn\", \"de\", \"fi\", \"fr\", \"in\", \"ir\", \"pk\", \"za\"]\n",
    "all_letters = string.ascii_letters + \" .,;'\"\n",
    "n_letters = len(all_letters)\n",
    "\n",
    "\n",
    "import unicodedata\n",
    "\n",
    "# Turn a Unicode string to plain ASCII, thanks to https://stackoverflow.com/a/518232/2809427\n",
    "def unicodeToAscii(s):\n",
    "    return ''.join(\n",
    "        c for c in unicodedata.normalize('NFD', s)\n",
    "        if unicodedata.category(c) != 'Mn'\n",
    "        and c in all_letters\n",
    "    )\n",
    "\n",
    "# print(unicodeToAscii('Ślusàrski'))\n",
    "\n",
    "# Build the category_lines dictionary, a list of names per language\n",
    "category_lines = {}\n",
    "all_categories = []\n",
    "\n",
    "# Read a file and split into lines\n",
    "def readLines(filename):\n",
    "    lines = codecs.open(filename, \"r\",encoding='utf-8', errors='ignore').read().strip().split('\\n')\n",
    "    return [unicodeToAscii(line) for line in lines]"
   ]
  },
  {
   "cell_type": "code",
   "execution_count": 2,
   "metadata": {},
   "outputs": [
    {
     "name": "stdout",
     "output_type": "stream",
     "text": [
      "['data/cities/train/in.txt', 'data/cities/train/pk.txt', 'data/cities/train/fr.txt', 'data/cities/train/af.txt', 'data/cities/train/cn.txt', 'data/cities/train/za.txt', 'data/cities/train/fi.txt', 'data/cities/train/ir.txt', 'data/cities/train/de.txt']\n"
     ]
    }
   ],
   "source": [
    "from __future__ import unicode_literals, print_function, division\n",
    "from io import open\n",
    "import glob\n",
    "import os\n",
    "\n",
    "def findFiles(path): return glob.glob(path)\n",
    "\n",
    "print(findFiles('data/cities/train/*.txt'))\n",
    "\n",
    "\n",
    "for filename in findFiles('data/cities/train/*.txt'):\n",
    "    category = os.path.splitext(os.path.basename(filename))[0]\n",
    "    all_categories.append(category)\n",
    "    lines = readLines(filename)\n",
    "    category_lines[category] = lines\n",
    "\n",
    "n_categories = len(all_categories)"
   ]
  },
  {
   "cell_type": "markdown",
   "metadata": {},
   "source": [
    "we got a dictionary - the keys are the languages and the value is a list of words.\n",
    "let's look a one list for language 'de':"
   ]
  },
  {
   "cell_type": "code",
   "execution_count": 3,
   "metadata": {},
   "outputs": [
    {
     "data": {
      "text/plain": [
       "['rudenweiler',\n",
       " 'comunidad pallina grande',\n",
       " 'joao lopes de cima',\n",
       " 'los aymanes de san miguel',\n",
       " 'am badeche',\n",
       " 'hesedorf',\n",
       " 'lohnerheide',\n",
       " 'istermyrliden',\n",
       " 'kleinlellenfeld',\n",
       " 'hadeth baalbek']"
      ]
     },
     "execution_count": 3,
     "metadata": {},
     "output_type": "execute_result"
    }
   ],
   "source": [
    "category_lines['de'][:10]"
   ]
  },
  {
   "cell_type": "markdown",
   "metadata": {},
   "source": [
    "Let examine our data:\n",
    "how many categories do we have?"
   ]
  },
  {
   "cell_type": "code",
   "execution_count": 4,
   "metadata": {},
   "outputs": [
    {
     "data": {
      "text/plain": [
       "9"
      ]
     },
     "execution_count": 4,
     "metadata": {},
     "output_type": "execute_result"
    }
   ],
   "source": [
    "n_categories"
   ]
  },
  {
   "cell_type": "markdown",
   "metadata": {},
   "source": [
    "every category is a language, what language do we have in this dataset?"
   ]
  },
  {
   "cell_type": "code",
   "execution_count": 5,
   "metadata": {},
   "outputs": [
    {
     "data": {
      "text/plain": [
       "['in', 'pk', 'fr', 'af', 'cn', 'za', 'fi', 'ir', 'de']"
      ]
     },
     "execution_count": 5,
     "metadata": {},
     "output_type": "execute_result"
    }
   ],
   "source": [
    "all_categories"
   ]
  },
  {
   "cell_type": "markdown",
   "metadata": {},
   "source": [
    "how many token do we have in each category?"
   ]
  },
  {
   "cell_type": "code",
   "execution_count": 6,
   "metadata": {},
   "outputs": [
    {
     "data": {
      "text/plain": [
       "{'in': 3000,\n",
       " 'pk': 3000,\n",
       " 'fr': 3000,\n",
       " 'af': 3000,\n",
       " 'cn': 3000,\n",
       " 'za': 3000,\n",
       " 'fi': 3000,\n",
       " 'ir': 3000,\n",
       " 'de': 3000}"
      ]
     },
     "execution_count": 6,
     "metadata": {},
     "output_type": "execute_result"
    }
   ],
   "source": [
    "{lang:len(category_lines[lang]) for lang in all_categories}"
   ]
  },
  {
   "cell_type": "markdown",
   "metadata": {},
   "source": [
    "so we have 3000 tokens for each language.\n",
    "\n",
    "lets look at characters"
   ]
  },
  {
   "cell_type": "code",
   "execution_count": 7,
   "metadata": {},
   "outputs": [
    {
     "data": {
      "text/plain": [
       "{'in': 33991,\n",
       " 'pk': 34561,\n",
       " 'fr': 33448,\n",
       " 'af': 32537,\n",
       " 'cn': 28946,\n",
       " 'za': 33110,\n",
       " 'fi': 31037,\n",
       " 'ir': 33172,\n",
       " 'de': 37377}"
      ]
     },
     "execution_count": 7,
     "metadata": {},
     "output_type": "execute_result"
    }
   ],
   "source": [
    "char={}\n",
    "for lang in all_categories:\n",
    "    char[lang]=sum([len(category_lines[lang][word]) for word in range(len(category_lines[lang]))])\n",
    "    \n",
    "char"
   ]
  },
  {
   "cell_type": "code",
   "execution_count": 8,
   "metadata": {},
   "outputs": [
    {
     "name": "stdout",
     "output_type": "stream",
     "text": [
      "max: 37377 min: 28946\n"
     ]
    }
   ],
   "source": [
    "print(f'max: {max(char.values())} min: {min(char.values())}')"
   ]
  },
  {
   "cell_type": "markdown",
   "metadata": {},
   "source": [
    "in all languages we have between 28k to 38k characters\n",
    "\n",
    "\n",
    "lets see the average of letter in each token:"
   ]
  },
  {
   "cell_type": "code",
   "execution_count": 9,
   "metadata": {},
   "outputs": [
    {
     "data": {
      "text/plain": [
       "{'in': 11.330333333333334,\n",
       " 'pk': 11.520333333333333,\n",
       " 'fr': 11.149333333333333,\n",
       " 'af': 10.845666666666666,\n",
       " 'cn': 9.648666666666667,\n",
       " 'za': 11.036666666666667,\n",
       " 'fi': 10.345666666666666,\n",
       " 'ir': 11.057333333333334,\n",
       " 'de': 12.459}"
      ]
     },
     "execution_count": 9,
     "metadata": {},
     "output_type": "execute_result"
    }
   ],
   "source": [
    "import statistics\n",
    "avg= {lang: statistics.mean([len(category_lines[lang][word])  for word in range(3000)]) for lang in all_categories}\n",
    "avg"
   ]
  },
  {
   "cell_type": "code",
   "execution_count": 10,
   "metadata": {},
   "outputs": [
    {
     "name": "stdout",
     "output_type": "stream",
     "text": [
      "mean of average char per token in all language is 11.043666666666667\n"
     ]
    }
   ],
   "source": [
    "print(f'mean of average char per token in all language is {statistics.mean(avg.values())}')"
   ]
  },
  {
   "cell_type": "markdown",
   "metadata": {},
   "source": [
    "The average of characters per token is similar in almosgt all languages - around 11"
   ]
  },
  {
   "cell_type": "code",
   "execution_count": 11,
   "metadata": {},
   "outputs": [
    {
     "data": {
      "text/plain": [
       "{' ',\n",
       " \"'\",\n",
       " '.',\n",
       " 'a',\n",
       " 'b',\n",
       " 'c',\n",
       " 'd',\n",
       " 'e',\n",
       " 'f',\n",
       " 'g',\n",
       " 'h',\n",
       " 'i',\n",
       " 'j',\n",
       " 'k',\n",
       " 'l',\n",
       " 'm',\n",
       " 'n',\n",
       " 'o',\n",
       " 'p',\n",
       " 'q',\n",
       " 'r',\n",
       " 's',\n",
       " 't',\n",
       " 'u',\n",
       " 'v',\n",
       " 'w',\n",
       " 'x',\n",
       " 'y',\n",
       " 'z'}"
      ]
     },
     "execution_count": 11,
     "metadata": {},
     "output_type": "execute_result"
    }
   ],
   "source": [
    "diff_char= {lang: set([char for word in range(3000) for char in category_lines[lang][word]]) for lang in all_categories }\n",
    "diff_char['ir']"
   ]
  },
  {
   "cell_type": "code",
   "execution_count": 12,
   "metadata": {},
   "outputs": [
    {
     "data": {
      "text/plain": [
       "{'in': 29,\n",
       " 'pk': 29,\n",
       " 'fr': 29,\n",
       " 'af': 28,\n",
       " 'cn': 27,\n",
       " 'za': 29,\n",
       " 'fi': 29,\n",
       " 'ir': 29,\n",
       " 'de': 29}"
      ]
     },
     "execution_count": 12,
     "metadata": {},
     "output_type": "execute_result"
    }
   ],
   "source": [
    "{lang:len(diff_char[lang]) for lang in diff_char.keys()}"
   ]
  },
  {
   "cell_type": "markdown",
   "metadata": {},
   "source": [
    "we can see that all numbers have almost the same numbers of diffrent characters"
   ]
  },
  {
   "cell_type": "code",
   "execution_count": 13,
   "metadata": {},
   "outputs": [
    {
     "name": "stdout",
     "output_type": "stream",
     "text": [
      "total number of possible letters: 57\n",
      "all letters :\n",
      " abcdefghijklmnopqrstuvwxyzABCDEFGHIJKLMNOPQRSTUVWXYZ .,;'\n"
     ]
    }
   ],
   "source": [
    "print(f'total number of possible letters: {n_letters}')\n",
    "print(f'all letters :\\n {all_letters}')"
   ]
  },
  {
   "cell_type": "markdown",
   "metadata": {},
   "source": [
    "Explain why the unicodeToAscii is a good idea for this task."
   ]
  },
  {
   "cell_type": "markdown",
   "metadata": {},
   "source": [
    "# MODEL"
   ]
  },
  {
   "cell_type": "code",
   "execution_count": 14,
   "metadata": {},
   "outputs": [
    {
     "name": "stdout",
     "output_type": "stream",
     "text": [
      "tensor([[0., 0., 0., 0., 0., 0., 0., 0., 0., 0., 0., 0., 0., 0., 0., 0., 0., 0.,\n",
      "         0., 0., 0., 0., 0., 0., 0., 0., 0., 0., 0., 0., 0., 0., 0., 0., 0., 1.,\n",
      "         0., 0., 0., 0., 0., 0., 0., 0., 0., 0., 0., 0., 0., 0., 0., 0., 0., 0.,\n",
      "         0., 0., 0.]])\n",
      "torch.Size([5, 1, 57])\n"
     ]
    }
   ],
   "source": [
    "import torch\n",
    "\n",
    "# Find letter index from all_letters, e.g. \"a\" = 0\n",
    "def letterToIndex(letter):\n",
    "    return all_letters.find(letter)\n",
    "\n",
    "# Just for demonstration, turn a letter into a <1 x n_letters> Tensor\n",
    "def letterToTensor(letter):\n",
    "    tensor = torch.zeros(1, n_letters)\n",
    "    tensor[0][letterToIndex(letter)] = 1\n",
    "    return tensor\n",
    "\n",
    "# Turn a line into a <line_length x 1 x n_letters>,\n",
    "# or an array of one-hot letter vectors\n",
    "def lineToTensor(line):\n",
    "    tensor = torch.zeros(len(line), 1, n_letters)\n",
    "    for li, letter in enumerate(line):\n",
    "        tensor[li][0][letterToIndex(letter)] = 1\n",
    "    return tensor\n",
    "\n",
    "\n",
    "#examples\n",
    "\n",
    "print(letterToTensor('J'))\n",
    "\n",
    "print(lineToTensor('Jones').size())"
   ]
  },
  {
   "cell_type": "code",
   "execution_count": 15,
   "metadata": {},
   "outputs": [],
   "source": [
    "import torch.nn as nn\n",
    "\n",
    "class RNN(nn.Module):\n",
    "    def __init__(self, input_size, hidden_size, output_size):\n",
    "        super(RNN, self).__init__()\n",
    "\n",
    "        self.hidden_size = hidden_size\n",
    "\n",
    "        self.i2h = nn.Linear(input_size + hidden_size, hidden_size)\n",
    "        self.i2o = nn.Linear(input_size + hidden_size, output_size)\n",
    "        self.softmax = nn.LogSoftmax(dim=1)\n",
    "\n",
    "    def forward(self, input, hidden):\n",
    "        combined = torch.cat((input, hidden), 1)\n",
    "        hidden = self.i2h(combined)\n",
    "        output = self.i2o(combined)\n",
    "        output = self.softmax(output)\n",
    "        return output, hidden\n",
    "\n",
    "    def initHidden(self):\n",
    "        return torch.zeros(1, self.hidden_size)\n",
    "\n",
    "n_hidden = 128\n",
    "rnn = RNN(n_letters, n_hidden, n_categories)"
   ]
  },
  {
   "cell_type": "code",
   "execution_count": 16,
   "metadata": {},
   "outputs": [
    {
     "name": "stdout",
     "output_type": "stream",
     "text": [
      "output: tensor([[-2.2088, -2.2254, -2.1725, -2.1560, -2.3094, -2.2056, -2.1854, -2.1942,\n",
      "         -2.1279]], grad_fn=<LogSoftmaxBackward>)\n",
      "\n",
      "next hidden: tensor([[-0.0848,  0.1130, -0.0428,  0.0427, -0.0641,  0.0289,  0.0894,  0.0039,\n",
      "          0.0143, -0.0008,  0.0198,  0.0546, -0.0239, -0.0493,  0.0148, -0.0609,\n",
      "          0.0760, -0.0218,  0.0223, -0.1252,  0.0337,  0.0725,  0.0332,  0.0277,\n",
      "          0.0048,  0.0059,  0.0168,  0.0148, -0.0359, -0.0543, -0.1065, -0.0003,\n",
      "          0.0105, -0.1160, -0.0965,  0.0816, -0.0302,  0.0622,  0.0010, -0.1159,\n",
      "          0.0295, -0.0046, -0.0349, -0.1333,  0.0349,  0.0647, -0.0604,  0.0157,\n",
      "         -0.0026, -0.0592, -0.0989,  0.0793,  0.0429,  0.0218, -0.0926,  0.0825,\n",
      "         -0.0397,  0.0275, -0.0336, -0.1199, -0.1005,  0.0793, -0.0264,  0.0163,\n",
      "         -0.0225, -0.0848,  0.1006,  0.0012,  0.0383,  0.0114, -0.0175,  0.0586,\n",
      "          0.0255, -0.0019, -0.1032, -0.0293,  0.0385, -0.0051,  0.0395,  0.0043,\n",
      "          0.0259, -0.0251,  0.0052,  0.0492,  0.0080,  0.0367,  0.0631,  0.0601,\n",
      "         -0.0933, -0.0328,  0.0962, -0.0075, -0.0205,  0.0404,  0.0668,  0.0424,\n",
      "          0.0677, -0.0285,  0.0424, -0.0365,  0.0536,  0.0295, -0.1307,  0.0631,\n",
      "          0.0232, -0.0147,  0.0817, -0.0202, -0.1055,  0.0494, -0.0434,  0.0173,\n",
      "         -0.0143,  0.0288, -0.0277, -0.1110,  0.0839,  0.0075,  0.0138,  0.0466,\n",
      "          0.0247,  0.0533, -0.0118,  0.0115,  0.0313,  0.0274,  0.0039,  0.0135]],\n",
      "       grad_fn=<AddmmBackward>)\n"
     ]
    }
   ],
   "source": [
    "#example:\n",
    "input_ = letterToTensor('A')\n",
    "hidden =torch.zeros(1, n_hidden)\n",
    "\n",
    "output_A, next_hidden = rnn(input_, hidden)\n",
    "print(f'output: {output_A}\\n')\n",
    "print(f'next hidden: {next_hidden}')"
   ]
  },
  {
   "cell_type": "code",
   "execution_count": 17,
   "metadata": {},
   "outputs": [
    {
     "name": "stdout",
     "output_type": "stream",
     "text": [
      "output: tensor([[-2.2088, -2.2254, -2.1725, -2.1560, -2.3094, -2.2056, -2.1854, -2.1942,\n",
      "         -2.1279]], grad_fn=<LogSoftmaxBackward>)\n"
     ]
    }
   ],
   "source": [
    "#example\n",
    "input_ = lineToTensor('Albert')\n",
    "hidden = torch.zeros(1, n_hidden)\n",
    "\n",
    "output, next_hidden = rnn(input_[0], hidden)\n",
    "print(f'output: {output}')"
   ]
  },
  {
   "cell_type": "code",
   "execution_count": 18,
   "metadata": {},
   "outputs": [
    {
     "data": {
      "text/plain": [
       "tensor([[True, True, True, True, True, True, True, True, True]])"
      ]
     },
     "execution_count": 18,
     "metadata": {},
     "output_type": "execute_result"
    }
   ],
   "source": [
    "output_A==output"
   ]
  },
  {
   "cell_type": "markdown",
   "metadata": {},
   "source": [
    "we got the same tensor for the letter A"
   ]
  },
  {
   "cell_type": "code",
   "execution_count": 19,
   "metadata": {},
   "outputs": [
    {
     "name": "stdout",
     "output_type": "stream",
     "text": [
      "('de', 8)\n"
     ]
    }
   ],
   "source": [
    "\n",
    "def categoryFromOutput(output):\n",
    "    top_n, top_i = output.topk(1)\n",
    "    category_i = top_i[0].item()\n",
    "    return all_categories[category_i], category_i\n",
    "\n",
    "print(categoryFromOutput(output))\n",
    "\n"
   ]
  },
  {
   "cell_type": "code",
   "execution_count": 20,
   "metadata": {},
   "outputs": [
    {
     "name": "stdout",
     "output_type": "stream",
     "text": [
      "category = fi /line = stor kanskog\n",
      "category = fi /line = pierrebuffiere\n",
      "category = ir /line = musa bolaghi\n",
      "category = cn /line = lisanmiao\n",
      "category = pk /line = fateh sherwala\n",
      "category = fi /line = grosselfingen\n",
      "category = za /line = bahlolzai\n",
      "category = fr /line = le vezier\n",
      "category = de /line = oberheise\n",
      "category = fi /line = pistikivi\n"
     ]
    }
   ],
   "source": [
    "import random\n",
    "\n",
    "def randomChoice(l):\n",
    "    return l[random.randint(0, len(l) - 1)]\n",
    "\n",
    "def randomTrainingExample():\n",
    "    category = randomChoice(all_categories)\n",
    "    line = randomChoice(category_lines[category])\n",
    "    category_tensor = torch.tensor([all_categories.index(category)], dtype=torch.long)\n",
    "    line_tensor = lineToTensor(line)\n",
    "    return category, line, category_tensor, line_tensor\n",
    "\n",
    "for i in range(10):\n",
    "    category, line, category_tensor, line_tensor = randomTrainingExample()\n",
    "    print('category =', category, '/line =', line)"
   ]
  },
  {
   "cell_type": "code",
   "execution_count": 56,
   "metadata": {},
   "outputs": [
    {
     "name": "stdout",
     "output_type": "stream",
     "text": [
      "tensor([6])\n",
      "6\n",
      "6\n"
     ]
    }
   ],
   "source": [
    "category, line, category_tensor, line_tensor=randomTrainingExample()\n",
    "print(category_tensor)\n",
    "print(category_tensor.item())\n",
    "print(category_tensor[0].item())"
   ]
  },
  {
   "cell_type": "markdown",
   "metadata": {},
   "source": [
    "\n",
    "the loss function we use is NLLLoss\n",
    "\n",
    "Each loop of training will:\n",
    "\n",
    "-  Create input and target tensors\n",
    "-  Create a zeroed initial hidden state\n",
    "-  Read each letter in and\n",
    "\n",
    "   -  Keep hidden state for next letter\n",
    "\n",
    "-  Compare final output to target\n",
    "-  Back-propagate\n",
    "-  Return the output and loss\n",
    "\n"
   ]
  },
  {
   "cell_type": "markdown",
   "metadata": {},
   "source": [
    "# Training"
   ]
  },
  {
   "cell_type": "code",
   "execution_count": 21,
   "metadata": {},
   "outputs": [],
   "source": [
    "#training\n",
    "criterion = nn.NLLLoss()\n",
    "\n",
    "learning_rate = 0.001 # If you set this too high, it might explode. If too low, it might not learn\n",
    "\n",
    "\n",
    "#input=  line_tensor \n",
    "#target output= category_tensor\n",
    "def train(category_tensor, line_tensor):\n",
    "    hidden = rnn.initHidden()\n",
    "    rnn.zero_grad()\n",
    "    \n",
    "    for i in range(line_tensor.size()[0]):\n",
    "        output, hidden = rnn(line_tensor[i], hidden)\n",
    "\n",
    "    loss = criterion(output, category_tensor)\n",
    "    loss.backward()\n",
    "\n",
    "    # Add parameters' gradients to their values, multiplied by learning rate\n",
    "    for p in rnn.parameters():\n",
    "        p.data.add_(p.grad.data, alpha=-learning_rate)\n",
    "\n",
    "    return output, loss.item()\n",
    "\n"
   ]
  },
  {
   "cell_type": "code",
   "execution_count": 22,
   "metadata": {},
   "outputs": [
    {
     "name": "stdout",
     "output_type": "stream",
     "text": [
      "2.193152904510498\n"
     ]
    }
   ],
   "source": [
    "#example\n",
    "input_ = lineToTensor('Albert')\n",
    "category_tensor = torch.tensor([all_categories.index('ir')], dtype=torch.long)\n",
    "\n",
    "output, loss= train(category_tensor, input_)\n",
    "print(loss)"
   ]
  },
  {
   "cell_type": "code",
   "execution_count": 23,
   "metadata": {},
   "outputs": [
    {
     "name": "stdout",
     "output_type": "stream",
     "text": [
      "za arzam\n"
     ]
    },
    {
     "data": {
      "text/plain": [
       "(tensor([[-2.2958, -2.1763, -2.1504, -2.2197, -2.2531, -2.1916, -2.2767, -2.1368,\n",
       "          -2.0930]], grad_fn=<LogSoftmaxBackward>),\n",
       " 2.191577672958374)"
      ]
     },
     "execution_count": 23,
     "metadata": {},
     "output_type": "execute_result"
    }
   ],
   "source": [
    "#example\n",
    "category, line, category_tensor, line_tensor = randomTrainingExample()\n",
    "print(category, line)\n",
    "train(category_tensor, line_tensor )"
   ]
  },
  {
   "cell_type": "code",
   "execution_count": 24,
   "metadata": {},
   "outputs": [
    {
     "name": "stdout",
     "output_type": "stream",
     "text": [
      "5000 5% (0m 9s) 2.1778 derevlevo / pk ✗ (de)\n",
      "10000 10% (0m 19s) 2.1991 nyirvasvari / pk ✗ (ir)\n",
      "15000 15% (0m 29s) 2.1015 dezgaran / ir ✓\n",
      "20000 20% (0m 39s) 2.2450 kale naqd ali / pk ✗ (ir)\n",
      "25000 25% (0m 49s) 2.0623 parkumaki / pk ✗ (fi)\n",
      "30000 30% (0m 59s) 2.0087 zamet / af ✗ (za)\n",
      "35000 35% (1m 8s) 2.4909 puhakkala / pk ✗ (fi)\n",
      "40000 40% (1m 17s) 2.5969 boca de uracoa / za ✗ (de)\n",
      "45000 45% (1m 28s) 1.4135 finsiga / in ✗ (fi)\n",
      "50000 50% (1m 38s) 0.8734 kengziwei / cn ✓\n",
      "55000 55% (1m 47s) 0.7626 heronchelle / fr ✓\n",
      "60000 60% (1m 56s) 2.3229 pote / fr ✗ (za)\n",
      "65000 65% (2m 6s) 0.5668 holdenseter / de ✓\n",
      "70000 70% (2m 16s) 0.3245 ghadzabi / za ✓\n",
      "75000 75% (2m 26s) 1.2444 fotinista / fi ✗ (in)\n",
      "80000 80% (2m 35s) 1.4887 sapintoen / cn ✗ (in)\n",
      "85000 85% (2m 44s) 1.1618 karez gholam / af ✓\n",
      "90000 90% (2m 54s) 0.9292 monfiano / fi ✓\n",
      "95000 95% (3m 3s) 1.9079 pfalzel / za ✗ (de)\n",
      "100000 100% (3m 12s) 2.3588 runaubuan / cn ✗ (fr)\n"
     ]
    }
   ],
   "source": [
    "import time\n",
    "import math\n",
    "\n",
    "n_iters = 100000\n",
    "print_every = 5000\n",
    "plot_every = 1000\n",
    "\n",
    "\n",
    "\n",
    "# Keep track of losses for plotting\n",
    "current_loss = 0\n",
    "all_losses = []\n",
    "\n",
    "def timeSince(since):\n",
    "    now = time.time()\n",
    "    s = now - since\n",
    "    m = math.floor(s / 60)\n",
    "    s -= m * 60\n",
    "    return '%dm %ds' % (m, s)\n",
    "\n",
    "start = time.time()\n",
    "\n",
    "for iter in range(1, n_iters + 1):\n",
    "    category, line, category_tensor, line_tensor = randomTrainingExample()\n",
    "    output, loss = train(category_tensor, line_tensor)\n",
    "    current_loss += loss\n",
    "\n",
    "    # Print iter number, loss, name and guess\n",
    "    if iter % print_every == 0:\n",
    "        guess, guess_i = categoryFromOutput(output)\n",
    "        correct = '✓' if guess == category else '✗ (%s)' % category\n",
    "        print('%d %d%% (%s) %.4f %s / %s %s' % (iter, iter / n_iters * 100, timeSince(start), loss, line, guess, correct))\n",
    "\n",
    "    # Add current loss avg to list of losses\n",
    "    if iter % plot_every == 0:\n",
    "        all_losses.append(current_loss / plot_every)\n",
    "        current_loss = 0"
   ]
  },
  {
   "cell_type": "code",
   "execution_count": 25,
   "metadata": {},
   "outputs": [
    {
     "data": {
      "text/plain": [
       "[<matplotlib.lines.Line2D at 0x7fb735219e90>]"
      ]
     },
     "execution_count": 25,
     "metadata": {},
     "output_type": "execute_result"
    },
    {
     "data": {
      "image/png": "[encoded data removed]",
      "text/plain": [
       "<Figure size 432x288 with 1 Axes>"
      ]
     },
     "metadata": {
      "needs_background": "light"
     },
     "output_type": "display_data"
    }
   ],
   "source": [
    "import matplotlib.pyplot as plt\n",
    "import matplotlib.ticker as ticker\n",
    "\n",
    "plt.figure()\n",
    "plt.plot(all_losses)"
   ]
  },
  {
   "cell_type": "markdown",
   "metadata": {},
   "source": [
    "# Evaluating"
   ]
  },
  {
   "cell_type": "code",
   "execution_count": 26,
   "metadata": {},
   "outputs": [
    {
     "data": {
      "image/png": "[encoded data removed]",
      "text/plain": [
       "<Figure size 432x288 with 2 Axes>"
      ]
     },
     "metadata": {
      "needs_background": "light"
     },
     "output_type": "display_data"
    }
   ],
   "source": [
    "# Keep track of correct guesses in a confusion matrix\n",
    "confusion = torch.zeros(n_categories, n_categories)\n",
    "n_confusion = 10000\n",
    "\n",
    "# Just return an output given a line\n",
    "def evaluate(line_tensor):\n",
    "    hidden = rnn.initHidden()\n",
    "\n",
    "    for i in range(line_tensor.size()[0]):\n",
    "        output, hidden = rnn(line_tensor[i], hidden)\n",
    "\n",
    "    return output\n",
    "\n",
    "# Go through a bunch of examples and record which are correctly guessed\n",
    "for i in range(n_confusion):\n",
    "    category, line, category_tensor, line_tensor = randomTrainingExample()\n",
    "    output = evaluate(line_tensor)\n",
    "    guess, guess_i = categoryFromOutput(output)\n",
    "    category_i = all_categories.index(category)\n",
    "    confusion[category_i][guess_i] += 1\n",
    "\n",
    "# Normalize by dividing every row by its sum\n",
    "for i in range(n_categories):\n",
    "    confusion[i] = confusion[i] / confusion[i].sum()\n",
    "\n",
    "# Set up plot\n",
    "fig = plt.figure()\n",
    "ax = fig.add_subplot(111)\n",
    "cax = ax.matshow(confusion.numpy())\n",
    "fig.colorbar(cax)\n",
    "\n",
    "# Set up axes\n",
    "ax.set_xticklabels([''] + all_categories, rotation=90)\n",
    "ax.set_yticklabels([''] + all_categories)\n",
    "\n",
    "# Force label at every tick\n",
    "ax.xaxis.set_major_locator(ticker.MultipleLocator(1))\n",
    "ax.yaxis.set_major_locator(ticker.MultipleLocator(1))\n",
    "\n",
    "# sphinx_gallery_thumbnail_number = 2\n",
    "plt.show()"
   ]
  },
  {
   "cell_type": "code",
   "execution_count": 27,
   "metadata": {},
   "outputs": [
    {
     "data": {
      "text/plain": [
       "tensor([[0.3192, 0.0899, 0.1007, 0.0279, 0.1987, 0.1061, 0.0576, 0.0378, 0.0621],\n",
       "        [0.0304, 0.4866, 0.0087, 0.1249, 0.0676, 0.1795, 0.0260, 0.0399, 0.0364],\n",
       "        [0.0453, 0.0111, 0.4366, 0.0555, 0.0500, 0.0675, 0.0546, 0.0500, 0.2294],\n",
       "        [0.0200, 0.1536, 0.0095, 0.3445, 0.0773, 0.2538, 0.0658, 0.0324, 0.0429],\n",
       "        [0.0716, 0.0104, 0.0056, 0.0094, 0.7966, 0.0556, 0.0226, 0.0038, 0.0245],\n",
       "        [0.0250, 0.0232, 0.0285, 0.0143, 0.0285, 0.8200, 0.0080, 0.0098, 0.0428],\n",
       "        [0.0560, 0.1103, 0.0560, 0.1077, 0.0320, 0.0738, 0.4422, 0.0552, 0.0667],\n",
       "        [0.0940, 0.1540, 0.0531, 0.1723, 0.0592, 0.2228, 0.0566, 0.1184, 0.0696],\n",
       "        [0.0374, 0.0209, 0.0844, 0.0383, 0.0426, 0.1958, 0.0209, 0.0261, 0.5335]])"
      ]
     },
     "execution_count": 27,
     "metadata": {},
     "output_type": "execute_result"
    }
   ],
   "source": [
    "confusion"
   ]
  },
  {
   "cell_type": "markdown",
   "metadata": {},
   "source": [
    "we can see that we have very good results for cn, good results for fr but all other results give us less than 50%.\n",
    "we can also see that we have mistakes on some languages especially de- fr, pk- ir and af-ir.\n",
    "these are the results on data from the training set, lets evaluate the prediction on the test dataset."
   ]
  },
  {
   "cell_type": "markdown",
   "metadata": {},
   "source": [
    "# predict"
   ]
  },
  {
   "cell_type": "code",
   "execution_count": 28,
   "metadata": {},
   "outputs": [],
   "source": [
    "def predict(input_line, n_predictions=3):\n",
    "    print('\\n> %s' % input_line)\n",
    "    with torch.no_grad():\n",
    "        output = evaluate(lineToTensor(input_line))\n",
    "\n",
    "        # Get top N categories\n",
    "        topv, topi = output.topk(n_predictions, 1, True)\n",
    "        predictions = []\n",
    "        for i in range(n_predictions):\n",
    "            value = topv[0][i].item()\n",
    "            category_index = topi[0][i].item()\n",
    "            print('(%.2f) %s' % (value, all_categories[category_index]))\n",
    "            predictions.append([value, all_categories[category_index]])"
   ]
  },
  {
   "cell_type": "code",
   "execution_count": 29,
   "metadata": {},
   "outputs": [
    {
     "name": "stdout",
     "output_type": "stream",
     "text": [
      "['data/cities/val/in.txt', 'data/cities/val/pk.txt', 'data/cities/val/fr.txt', 'data/cities/val/af.txt', 'data/cities/val/cn.txt', 'data/cities/val/za.txt', 'data/cities/val/fi.txt', 'data/cities/val/ir.txt', 'data/cities/val/de.txt']\n"
     ]
    }
   ],
   "source": [
    "# Build the category_lines dictionary, a list of names per language\n",
    "category_lines_test = {}\n",
    "all_categories_test = []\n",
    "\n",
    "# Read a file and split into lines\n",
    "def readLines(filename):\n",
    "    lines = codecs.open(filename, \"r\",encoding='utf-8', errors='ignore').read().strip().split('\\n')\n",
    "    return [unicodeToAscii(line) for line in lines]\n",
    "\n",
    "def findFiles(path): return glob.glob(path)\n",
    "\n",
    "print(findFiles('data/cities/val/*.txt'))\n",
    "\n",
    "\n",
    "for filename in findFiles('data/cities/val/*.txt'):\n",
    "    category = os.path.splitext(os.path.basename(filename))[0]\n",
    "    all_categories_test.append(category)\n",
    "    lines = readLines(filename)\n",
    "    category_lines_test[category] = lines\n",
    "n_categories_test = len(all_categories_test)"
   ]
  },
  {
   "cell_type": "code",
   "execution_count": 30,
   "metadata": {},
   "outputs": [
    {
     "data": {
      "text/plain": [
       "['in', 'pk', 'fr', 'af', 'cn', 'za', 'fi', 'ir', 'de']"
      ]
     },
     "execution_count": 30,
     "metadata": {},
     "output_type": "execute_result"
    }
   ],
   "source": [
    "all_categories_test"
   ]
  },
  {
   "cell_type": "code",
   "execution_count": 31,
   "metadata": {},
   "outputs": [],
   "source": [
    "def randomTestExample():\n",
    "    category = randomChoice(all_categories_test)\n",
    "    line = randomChoice(category_lines_test[category])\n",
    "    category_tensor = torch.tensor([all_categories_test.index(category)], dtype=torch.long)\n",
    "    line_tensor = lineToTensor(line)\n",
    "    return category, line, category_tensor, line_tensor\n",
    "\n",
    "\n",
    "def categoryFromOutput_t(output):\n",
    "    top_n, top_i = output.topk(1)\n",
    "    category_i = top_i[0].item()\n",
    "    return all_categories_test[category_i], category_i"
   ]
  },
  {
   "cell_type": "code",
   "execution_count": 32,
   "metadata": {},
   "outputs": [
    {
     "data": {
      "image/png": "[encoded data removed]",
      "text/plain": [
       "<Figure size 432x288 with 2 Axes>"
      ]
     },
     "metadata": {
      "needs_background": "light"
     },
     "output_type": "display_data"
    }
   ],
   "source": [
    "# Keep track of correct guesses in a confusion matrix\n",
    "confusion_test = torch.zeros(n_categories, n_categories)\n",
    "n_confusion = 10000\n",
    "\n",
    "\n",
    "# Go through a bunch of examples and record which are correctly guessed\n",
    "for i in range(n_confusion):\n",
    "    category, line, category_tensor, line_tensor = randomTestExample()\n",
    "    output = evaluate(line_tensor)\n",
    "    guess, guess_i = categoryFromOutput_t(output)\n",
    "    category_i = all_categories_test.index(category)\n",
    "    confusion_test[category_i][guess_i] += 1\n",
    "\n",
    "# Normalize by dividing every row by its sum\n",
    "for i in range(n_categories_test):\n",
    "    confusion_test[i] = confusion_test[i] / confusion_test[i].sum()\n",
    "\n",
    "# Set up plot\n",
    "fig = plt.figure()\n",
    "ax = fig.add_subplot(111)\n",
    "cax = ax.matshow(confusion_test.numpy())\n",
    "fig.colorbar(cax)\n",
    "\n",
    "# Set up axes\n",
    "ax.set_xticklabels([''] + all_categories_test, rotation=90)\n",
    "ax.set_yticklabels([''] + all_categories_test)\n",
    "\n",
    "# Force label at every tick\n",
    "ax.xaxis.set_major_locator(ticker.MultipleLocator(1))\n",
    "ax.yaxis.set_major_locator(ticker.MultipleLocator(1))\n",
    "\n",
    "# sphinx_gallery_thumbnail_number = 2\n",
    "plt.show()"
   ]
  },
  {
   "cell_type": "code",
   "execution_count": 33,
   "metadata": {},
   "outputs": [
    {
     "data": {
      "text/plain": [
       "tensor([[0.3018, 0.0759, 0.0804, 0.0482, 0.2384, 0.0777, 0.0580, 0.0661, 0.0536],\n",
       "        [0.0714, 0.5522, 0.0165, 0.1603, 0.0403, 0.0980, 0.0284, 0.0229, 0.0101],\n",
       "        [0.0726, 0.0111, 0.3769, 0.0179, 0.0803, 0.1573, 0.0453, 0.0385, 0.2000],\n",
       "        [0.0141, 0.2723, 0.0000, 0.2953, 0.0822, 0.2095, 0.0389, 0.0080, 0.0796],\n",
       "        [0.0539, 0.0000, 0.0189, 0.0132, 0.8214, 0.0577, 0.0227, 0.0123, 0.0000],\n",
       "        [0.0323, 0.0769, 0.0419, 0.0253, 0.0716, 0.7170, 0.0096, 0.0079, 0.0175],\n",
       "        [0.0360, 0.0802, 0.0919, 0.0694, 0.0189, 0.0550, 0.4748, 0.0964, 0.0775],\n",
       "        [0.0904, 0.1752, 0.0065, 0.2088, 0.0606, 0.1836, 0.0270, 0.1249, 0.1230],\n",
       "        [0.0282, 0.0263, 0.1081, 0.0572, 0.0527, 0.1626, 0.0381, 0.0345, 0.4923]])"
      ]
     },
     "execution_count": 33,
     "metadata": {},
     "output_type": "execute_result"
    }
   ],
   "source": [
    "confusion_test"
   ]
  },
  {
   "cell_type": "code",
   "execution_count": 34,
   "metadata": {},
   "outputs": [
    {
     "data": {
      "text/plain": [
       "tensor([[False, False, False, False, False, False, False, False, False],\n",
       "        [False, False, False, False, False, False, False, False, False],\n",
       "        [False, False, False, False, False, False, False, False, False],\n",
       "        [False, False, False, False, False, False, False, False, False],\n",
       "        [False, False, False, False, False, False, False, False, False],\n",
       "        [False, False, False, False, False, False, False, False, False],\n",
       "        [False, False, False, False, False, False, False, False, False],\n",
       "        [False, False, False, False, False, False, False, False, False],\n",
       "        [False, False, False, False, False, False, False, False, False]])"
      ]
     },
     "execution_count": 34,
     "metadata": {},
     "output_type": "execute_result"
    }
   ],
   "source": [
    "confusion_test==confusion"
   ]
  },
  {
   "cell_type": "markdown",
   "metadata": {},
   "source": [
    "we got pretty good results"
   ]
  },
  {
   "cell_type": "code",
   "execution_count": 35,
   "metadata": {},
   "outputs": [],
   "source": [
    "import torch.nn as nn\n",
    "\n",
    "class RNN_dropout(nn.Module):\n",
    "    def __init__(self, input_size, hidden_size, output_size):\n",
    "        super(RNN_dropout, self).__init__()\n",
    "\n",
    "        self.hidden_size = hidden_size\n",
    "\n",
    "        self.i2h = nn.Linear(input_size + hidden_size, hidden_size)\n",
    "        self.i2o = nn.Linear(input_size + hidden_size, output_size)\n",
    "        self.softmax = nn.LogSoftmax(dim=1)\n",
    "        self.dropout = nn.Dropout(p=0.2)\n",
    "\n",
    "    def forward(self, input, hidden):\n",
    "        combined = torch.cat((input, hidden), 1)\n",
    "        hidden = self.i2h(self.dropout(combined))\n",
    "        output = self.i2o(self.dropout(combined))\n",
    "        output = self.softmax(output)\n",
    "        return output, hidden\n",
    "\n",
    "    def initHidden(self):\n",
    "        return torch.zeros(1, self.hidden_size)\n",
    "\n",
    "n_hidden = 128\n",
    "rnn_dropout = RNN_dropout(n_letters, n_hidden, n_categories)"
   ]
  },
  {
   "cell_type": "code",
   "execution_count": 36,
   "metadata": {},
   "outputs": [],
   "source": [
    "#training\n",
    "criterion = nn.NLLLoss()\n",
    "\n",
    "learning_rate = 0.001 # If you set this too high, it might explode. If too low, it might not learn\n",
    "\n",
    "\n",
    "#input=  line_tensor \n",
    "#target output= category_tensor\n",
    "def train2(category_tensor, line_tensor):\n",
    "    hidden = rnn_dropout.initHidden()\n",
    "    rnn_dropout.zero_grad()\n",
    "    \n",
    "    for i in range(line_tensor.size()[0]):\n",
    "        output, hidden = rnn_dropout(line_tensor[i], hidden)\n",
    "\n",
    "    loss = criterion(output, category_tensor)\n",
    "    loss.backward()\n",
    "\n",
    "    # Add parameters' gradients to their values, multiplied by learning rate\n",
    "    for p in rnn_dropout.parameters():\n",
    "        p.data.add_(p.grad.data, alpha=-learning_rate)\n",
    "\n",
    "    return output, loss.item()"
   ]
  },
  {
   "cell_type": "code",
   "execution_count": 37,
   "metadata": {},
   "outputs": [
    {
     "name": "stdout",
     "output_type": "stream",
     "text": [
      "5000 5% (0m 14s) 2.2047 huanggoudianzi / za ✗ (cn)\n",
      "10000 10% (0m 29s) 2.1889 cool spring manor / za ✗ (in)\n",
      "15000 15% (0m 44s) 1.9748 le haut chene / fr ✓\n",
      "20000 20% (0m 57s) 1.9040 basti ghanjaranwali / pk ✓\n",
      "25000 25% (1m 10s) 2.1107 lyudinichi / fi ✗ (in)\n",
      "30000 30% (1m 24s) 2.5287 kani sefid marivan / cn ✗ (fi)\n",
      "35000 35% (1m 37s) 3.0299 piazza armerina / pk ✗ (in)\n",
      "40000 40% (1m 51s) 1.6600 kachcha pakka / za ✗ (pk)\n",
      "45000 45% (2m 4s) 1.0914 sitio alcides marfim / de ✓\n",
      "50000 50% (2m 18s) 3.1692 ghund / in ✗ (af)\n",
      "55000 55% (2m 31s) 3.9500 chak one hundred sixtyeightone hundred seventyone nb / cn ✗ (pk)\n",
      "60000 60% (2m 44s) 2.6010 sangdehe bala / za ✗ (de)\n",
      "65000 65% (2m 57s) 1.5955 warzachewka / pk ✗ (za)\n",
      "70000 70% (3m 11s) 2.1337 yujia qiao / pk ✗ (cn)\n",
      "75000 75% (3m 24s) 1.4991 narmekan / ir ✓\n",
      "80000 80% (3m 38s) 1.7050 alyakhel / af ✓\n",
      "85000 85% (3m 52s) 1.9956 bousigniessurroc / in ✗ (fr)\n",
      "90000 90% (4m 5s) 1.1789 minamisoma / fi ✗ (in)\n",
      "95000 95% (4m 19s) 1.6072 mahbub jo goth / af ✗ (pk)\n",
      "100000 100% (4m 33s) 0.8847 piazza brembana / za ✓\n"
     ]
    }
   ],
   "source": [
    "import time\n",
    "import math\n",
    "\n",
    "n_iters = 100000\n",
    "print_every = 5000\n",
    "plot_every = 1000\n",
    "\n",
    "\n",
    "\n",
    "# Keep track of losses for plotting\n",
    "current_loss = 0\n",
    "all_losses = []\n",
    "\n",
    "def timeSince(since):\n",
    "    now = time.time()\n",
    "    s = now - since\n",
    "    m = math.floor(s / 60)\n",
    "    s -= m * 60\n",
    "    return '%dm %ds' % (m, s)\n",
    "\n",
    "start = time.time()\n",
    "\n",
    "for iter in range(1, n_iters + 1):\n",
    "    category, line, category_tensor, line_tensor = randomTrainingExample()\n",
    "    output, loss = train2(category_tensor, line_tensor)\n",
    "    current_loss += loss\n",
    "\n",
    "    # Print iter number, loss, name and guess\n",
    "    if iter % print_every == 0:\n",
    "        guess, guess_i = categoryFromOutput(output)\n",
    "        correct = '✓' if guess == category else '✗ (%s)' % category\n",
    "        print('%d %d%% (%s) %.4f %s / %s %s' % (iter, iter / n_iters * 100, timeSince(start), loss, line, guess, correct))\n",
    "\n",
    "    # Add current loss avg to list of losses\n",
    "    if iter % plot_every == 0:\n",
    "        all_losses.append(current_loss / plot_every)\n",
    "        current_loss = 0"
   ]
  },
  {
   "cell_type": "code",
   "execution_count": 38,
   "metadata": {},
   "outputs": [
    {
     "data": {
      "text/plain": [
       "[<matplotlib.lines.Line2D at 0x7fb73077ee10>]"
      ]
     },
     "execution_count": 38,
     "metadata": {},
     "output_type": "execute_result"
    },
    {
     "data": {
      "image/png": "[encoded data removed]",
      "text/plain": [
       "<Figure size 432x288 with 1 Axes>"
      ]
     },
     "metadata": {
      "needs_background": "light"
     },
     "output_type": "display_data"
    }
   ],
   "source": [
    "import matplotlib.pyplot as plt\n",
    "import matplotlib.ticker as ticker\n",
    "\n",
    "plt.figure()\n",
    "plt.plot(all_losses)"
   ]
  },
  {
   "cell_type": "code",
   "execution_count": 39,
   "metadata": {},
   "outputs": [
    {
     "data": {
      "image/png": "[encoded data removed]",
      "text/plain": [
       "<Figure size 432x288 with 2 Axes>"
      ]
     },
     "metadata": {
      "needs_background": "light"
     },
     "output_type": "display_data"
    }
   ],
   "source": [
    "# Keep track of correct guesses in a confusion matrix\n",
    "confusion2 = torch.zeros(n_categories, n_categories)\n",
    "n_confusion = 10000\n",
    "\n",
    "# Just return an output given a line\n",
    "def evaluate2(line_tensor):\n",
    "    hidden = rnn_dropout.initHidden()\n",
    "\n",
    "    for i in range(line_tensor.size()[0]):\n",
    "        output, hidden = rnn_dropout(line_tensor[i], hidden)\n",
    "\n",
    "    return output\n",
    "\n",
    "# Go through a bunch of examples and record which are correctly guessed\n",
    "for i in range(n_confusion):\n",
    "    category, line, category_tensor, line_tensor = randomTrainingExample()\n",
    "    output = evaluate2(line_tensor)\n",
    "    guess, guess_i = categoryFromOutput(output)\n",
    "    category_i = all_categories.index(category)\n",
    "    confusion2[category_i][guess_i] += 1\n",
    "\n",
    "# Normalize by dividing every row by its sum\n",
    "for i in range(n_categories):\n",
    "    confusion2[i] = confusion2[i] / confusion2[i].sum()\n",
    "\n",
    "# Set up plot\n",
    "fig = plt.figure()\n",
    "ax = fig.add_subplot(111)\n",
    "cax = ax.matshow(confusion2.numpy())\n",
    "fig.colorbar(cax)\n",
    "\n",
    "# Set up axes\n",
    "ax.set_xticklabels([''] + all_categories, rotation=90)\n",
    "ax.set_yticklabels([''] + all_categories)\n",
    "\n",
    "# Force label at every tick\n",
    "ax.xaxis.set_major_locator(ticker.MultipleLocator(1))\n",
    "ax.yaxis.set_major_locator(ticker.MultipleLocator(1))\n",
    "\n",
    "# sphinx_gallery_thumbnail_number = 2\n",
    "plt.show()"
   ]
  },
  {
   "cell_type": "code",
   "execution_count": null,
   "metadata": {},
   "outputs": [],
   "source": []
  }
 ],
 "metadata": {
  "kernelspec": {
   "display_name": "Python 3",
   "language": "python",
   "name": "python3"
  },
  "language_info": {
   "codemirror_mode": {
    "name": "ipython",
    "version": 3
   },
   "file_extension": ".py",
   "mimetype": "text/x-python",
   "name": "python",
   "nbconvert_exporter": "python",
   "pygments_lexer": "ipython3",
   "version": "3.7.6"
  }
 },
 "nbformat": 4,
 "nbformat_minor": 4
}
