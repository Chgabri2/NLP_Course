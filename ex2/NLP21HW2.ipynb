{
 "cells": [
  {
   "cell_type": "markdown",
   "metadata": {},
   "source": [
    "<h1>Assignment 2</h1>\n",
    "\n",
    "<h2>Due: Mon 04 Jan 2021 Midnight</h2>\n",
    "<a href='http://www.cs.bgu.ac.il/~elhadad/nlp21.html'>Natural Language Processing - Fall 2021 Michael Elhadad</a>\n",
    "<p/>\n",
    "This assignment covers the topic of document classification, sequence classification, named entity recognition and word embeddings.\n",
    "The objective is:\n",
    "<ul>\n",
    "<li>Apply feature-based supervised machine learning methods for document and token classification.</li>\n",
    "<li>Investigate algorithms for sequence classification: HMMs and CRFs.</li>\n",
    "<li>Learn the specific tasks of word classification, named entity recognition and document classification.\n",
    "<li>Use pre-trained word embeddings and measure whether they help for the task of NER.\n",
    "</ul>\n",
    "\n",
    "<p/>\n",
    "Submit your solution by email in the form of an iPython ipynb file.\n",
    "<p/>\n",
    "Do <b>not</b> attach the data in your submission.  Your notebook should refer to the data folder as \"../data\".\n",
    "\n",
    "<p>\n",
    "</p><hr>\n",
    "<h2>Content</h2>\n",
    "<ul>\n",
    "    <li><a href=\"#questions\">Q1. Questions Classification</a>\n",
    "      <ul>\n",
    "      <li><a href=\"#q1.1\">Q1.1. Describe the dataset qualitatively</a></li>\n",
    "      <li><a href=\"#q1.2\">Q1.2. Dataset Reader</a></li>\n",
    "      <li><a href=\"#q1.3\">Q1.3. Dataset Exploration</a></li>\n",
    "      <li><a href=\"#q1.4\">Q1.4. Classifier Interface, Evaluation Metrics, Confusion Matrix</a></li>\n",
    "      <li><a href=\"#q1.5\">Q1.5 Baseline Classifier</a></li>\n",
    "      <li><a href=\"#q1.6\">Q1.6 Features-based Classifier</a></li>\n",
    "      <li><a href=\"#q1.7\">Q1.7. Optional</a></li>\n",
    "      </ul>\n",
    "    </li>\n",
    "    <li><a href=\"#q2\">Q2. Document Classification</a>\n",
    "      <ul>\n",
    "        <li><a href=\"#q2.1\">Q2.1 Reuters Dataset</a>\n",
    "          <ul>\n",
    "          <li><a href=\"#q2.1.1\">Q2.1.1 Descriptive Statistics</a></li>\n",
    "          <li><a href=\"#q2.1.2\">Q2.1.2 Partial-fit classifiers</a></li>\n",
    "          <li><a href=\"#q2.1.3\">Q2.1.3 Hashing Vectorizer</a></li>\n",
    "          </ul>\n",
    "        </li>\n",
    "        <li><a href=\"#q2.2\">Q2.2. BBC News Dataset</a>\n",
    "          <ul>\n",
    "            <li><a href=\"#q2.2.1\">Q2.2.1 Descriptive Statistics</a></li>\n",
    "            <li><a href=\"#q2.2.2\">Q2.2.2 Feature Extraction</a></li>\n",
    "            <li><a href=\"#q2.2.3\">Q2.2.3 Model Training and Evaluation</a></li>\n",
    "            </ul>\n",
    "        </li>\n",
    "      </ul>\n",
    "    </li>\n",
    "    <li><a href=\"#q3\">Q3. Named Entity Recognition</a>\n",
    "      <ul>\n",
    "        <li><a href=\"#q3.1\">Q3.1 Features</a>\n",
    "          <ul>\n",
    "            <li><a href=\"#q3.1.1\">Q3.1.1 Feature Extraction</a></li>\n",
    "            <li><a href=\"#q3.1.2\">Q3.1.2 Model Training</a></li>\n",
    "            <li><a href=\"#q3.1.3\">Q3.1.3 Greedy Tagging vs. Sequence Tagging</a></li>\n",
    "          </ul>\n",
    "        </li>\n",
    "        <li><a href=\"#q3.2\">Q3.2 Using Word Embeddings</a></li>\n",
    "      </ul>\n",
    "</ul>\n"
   ]
  },
  {
   "cell_type": "markdown",
   "metadata": {},
   "source": [
    "<hr/>\n",
    "<a name=\"questions\"></a>\n",
    "<h2>Q1. Questions Classification</h2>\n",
    "\n",
    "Consider the dataset on Question Classification available <a href=\"https://cogcomp.seas.upenn.edu/Data/QA/QC/\">here</a>.\n",
    "\n",
    "<a name=\"q1.1\"></a>\n",
    "<h3>Q1.1. Describe the dataset qualitatively</h3>\n",
    "\n",
    "Read the article introducing this dataset: \n",
    "<a href=\"http://www.aclweb.org/anthology/C02-1150\">in Li, Dan Roth, Learning Question Classifiers. COLING'02</a>.\n",
    "<p/>\n",
    "Write a half to one-page summary of the paper, focusing on the dataset description (more than on the description of the classifier introduced in the paper).\n",
    "Describe the exact task, the labels used, and provide the motivation for this task.\n",
    "Provide examples for the 6 main categories.\n"
   ]
  },
  {
   "cell_type": "markdown",
   "metadata": {},
   "source": [
    "<a name=\"q1.2\"></a>\n",
    "<h3>Q1.2. Dataset Reader</h3>\n",
    "\n",
    "Implement a reader to parse the dataset into a data structure that will be easily used for scikit-learn processing.\n",
    "\n",
    "Adapt the code we used in HW1:\n"
   ]
  },
  {
   "cell_type": "code",
   "execution_count": 2,
   "metadata": {},
   "outputs": [],
   "source": [
    "import codecs\n",
    "import math\n",
    "import random\n",
    "import string\n",
    "import time\n",
    "import numpy as np\n",
    "from sklearn.metrics import accuracy_score\n",
    "\n",
    "'''\n",
    "Define different constants for the task of question classification \n",
    "based on the definition of the task.\n",
    "In the question classification case, there are 2 labels per question: coarse and fine.\n",
    "'''\n",
    "coarse_categories = [\"ABBREVIATION\", \"ENTITY\", \"DESCRIPTION\", \"HUMAN\", \"LOCATION\", \"NUMERIC VALUE\"]\n",
    "fine_categories = {}\n",
    "fine_categories[\"ABBREVIATION\"] = [\"abb\", \"exp\"]\n",
    "# @Todo more here...\n",
    "\n",
    "# Build the category_lines dictionary, a list of names per language\n",
    "coarse_category_lines = {}\n",
    "all_categories = []\n",
    "\n",
    "# @Todo: Define the way the lines should be parsed\n",
    "def parseLine(line):\n",
    "  return line\n",
    "\n",
    "# @Todo: Read a file and split into lines - create the appropriate data structure\n",
    "def readLines(filename):\n",
    "  lines = codecs.open(filename, \"r\",encoding='utf-8', errors='ignore').read().strip().split('\\n')\n",
    "  return [parseLine(line) for line in lines]"
   ]
  },
  {
   "cell_type": "markdown",
   "metadata": {},
   "source": [
    "<a name=\"q1.3\"></a>\n",
    "<h3>Q1.3. Dataset Exploration</h3>\n",
    "\n",
    "The labels used to classify the questions are organized in two levels:\n",
    "<ul>\n",
    "<li>6 coarse classes (ABBREVIATION, ENTITY, DESCRIPTION, HUMAN, LOCATION and NUMERIC VALUE)\n",
    "<li>50 fine classes (see Table 1 of the article above)\n",
    "</ul>\n",
    "\n",
    "The definition of the question labels is provided <a href=\"https://cogcomp.seas.upenn.edu/Data/QA/QC/definition.html\">here</a>.\n",
    "<p/>\n",
    "\n",
    "Provide a quantitative description of the dataset:\n",
    "<ol>\n",
    "<li>Distribution of the question labels (number / percentage) - separately for coarse and fine labels.\n",
    "<li>Distribution of the number of tokens per question - overall and per label.\n",
    "<li>Vocabulary size and number of tokens overall and per label.\n",
    "<li>Top 20 more frequent words overall and per label\n",
    "<li>Number of words occurring 1,2,3,4 and 5 times\n",
    "</ol>\n",
    "\n",
    "For this type of exploration, the <a href=\"https://pandas.pydata.org/\">pandas</a> library is extremely convenient.\n",
    "In particular, explore the function dataframe.describe().  You can use other code if you prefer.\n"
   ]
  },
  {
   "cell_type": "markdown",
   "metadata": {},
   "source": [
    "<a name=\"q1.4\"></a>\n",
    "<h3>Q1.4. Classifier Interface, Evaluation Metrics, Confusion Matrix</h3>\n",
    "\n",
    "Define the Python interface (functions or class according to your preference) of a question classifier so that the \n",
    "function accuracy_score and classification_report from the sklearn.metrics module can be used.\n",
    "\n",
    "Define a function evaluate_classifier that takes a trained classifier and reports classification results for \n",
    "coarse and fine categories.\n",
    "\n",
    "Define a function confusion_matrix(model) which prints a confusion matrix for the coarse level categories in the same\n",
    "way as in HW1 Question 3.\n"
   ]
  },
  {
   "cell_type": "markdown",
   "metadata": {},
   "source": [
    "<a name=\"q1.5\"></a>\n",
    "<h3>Q1.5 Baseline Classifier</h3>\n",
    "\n",
    "Implement a baseline classifier for the 6 coarse labels using the heuristics described in the paper in Section 2.1\n",
    "(of the form – If a query starts with Who or Whom: type Human).\n",
    "<p/>\n",
    "\n",
    "Report on the accuracy, precision, recall, and F1 measure for all the coarse labels, and provide\n",
    "the confusion matrix for the 6 coarse labels.\n",
    "<p/>\n",
    "\n",
    "Analyze the errors by listing types of errors (false positives and false negatives for each of the 6 labels).\n"
   ]
  },
  {
   "cell_type": "markdown",
   "metadata": {},
   "source": [
    "<a name=\"q1.6\"></a>\n",
    "<h3>Q1.6 Features-based Classifier</h3>\n",
    "\n",
    "Implement a feature-based classifier for the 6 coarse labels using the types of features described in the paper Section 3.2: words, POS tags, NER tags.  \n",
    "<p/>\n",
    "\n",
    "Use the <a href=\"https://spacy.io/usage/spacy-101\">spacy</a> library to perform pre-processing of the questions - including POS tagging and Named Entity Recognition and Noun Chunks detection.  Spacy comes with excellent pre-trained models for English and other languages.\n",
    "Installing Spacy requires the following steps (see <a href=\"https://spacy.io/usage/spacy-101#annotations-ner\">spacy documentation</a>):\n"
   ]
  },
  {
   "cell_type": "code",
   "execution_count": 4,
   "metadata": {
    "collapsed": true,
    "jupyter": {
     "outputs_hidden": true
    }
   },
   "outputs": [
    {
     "name": "stdout",
     "output_type": "stream",
     "text": [
      "Requirement already satisfied: spacy in c:\\users\\michael\\.conda\\envs\\nlp21\\lib\\site-packages (2.3.4)\n",
      "Requirement already satisfied: tqdm<5.0.0,>=4.38.0 in c:\\users\\michael\\.conda\\envs\\nlp21\\lib\\site-packages (from spacy) (4.49.0)\n",
      "Requirement already satisfied: catalogue<1.1.0,>=0.0.7 in c:\\users\\michael\\.conda\\envs\\nlp21\\lib\\site-packages (from spacy) (1.0.0)\n",
      "Requirement already satisfied: murmurhash<1.1.0,>=0.28.0 in c:\\users\\michael\\.conda\\envs\\nlp21\\lib\\site-packages (from spacy) (1.0.5)\n",
      "Requirement already satisfied: thinc<7.5.0,>=7.4.1 in c:\\users\\michael\\.conda\\envs\\nlp21\\lib\\site-packages (from spacy) (7.4.4)\n",
      "Requirement already satisfied: setuptools in c:\\users\\michael\\.conda\\envs\\nlp21\\lib\\site-packages (from spacy) (49.6.0.post20201009)\n",
      "Requirement already satisfied: srsly<1.1.0,>=1.0.2 in c:\\users\\michael\\.conda\\envs\\nlp21\\lib\\site-packages (from spacy) (1.0.5)\n",
      "Requirement already satisfied: plac<1.2.0,>=0.9.6 in c:\\users\\michael\\.conda\\envs\\nlp21\\lib\\site-packages (from spacy) (0.9.6)\n",
      "Requirement already satisfied: blis<0.8.0,>=0.4.0; python_version >= \"3.6\" in c:\\users\\michael\\.conda\\envs\\nlp21\\lib\\site-packages (from spacy) (0.7.4)\n",
      "Requirement already satisfied: requests<3.0.0,>=2.13.0 in c:\\users\\michael\\.conda\\envs\\nlp21\\lib\\site-packages (from spacy) (2.24.0)\n",
      "Requirement already satisfied: numpy>=1.15.0 in c:\\users\\michael\\.conda\\envs\\nlp21\\lib\\site-packages (from spacy) (1.19.4)\n",
      "Requirement already satisfied: cymem<2.1.0,>=2.0.2 in c:\\users\\michael\\.conda\\envs\\nlp21\\lib\\site-packages (from spacy) (2.0.5)\n",
      "Requirement already satisfied: wasabi<1.1.0,>=0.4.0 in c:\\users\\michael\\.conda\\envs\\nlp21\\lib\\site-packages (from spacy) (0.8.0)\n",
      "Requirement already satisfied: preshed<3.1.0,>=3.0.2 in c:\\users\\michael\\.conda\\envs\\nlp21\\lib\\site-packages (from spacy) (3.0.5)\n",
      "Requirement already satisfied: chardet<4,>=3.0.2 in c:\\users\\michael\\.conda\\envs\\nlp21\\lib\\site-packages (from requests<3.0.0,>=2.13.0->spacy) (3.0.4)\n",
      "Requirement already satisfied: idna<3,>=2.5 in c:\\users\\michael\\.conda\\envs\\nlp21\\lib\\site-packages (from requests<3.0.0,>=2.13.0->spacy) (2.10)\n",
      "Requirement already satisfied: certifi>=2017.4.17 in c:\\users\\michael\\.conda\\envs\\nlp21\\lib\\site-packages (from requests<3.0.0,>=2.13.0->spacy) (2020.12.5)\n",
      "Requirement already satisfied: urllib3!=1.25.0,!=1.25.1,<1.26,>=1.21.1 in c:\\users\\michael\\.conda\\envs\\nlp21\\lib\\site-packages (from requests<3.0.0,>=2.13.0->spacy) (1.25.11)\n",
      "Requirement already satisfied: en_core_web_sm==2.3.1 from https://github.com/explosion/spacy-models/releases/download/en_core_web_sm-2.3.1/en_core_web_sm-2.3.1.tar.gz#egg=en_core_web_sm==2.3.1 in c:\\users\\michael\\.conda\\envs\\nlp21\\lib\\site-packages (2.3.1)\n",
      "Requirement already satisfied: spacy<2.4.0,>=2.3.0 in c:\\users\\michael\\.conda\\envs\\nlp21\\lib\\site-packages (from en_core_web_sm==2.3.1) (2.3.4)\n",
      "Requirement already satisfied: cymem<2.1.0,>=2.0.2 in c:\\users\\michael\\.conda\\envs\\nlp21\\lib\\site-packages (from spacy<2.4.0,>=2.3.0->en_core_web_sm==2.3.1) (2.0.5)\n",
      "Requirement already satisfied: thinc<7.5.0,>=7.4.1 in c:\\users\\michael\\.conda\\envs\\nlp21\\lib\\site-packages (from spacy<2.4.0,>=2.3.0->en_core_web_sm==2.3.1) (7.4.4)\n",
      "Requirement already satisfied: tqdm<5.0.0,>=4.38.0 in c:\\users\\michael\\.conda\\envs\\nlp21\\lib\\site-packages (from spacy<2.4.0,>=2.3.0->en_core_web_sm==2.3.1) (4.49.0)\n",
      "Requirement already satisfied: plac<1.2.0,>=0.9.6 in c:\\users\\michael\\.conda\\envs\\nlp21\\lib\\site-packages (from spacy<2.4.0,>=2.3.0->en_core_web_sm==2.3.1) (0.9.6)\n",
      "Requirement already satisfied: blis<0.8.0,>=0.4.0; python_version >= \"3.6\" in c:\\users\\michael\\.conda\\envs\\nlp21\\lib\\site-packages (from spacy<2.4.0,>=2.3.0->en_core_web_sm==2.3.1) (0.7.4)\n",
      "Requirement already satisfied: numpy>=1.15.0 in c:\\users\\michael\\.conda\\envs\\nlp21\\lib\\site-packages (from spacy<2.4.0,>=2.3.0->en_core_web_sm==2.3.1) (1.19.4)\n",
      "Requirement already satisfied: wasabi<1.1.0,>=0.4.0 in c:\\users\\michael\\.conda\\envs\\nlp21\\lib\\site-packages (from spacy<2.4.0,>=2.3.0->en_core_web_sm==2.3.1) (0.8.0)\n",
      "Requirement already satisfied: requests<3.0.0,>=2.13.0 in c:\\users\\michael\\.conda\\envs\\nlp21\\lib\\site-packages (from spacy<2.4.0,>=2.3.0->en_core_web_sm==2.3.1) (2.24.0)\n",
      "Requirement already satisfied: murmurhash<1.1.0,>=0.28.0 in c:\\users\\michael\\.conda\\envs\\nlp21\\lib\\site-packages (from spacy<2.4.0,>=2.3.0->en_core_web_sm==2.3.1) (1.0.5)\n",
      "Requirement already satisfied: preshed<3.1.0,>=3.0.2 in c:\\users\\michael\\.conda\\envs\\nlp21\\lib\\site-packages (from spacy<2.4.0,>=2.3.0->en_core_web_sm==2.3.1) (3.0.5)\n",
      "Requirement already satisfied: catalogue<1.1.0,>=0.0.7 in c:\\users\\michael\\.conda\\envs\\nlp21\\lib\\site-packages (from spacy<2.4.0,>=2.3.0->en_core_web_sm==2.3.1) (1.0.0)\n",
      "Requirement already satisfied: setuptools in c:\\users\\michael\\.conda\\envs\\nlp21\\lib\\site-packages (from spacy<2.4.0,>=2.3.0->en_core_web_sm==2.3.1) (49.6.0.post20201009)\n",
      "Requirement already satisfied: srsly<1.1.0,>=1.0.2 in c:\\users\\michael\\.conda\\envs\\nlp21\\lib\\site-packages (from spacy<2.4.0,>=2.3.0->en_core_web_sm==2.3.1) (1.0.5)\n",
      "Requirement already satisfied: chardet<4,>=3.0.2 in c:\\users\\michael\\.conda\\envs\\nlp21\\lib\\site-packages (from requests<3.0.0,>=2.13.0->spacy<2.4.0,>=2.3.0->en_core_web_sm==2.3.1) (3.0.4)\n",
      "Requirement already satisfied: idna<3,>=2.5 in c:\\users\\michael\\.conda\\envs\\nlp21\\lib\\site-packages (from requests<3.0.0,>=2.13.0->spacy<2.4.0,>=2.3.0->en_core_web_sm==2.3.1) (2.10)\n",
      "Requirement already satisfied: certifi>=2017.4.17 in c:\\users\\michael\\.conda\\envs\\nlp21\\lib\\site-packages (from requests<3.0.0,>=2.13.0->spacy<2.4.0,>=2.3.0->en_core_web_sm==2.3.1) (2020.12.5)\n",
      "Requirement already satisfied: urllib3!=1.25.0,!=1.25.1,<1.26,>=1.21.1 in c:\\users\\michael\\.conda\\envs\\nlp21\\lib\\site-packages (from requests<3.0.0,>=2.13.0->spacy<2.4.0,>=2.3.0->en_core_web_sm==2.3.1) (1.25.11)\n",
      "[+] Download and installation successful\n",
      "You can now load the model via spacy.load('en_core_web_sm')\n"
     ]
    }
   ],
   "source": [
    "# This installs the Spacy library (13MB)\n",
    "!pip install spacy\n",
    "# This downloads pre-trained models for POS tagging / NER / Noun chunks in English (34MB)\n",
    "!python -m spacy download en_core_web_sm"
   ]
  },
  {
   "cell_type": "code",
   "execution_count": 5,
   "metadata": {},
   "outputs": [
    {
     "name": "stdout",
     "output_type": "stream",
     "text": [
      "(Apple, U.K., $1 billion)\n",
      "ORG\n"
     ]
    }
   ],
   "source": [
    "import spacy\n",
    "nlp = spacy.load('en_core_web_sm')\n",
    "doc = nlp('Apple is looking at buying U.K. startup for $1 billion')\n",
    "print(doc.ents)\n",
    "print(doc.ents[0].label_)"
   ]
  },
  {
   "cell_type": "markdown",
   "metadata": {},
   "source": [
    "Invoking the 'nlp()' function of spacy performs a set of analyses on the text, including: sentence separation, tokenization, lemmatization, parts of speech tagging, \n",
    "Noun-phrase chunking, named entity recognition and syntactic parsing.  Information about these analyses is retrieved using the spacy document properties.\n",
    "\n",
    "As indicated in the paper, we want to extract the following information as features for the task of question classification:\n",
    "<ul>\n",
    "  <li>Tokens</li>\n",
    "  <li>Lemmas</li>\n",
    "  <li>Parts of speech tags</li>\n",
    "  <li>Noun phrase chunks</li>\n",
    "  <li>Named entities</li>\n",
    "</ul>\n",
    "\n",
    "Here are starting points to learn how to extract this information from the nlp analysis:"
   ]
  },
  {
   "cell_type": "code",
   "execution_count": 6,
   "metadata": {},
   "outputs": [
    {
     "name": "stdout",
     "output_type": "stream",
     "text": [
      "Token: Apple - Lemma: Apple - POS: PROPN\n",
      "Token: is - Lemma: be - POS: AUX\n",
      "Token: looking - Lemma: look - POS: VERB\n",
      "Token: at - Lemma: at - POS: ADP\n",
      "Token: buying - Lemma: buy - POS: VERB\n",
      "Token: U.K. - Lemma: U.K. - POS: PROPN\n",
      "Token: startup - Lemma: startup - POS: NOUN\n",
      "Token: for - Lemma: for - POS: ADP\n",
      "Token: $ - Lemma: $ - POS: SYM\n",
      "Token: 1 - Lemma: 1 - POS: NUM\n",
      "Token: billion - Lemma: billion - POS: NUM\n"
     ]
    }
   ],
   "source": [
    "import spacy\n",
    "nlp = spacy.load('en_core_web_sm')\n",
    "doc = nlp('Apple is looking at buying U.K. startup for $1 billion')\n",
    "  \n",
    "# Token level features retrieved by Spacy: token, lemma, POS\n",
    "for x in doc:   # Each x is a Token\n",
    "    print(f\"Token: {x} - Lemma: {x.lemma_} - POS: {x.pos_}\")"
   ]
  },
  {
   "cell_type": "code",
   "execution_count": 7,
   "metadata": {},
   "outputs": [
    {
     "name": "stdout",
     "output_type": "stream",
     "text": [
      "(Apple, U.K., $1 billion)\n",
      "Apple - 0 - 1 - ORG\n",
      "U.K. - 5 - 6 - GPE\n",
      "$1 billion - 8 - 11 - MONEY\n"
     ]
    }
   ],
   "source": [
    "# Span level features retrieved by Spacy: named entities, start (0-based index), end (index just after the span), category\n",
    "print(doc.ents)\n",
    "for e in doc.ents: \n",
    "    print(f\"{e} - {e.start} - {e.end} - {e.label_}\")"
   ]
  },
  {
   "cell_type": "code",
   "execution_count": 8,
   "metadata": {},
   "outputs": [
    {
     "name": "stdout",
     "output_type": "stream",
     "text": [
      "[Apple, U.K. startup]\n",
      "0 - 1 - Apple\n",
      "5 - 7 - startup\n"
     ]
    }
   ],
   "source": [
    "# Span level features retrieved by Spacy: noun chunks\n",
    "print(list(doc.noun_chunks))\n",
    "for c in doc.noun_chunks: \n",
    "    print(f\"{c.start} - {c.end} - {c.root}\")"
   ]
  },
  {
   "cell_type": "markdown",
   "metadata": {},
   "source": [
    "The paper does not explicitly indicate how to encode the features it lists and is not precise about the features named `related words` (words which are usually associated with a specific type of questions).  For example:\n",
    "<ol>\n",
    "<li>Word features can be encoded in different ways: noise words filtered or not, with or without lemmatization, with or without case normalization (all lower-case).  \n",
    "<li>POS features can be encoded in different ways: as a bag of POS-tags, or associated with the word in a bag-of-tagged words such as 'Apple/PROPN' \n",
    "<li>Chunks can be encoded as a bag of chunk-roots \n",
    "<li>Examples of \"related words\" per category are provided for a few categories: <a href=\"https://cogcomp.seas.upenn.edu/Data/QA/QC/lists/prof\">profession</a>,\n",
    "    <a href=\"https://cogcomp.seas.upenn.edu/Data/QA/QC/lists/mount\">mountains</a> and <a href=\"https://cogcomp.seas.upenn.edu/Data/QA/QC/lists/food\">food</a>.\n",
    "  You should learn the related words list from the training dataset by detecting words which have a high chi-square\n",
    "value with each category.  Read in <a href=\"http://scikit-learn.org/stable/modules/generated/sklearn.feature_selection.chi2.html\">sklearn.feature_selection.chi2</a> for a discussion of how such words can be efficiently computed using scikit-learn.\n",
    "</li>\n",
    "</ol>\n"
   ]
  },
  {
   "cell_type": "markdown",
   "metadata": {},
   "source": [
    "<a name=\"q1.6.1\"></a>\n",
    "<h4>Q1.6.1 Feature Extraction</h4>\n",
    "\n",
    "Discuss a priori what are good ways to encode these features (lemma, POS, NER, chunk, related words) - provide examples that explain your intuition.\n",
    "<p/>\n",
    "Implement a feature extraction function that turns a question into a feature vector appropriate for the scikit-learn classifiers.\n",
    "Adopt the example shown in the scikit-learn documentation: \n",
    "<a href=\"https://scikit-learn.org/stable/modules/feature_extraction.html#loading-features-from-dicts\">loading features from dicts</a>."
   ]
  },
  {
   "cell_type": "markdown",
   "metadata": {},
   "source": [
    "<a name=\"q1.6.2\"></a>\n",
    "<h4>Q1.6.2 Train Models</h4>\n",
    "\n",
    "Train scikit-learn based classifiers for:\n",
    "<ol>\n",
    "<li>Coarse labels\n",
    "<li>All labels as a flat classifier\n",
    "<li>A hierarchical classifier which predicts the fine-grained labels given the coarse label as proposed in the paper.  Implement this as a two-step procedure - run the coarse-label classifier, then a second level classifier which takes the prediction of the first classifier as input (one finer classifier per coarse category).\n",
    "</ol>\n",
    "\n",
    "For each of the three classifiers, report:\n",
    "<ol>\n",
    "<li>Accuracy, Precision, Recall, F-measure per label and confusion matrix.\n",
    "<li>Provide examples of prediction errors (positive and negative).\n",
    "<li>Discuss the most ambiguous label pairs (identified in the confusion matrix) and discuss whether the features you have used provide sufficient information to disambiguate the cases.\n",
    "</ol>\n",
    "\n",
    "You should experiment with different classifiers from those illustrated in the\n",
    "<a href=\"https://scikit-learn.org/stable/auto_examples/text/plot_document_classification_20newsgroups.html\">\n",
    "Classification of text documents using sparse features</a> example.\n",
    "<p/>"
   ]
  },
  {
   "cell_type": "markdown",
   "metadata": {},
   "source": [
    "<a name=\"q1.7\"></a>\n",
    "<h3>Q1.7 Optional</h3>\n",
    "\n",
    "1.7.1 Analyze which of the features are most helpful for this task among lemma, POS, NER, Chunks and Related Words.\n",
    "(This analysis is called <a href=\"https://en.wikipedia.org/wiki/Ablation_(artificial_intelligence)#:~:text=In%20artificial%20intelligence%20(AI)%2C,component%20to%20the%20overall%20system.\">ablation analysis</a>).\n",
    "<p/>\n",
    "\n",
    "1.7.2 The dataset is quite small (5,500 questions in the training dataset for 50 labels).\n",
    "How would you determine whether your model overfits on this data? "
   ]
  },
  {
   "cell_type": "markdown",
   "metadata": {},
   "source": [
    "<hr/>\n",
    "<a name=\"q2\"></a>\n",
    "<h2>Q2. Document Classification</h2>\n",
    "\n",
    "<a name=\"q2.1\"></a>\n",
    "<h3>Q2.1. Reuters Dataset</h3>\n",
    "\n",
    "Execute the notebook tutorial of Scikit-Learn on text classification: \n",
    "<a href=\"http://scikit-learn.org/dev/auto_examples/applications/plot_out_of_core_classification.html#example-applications-plot-out-of-core-classification-py\">out of core classification</a>.\n",
    "<p/>"
   ]
  },
  {
   "cell_type": "code",
   "execution_count": 2,
   "metadata": {},
   "outputs": [],
   "source": [
    "\n",
    "from glob import glob\n",
    "import itertools\n",
    "import os.path\n",
    "import re\n",
    "import tarfile\n",
    "import time\n",
    "import sys\n",
    "\n",
    "import numpy as np\n",
    "import matplotlib.pyplot as plt\n",
    "from matplotlib import rcParams\n",
    "import pandas as pd\n",
    "import seaborn as sns\n",
    "\n",
    "from html.parser import HTMLParser\n",
    "from urllib.request import urlretrieve\n",
    "from sklearn.datasets import get_data_home\n",
    "from sklearn.feature_extraction.text import HashingVectorizer\n",
    "from sklearn.linear_model import SGDClassifier\n",
    "from sklearn.linear_model import PassiveAggressiveClassifier\n",
    "from sklearn.linear_model import Perceptron\n",
    "from sklearn.naive_bayes import MultinomialNB\n",
    "\n",
    "\n",
    "def _not_in_sphinx():\n",
    "    # Hack to detect whether we are running by the sphinx builder\n",
    "    return '__file__' in globals()\n",
    "\n",
    "class ReutersParser(HTMLParser):\n",
    "    \"\"\"Utility class to parse a SGML file and yield documents one at a time.\"\"\"\n",
    "\n",
    "    def __init__(self, encoding='latin-1'):\n",
    "        HTMLParser.__init__(self)\n",
    "        self._reset()\n",
    "        self.encoding = encoding\n",
    "\n",
    "    def handle_starttag(self, tag, attrs):\n",
    "        method = 'start_' + tag\n",
    "        getattr(self, method, lambda x: None)(attrs)\n",
    "\n",
    "    def handle_endtag(self, tag):\n",
    "        method = 'end_' + tag\n",
    "        getattr(self, method, lambda: None)()\n",
    "\n",
    "    def _reset(self):\n",
    "        self.in_title = 0\n",
    "        self.in_body = 0\n",
    "        self.in_topics = 0\n",
    "        self.in_topic_d = 0\n",
    "        self.title = \"\"\n",
    "        self.body = \"\"\n",
    "        self.topics = []\n",
    "        self.topic_d = \"\"\n",
    "\n",
    "    def parse(self, fd):\n",
    "        self.docs = []\n",
    "        for chunk in fd:\n",
    "            self.feed(chunk.decode(self.encoding))\n",
    "            for doc in self.docs:\n",
    "                yield doc\n",
    "            self.docs = []\n",
    "        self.close()\n",
    "\n",
    "    def handle_data(self, data):\n",
    "        if self.in_body:\n",
    "            self.body += data\n",
    "        elif self.in_title:\n",
    "            self.title += data\n",
    "        elif self.in_topic_d:\n",
    "            self.topic_d += data\n",
    "\n",
    "    def start_reuters(self, attributes):\n",
    "        pass\n",
    "\n",
    "    def end_reuters(self):\n",
    "        self.body = re.sub(r'\\s+', r' ', self.body)\n",
    "        self.docs.append({'title': self.title,\n",
    "                          'body': self.body,\n",
    "                          'topics': self.topics})\n",
    "        self._reset()\n",
    "\n",
    "    def start_title(self, attributes):\n",
    "        self.in_title = 1\n",
    "\n",
    "    def end_title(self):\n",
    "        self.in_title = 0\n",
    "\n",
    "    def start_body(self, attributes):\n",
    "        self.in_body = 1\n",
    "\n",
    "    def end_body(self):\n",
    "        self.in_body = 0\n",
    "\n",
    "    def start_topics(self, attributes):\n",
    "        self.in_topics = 1\n",
    "\n",
    "    def end_topics(self):\n",
    "        self.in_topics = 0\n",
    "\n",
    "    def start_d(self, attributes):\n",
    "        self.in_topic_d = 1\n",
    "\n",
    "    def end_d(self):\n",
    "        self.in_topic_d = 0\n",
    "        self.topics.append(self.topic_d)\n",
    "        self.topic_d = \"\"\n",
    "\n",
    "\n",
    "def stream_reuters_documents(data_path=None):\n",
    "    \"\"\"Iterate over documents of the Reuters dataset.\n",
    "\n",
    "    The Reuters archive will automatically be downloaded and uncompressed if\n",
    "    the `data_path` directory does not exist.\n",
    "\n",
    "    Documents are represented as dictionaries with 'body' (str),\n",
    "    'title' (str), 'topics' (list(str)) keys.\n",
    "\n",
    "    \"\"\"\n",
    "\n",
    "    DOWNLOAD_URL = ('http://archive.ics.uci.edu/ml/machine-learning-databases/'\n",
    "                    'reuters21578-mld/reuters21578.tar.gz')\n",
    "    ARCHIVE_FILENAME = 'reuters21578.tar.gz'\n",
    "\n",
    "    if data_path is None:\n",
    "        data_path = os.path.join(get_data_home(), \"reuters\")\n",
    "    if not os.path.exists(data_path):\n",
    "        \"\"\"Download the dataset.\"\"\"\n",
    "        print(\"downloading dataset (once and for all) into %s\" %\n",
    "              data_path)\n",
    "        os.mkdir(data_path)\n",
    "\n",
    "        def progress(blocknum, bs, size):\n",
    "            total_sz_mb = '%.2f MB' % (size / 1e6)\n",
    "            current_sz_mb = '%.2f MB' % ((blocknum * bs) / 1e6)\n",
    "            if _not_in_sphinx():\n",
    "                sys.stdout.write(\n",
    "                    '\\rdownloaded %s / %s' % (current_sz_mb, total_sz_mb))\n",
    "\n",
    "        archive_path = os.path.join(data_path, ARCHIVE_FILENAME)\n",
    "        urlretrieve(DOWNLOAD_URL, filename=archive_path,\n",
    "                    reporthook=progress)\n",
    "        if _not_in_sphinx():\n",
    "            sys.stdout.write('\\r')\n",
    "        print(\"untarring Reuters dataset...\")\n",
    "        tarfile.open(archive_path, 'r:gz').extractall(data_path)\n",
    "        print(\"done.\")\n",
    "\n",
    "    parser = ReutersParser()\n",
    "    for filename in glob(os.path.join(data_path, \"*.sgm\")):\n",
    "        for doc in parser.parse(open(filename, 'rb')):\n",
    "            yield doc\n",
    "    "
   ]
  },
  {
   "cell_type": "code",
   "execution_count": 3,
   "metadata": {},
   "outputs": [
    {
     "name": "stdout",
     "output_type": "stream",
     "text": [
      "Test set is 975 documents (104 positive)\n",
      "                 SGD classifier : \t   982 train docs (   146 positive)    975 test docs (   104 positive) accuracy: 0.923 in 0.97s ( 1007 docs/s)\n",
      "          Perceptron classifier : \t   982 train docs (   146 positive)    975 test docs (   104 positive) accuracy: 0.925 in 0.98s ( 1003 docs/s)\n",
      "      NB Multinomial classifier : \t   982 train docs (   146 positive)    975 test docs (   104 positive) accuracy: 0.897 in 0.99s (  987 docs/s)\n",
      "  Passive-Aggressive classifier : \t   982 train docs (   146 positive)    975 test docs (   104 positive) accuracy: 0.913 in 1.00s (  984 docs/s)\n",
      "\n",
      "\n",
      "                 SGD classifier : \t  3404 train docs (   451 positive)    975 test docs (   104 positive) accuracy: 0.950 in 2.19s ( 1557 docs/s)\n",
      "          Perceptron classifier : \t  3404 train docs (   451 positive)    975 test docs (   104 positive) accuracy: 0.947 in 2.19s ( 1555 docs/s)\n",
      "      NB Multinomial classifier : \t  3404 train docs (   451 positive)    975 test docs (   104 positive) accuracy: 0.909 in 2.20s ( 1547 docs/s)\n",
      "  Passive-Aggressive classifier : \t  3404 train docs (   451 positive)    975 test docs (   104 positive) accuracy: 0.955 in 2.20s ( 1545 docs/s)\n",
      "\n",
      "\n",
      "                 SGD classifier : \t  6356 train docs (   829 positive)    975 test docs (   104 positive) accuracy: 0.962 in 3.48s ( 1826 docs/s)\n",
      "          Perceptron classifier : \t  6356 train docs (   829 positive)    975 test docs (   104 positive) accuracy: 0.948 in 3.48s ( 1824 docs/s)\n",
      "      NB Multinomial classifier : \t  6356 train docs (   829 positive)    975 test docs (   104 positive) accuracy: 0.927 in 3.49s ( 1819 docs/s)\n",
      "  Passive-Aggressive classifier : \t  6356 train docs (   829 positive)    975 test docs (   104 positive) accuracy: 0.965 in 3.50s ( 1817 docs/s)\n",
      "\n",
      "\n",
      "                 SGD classifier : \t  9273 train docs (  1275 positive)    975 test docs (   104 positive) accuracy: 0.950 in 4.80s ( 1929 docs/s)\n",
      "          Perceptron classifier : \t  9273 train docs (  1275 positive)    975 test docs (   104 positive) accuracy: 0.869 in 4.81s ( 1928 docs/s)\n",
      "      NB Multinomial classifier : \t  9273 train docs (  1275 positive)    975 test docs (   104 positive) accuracy: 0.943 in 4.82s ( 1924 docs/s)\n",
      "  Passive-Aggressive classifier : \t  9273 train docs (  1275 positive)    975 test docs (   104 positive) accuracy: 0.965 in 4.82s ( 1923 docs/s)\n",
      "\n",
      "\n",
      "                 SGD classifier : \t 11688 train docs (  1495 positive)    975 test docs (   104 positive) accuracy: 0.967 in 6.02s ( 1940 docs/s)\n",
      "          Perceptron classifier : \t 11688 train docs (  1495 positive)    975 test docs (   104 positive) accuracy: 0.959 in 6.03s ( 1939 docs/s)\n",
      "      NB Multinomial classifier : \t 11688 train docs (  1495 positive)    975 test docs (   104 positive) accuracy: 0.943 in 6.04s ( 1936 docs/s)\n",
      "  Passive-Aggressive classifier : \t 11688 train docs (  1495 positive)    975 test docs (   104 positive) accuracy: 0.962 in 6.04s ( 1935 docs/s)\n",
      "\n",
      "\n",
      "                 SGD classifier : \t 14431 train docs (  1859 positive)    975 test docs (   104 positive) accuracy: 0.958 in 7.28s ( 1982 docs/s)\n",
      "          Perceptron classifier : \t 14431 train docs (  1859 positive)    975 test docs (   104 positive) accuracy: 0.956 in 7.28s ( 1982 docs/s)\n",
      "      NB Multinomial classifier : \t 14431 train docs (  1859 positive)    975 test docs (   104 positive) accuracy: 0.941 in 7.29s ( 1979 docs/s)\n",
      "  Passive-Aggressive classifier : \t 14431 train docs (  1859 positive)    975 test docs (   104 positive) accuracy: 0.972 in 7.29s ( 1978 docs/s)\n",
      "\n",
      "\n",
      "                 SGD classifier : \t 17254 train docs (  2157 positive)    975 test docs (   104 positive) accuracy: 0.961 in 8.55s ( 2017 docs/s)\n",
      "          Perceptron classifier : \t 17254 train docs (  2157 positive)    975 test docs (   104 positive) accuracy: 0.953 in 8.56s ( 2016 docs/s)\n",
      "      NB Multinomial classifier : \t 17254 train docs (  2157 positive)    975 test docs (   104 positive) accuracy: 0.947 in 8.57s ( 2013 docs/s)\n",
      "  Passive-Aggressive classifier : \t 17254 train docs (  2157 positive)    975 test docs (   104 positive) accuracy: 0.970 in 8.57s ( 2012 docs/s)\n",
      "\n",
      "\n"
     ]
    }
   ],
   "source": [
    "vectorizer = HashingVectorizer(decode_error='ignore', n_features=2 ** 18,\n",
    "                               alternate_sign=False)\n",
    "\n",
    "\n",
    "# Iterator over parsed Reuters SGML files.\n",
    "data_stream = stream_reuters_documents()\n",
    "\n",
    "# We learn a binary classification between the \"acq\" class and all the others.\n",
    "# \"acq\" was chosen as it is more or less evenly distributed in the Reuters\n",
    "# files. For other datasets, one should take care of creating a test set with\n",
    "# a realistic portion of positive instances.\n",
    "all_classes = np.array([0, 1])\n",
    "positive_class = 'acq'\n",
    "\n",
    "# Here are some classifiers that support the `partial_fit` method\n",
    "partial_fit_classifiers = {\n",
    "    'SGD': SGDClassifier(max_iter=5),\n",
    "    'Perceptron': Perceptron(),\n",
    "    'NB Multinomial': MultinomialNB(alpha=0.01),\n",
    "    'Passive-Aggressive': PassiveAggressiveClassifier(),\n",
    "}\n",
    "\n",
    "\n",
    "def get_minibatch(doc_iter, size, pos_class=positive_class):\n",
    "    \"\"\"Extract a minibatch of examples, return a tuple X_text, y.\n",
    "\n",
    "    Note: size is before excluding invalid docs with no topics assigned.\n",
    "\n",
    "    \"\"\"\n",
    "    data = [('{title}\\n\\n{body}'.format(**doc), pos_class in doc['topics'])\n",
    "            for doc in itertools.islice(doc_iter, size)\n",
    "            if doc['topics']]\n",
    "    if not len(data):\n",
    "        return np.asarray([], dtype=int), np.asarray([], dtype=int)\n",
    "    X_text, y = zip(*data)\n",
    "    return X_text, np.asarray(y, dtype=int)\n",
    "\n",
    "\n",
    "def iter_minibatches(doc_iter, minibatch_size):\n",
    "    \"\"\"Generator of minibatches.\"\"\"\n",
    "    X_text, y = get_minibatch(doc_iter, minibatch_size)\n",
    "    while len(X_text):\n",
    "        yield X_text, y\n",
    "        X_text, y = get_minibatch(doc_iter, minibatch_size)\n",
    "\n",
    "\n",
    "# test data statistics\n",
    "test_stats = {'n_test': 0, 'n_test_pos': 0}\n",
    "\n",
    "# First we hold out a number of examples to estimate accuracy\n",
    "n_test_documents = 1000\n",
    "tick = time.time()\n",
    "X_test_text, y_test = get_minibatch(data_stream, 1000)\n",
    "parsing_time = time.time() - tick\n",
    "tick = time.time()\n",
    "X_test = vectorizer.transform(X_test_text)\n",
    "vectorizing_time = time.time() - tick\n",
    "test_stats['n_test'] += len(y_test)\n",
    "test_stats['n_test_pos'] += sum(y_test)\n",
    "print(\"Test set is %d documents (%d positive)\" % (len(y_test), sum(y_test)))\n",
    "\n",
    "\n",
    "def progress(cls_name, stats):\n",
    "    \"\"\"Report progress information, return a string.\"\"\"\n",
    "    duration = time.time() - stats['t0']\n",
    "    s = \"%20s classifier : \\t\" % cls_name\n",
    "    s += \"%(n_train)6d train docs (%(n_train_pos)6d positive) \" % stats\n",
    "    s += \"%(n_test)6d test docs (%(n_test_pos)6d positive) \" % test_stats\n",
    "    s += \"accuracy: %(accuracy).3f \" % stats\n",
    "    s += \"in %.2fs (%5d docs/s)\" % (duration, stats['n_train'] / duration)\n",
    "    return s\n",
    "\n",
    "\n",
    "cls_stats = {}\n",
    "\n",
    "for cls_name in partial_fit_classifiers:\n",
    "    stats = {'n_train': 0, 'n_train_pos': 0,\n",
    "             'accuracy': 0.0, 'accuracy_history': [(0, 0)], 't0': time.time(),\n",
    "             'runtime_history': [(0, 0)], 'total_fit_time': 0.0}\n",
    "    cls_stats[cls_name] = stats\n",
    "\n",
    "get_minibatch(data_stream, n_test_documents)\n",
    "# Discard test set\n",
    "\n",
    "# We will feed the classifier with mini-batches of 1000 documents; this means\n",
    "# we have at most 1000 docs in memory at any time.  The smaller the document\n",
    "# batch, the bigger the relative overhead of the partial fit methods.\n",
    "minibatch_size = 1000\n",
    "\n",
    "# Create the data_stream that parses Reuters SGML files and iterates on\n",
    "# documents as a stream.\n",
    "minibatch_iterators = iter_minibatches(data_stream, minibatch_size)\n",
    "total_vect_time = 0.0\n",
    "\n",
    "# Main loop : iterate on mini-batches of examples\n",
    "for i, (X_train_text, y_train) in enumerate(minibatch_iterators):\n",
    "\n",
    "    tick = time.time()\n",
    "    X_train = vectorizer.transform(X_train_text)\n",
    "    total_vect_time += time.time() - tick\n",
    "\n",
    "    for cls_name, cls in partial_fit_classifiers.items():\n",
    "        tick = time.time()\n",
    "        # update estimator with examples in the current mini-batch\n",
    "        cls.partial_fit(X_train, y_train, classes=all_classes)\n",
    "\n",
    "        # accumulate test accuracy stats\n",
    "        cls_stats[cls_name]['total_fit_time'] += time.time() - tick\n",
    "        cls_stats[cls_name]['n_train'] += X_train.shape[0]\n",
    "        cls_stats[cls_name]['n_train_pos'] += sum(y_train)\n",
    "        tick = time.time()\n",
    "        cls_stats[cls_name]['accuracy'] = cls.score(X_test, y_test)\n",
    "        cls_stats[cls_name]['prediction_time'] = time.time() - tick\n",
    "        acc_history = (cls_stats[cls_name]['accuracy'],\n",
    "                       cls_stats[cls_name]['n_train'])\n",
    "        cls_stats[cls_name]['accuracy_history'].append(acc_history)\n",
    "        run_history = (cls_stats[cls_name]['accuracy'],\n",
    "                       total_vect_time + cls_stats[cls_name]['total_fit_time'])\n",
    "        cls_stats[cls_name]['runtime_history'].append(run_history)\n",
    "\n",
    "        if i % 3 == 0:\n",
    "            print(progress(cls_name, cls_stats[cls_name]))\n",
    "    if i % 3 == 0:\n",
    "        print('\\n')\n",
    "        "
   ]
  },
  {
   "cell_type": "code",
   "execution_count": 4,
   "metadata": {},
   "outputs": [
    {
     "data": {
      "image/png": "[encoded data removed]",
      "text/plain": [
       "<Figure size 432x288 with 1 Axes>"
      ]
     },
     "metadata": {
      "needs_background": "light"
     },
     "output_type": "display_data"
    },
    {
     "data": {
      "image/png": "[encoded data removed]",
      "text/plain": [
       "<Figure size 432x288 with 1 Axes>"
      ]
     },
     "metadata": {
      "needs_background": "light"
     },
     "output_type": "display_data"
    },
    {
     "data": {
      "image/png": "[encoded data removed]",
      "text/plain": [
       "<Figure size 432x288 with 1 Axes>"
      ]
     },
     "metadata": {
      "needs_background": "light"
     },
     "output_type": "display_data"
    },
    {
     "data": {
      "image/png": "[encoded data removed]",
      "text/plain": [
       "<Figure size 432x288 with 1 Axes>"
      ]
     },
     "metadata": {
      "needs_background": "light"
     },
     "output_type": "display_data"
    }
   ],
   "source": [
    "def plot_accuracy(x, y, x_legend):\n",
    "    \"\"\"Plot accuracy as a function of x.\"\"\"\n",
    "    x = np.array(x)\n",
    "    y = np.array(y)\n",
    "    plt.title('Classification accuracy as a function of %s' % x_legend)\n",
    "    plt.xlabel('%s' % x_legend)\n",
    "    plt.ylabel('Accuracy')\n",
    "    plt.grid(True)\n",
    "    plt.plot(x, y)\n",
    "\n",
    "\n",
    "rcParams['legend.fontsize'] = 10\n",
    "cls_names = list(sorted(cls_stats.keys()))\n",
    "\n",
    "# Plot accuracy evolution\n",
    "plt.figure()\n",
    "for _, stats in sorted(cls_stats.items()):\n",
    "    # Plot accuracy evolution with #examples\n",
    "    accuracy, n_examples = zip(*stats['accuracy_history'])\n",
    "    plot_accuracy(n_examples, accuracy, \"training examples (#)\")\n",
    "    ax = plt.gca()\n",
    "    ax.set_ylim((0.8, 1))\n",
    "plt.legend(cls_names, loc='best')\n",
    "\n",
    "plt.figure()\n",
    "for _, stats in sorted(cls_stats.items()):\n",
    "    # Plot accuracy evolution with runtime\n",
    "    accuracy, runtime = zip(*stats['runtime_history'])\n",
    "    plot_accuracy(runtime, accuracy, 'runtime (s)')\n",
    "    ax = plt.gca()\n",
    "    ax.set_ylim((0.8, 1))\n",
    "plt.legend(cls_names, loc='best')\n",
    "\n",
    "# Plot fitting times\n",
    "plt.figure()\n",
    "fig = plt.gcf()\n",
    "cls_runtime = [stats['total_fit_time']\n",
    "               for cls_name, stats in sorted(cls_stats.items())]\n",
    "\n",
    "cls_runtime.append(total_vect_time)\n",
    "cls_names.append('Vectorization')\n",
    "bar_colors = ['b', 'g', 'r', 'c', 'm', 'y']\n",
    "\n",
    "ax = plt.subplot(111)\n",
    "rectangles = plt.bar(range(len(cls_names)), cls_runtime, width=0.5,\n",
    "                     color=bar_colors)\n",
    "\n",
    "ax.set_xticks(np.linspace(0, len(cls_names) - 1, len(cls_names)))\n",
    "ax.set_xticklabels(cls_names, fontsize=10)\n",
    "ymax = max(cls_runtime) * 1.2\n",
    "ax.set_ylim((0, ymax))\n",
    "ax.set_ylabel('runtime (s)')\n",
    "ax.set_title('Training Times')\n",
    "\n",
    "\n",
    "def autolabel(rectangles):\n",
    "    \"\"\"attach some text vi autolabel on rectangles.\"\"\"\n",
    "    for rect in rectangles:\n",
    "        height = rect.get_height()\n",
    "        ax.text(rect.get_x() + rect.get_width() / 2.,\n",
    "                1.05 * height, '%.4f' % height,\n",
    "                ha='center', va='bottom')\n",
    "        plt.setp(plt.xticks()[1], rotation=30)\n",
    "\n",
    "\n",
    "autolabel(rectangles)\n",
    "plt.tight_layout()\n",
    "plt.show()\n",
    "\n",
    "# Plot prediction times\n",
    "plt.figure()\n",
    "cls_runtime = []\n",
    "cls_names = list(sorted(cls_stats.keys()))\n",
    "for cls_name, stats in sorted(cls_stats.items()):\n",
    "    cls_runtime.append(stats['prediction_time'])\n",
    "cls_runtime.append(parsing_time)\n",
    "cls_names.append('Read/Parse\\n+Feat.Extr.')\n",
    "cls_runtime.append(vectorizing_time)\n",
    "cls_names.append('Hashing\\n+Vect.')\n",
    "\n",
    "ax = plt.subplot(111)\n",
    "rectangles = plt.bar(range(len(cls_names)), cls_runtime, width=0.5,\n",
    "                     color=bar_colors)\n",
    "\n",
    "ax.set_xticks(np.linspace(0, len(cls_names) - 1, len(cls_names)))\n",
    "ax.set_xticklabels(cls_names, fontsize=8)\n",
    "plt.setp(plt.xticks()[1], rotation=30)\n",
    "ymax = max(cls_runtime) * 1.2\n",
    "ax.set_ylim((0, ymax))\n",
    "ax.set_ylabel('runtime (s)')\n",
    "ax.set_title('Prediction Times (%d instances)' % n_test_documents)\n",
    "autolabel(rectangles)\n",
    "plt.tight_layout()\n",
    "plt.show()"
   ]
  },
  {
   "cell_type": "markdown",
   "metadata": {},
   "source": [
    "<a name=\"q2.1.1\"></a>\n",
    "<h4>Q2.1.1 Descriptive Statistics</h4> \n",
    "\n",
    "Explore how many documents are in the dataset, how many categories, how many documents per categories, provide mean and standard deviation, min and max. (use the pandas library to explore the dataset, use the dataframe.describe() method.)\n",
    "\n",
    "Explore how many characters and words are present in the documents of the dataset."
   ]
  },
  {
   "cell_type": "code",
   "execution_count": 5,
   "metadata": {},
   "outputs": [
    {
     "name": "stderr",
     "output_type": "stream",
     "text": [
      "[nltk_data] Downloading package reuters to /Users/gab/nltk_data...\n",
      "[nltk_data]   Package reuters is already up-to-date!\n"
     ]
    },
    {
     "name": "stdout",
     "output_type": "stream",
     "text": [
      " number of documents:10788\n",
      "number of categories is: 90\n",
      "the categories are ['acq', 'alum', 'barley', 'bop', 'carcass', 'castor-oil', 'cocoa', 'coconut', 'coconut-oil', 'coffee', 'copper', 'copra-cake', 'corn', 'cotton', 'cotton-oil', 'cpi', 'cpu', 'crude', 'dfl', 'dlr', 'dmk', 'earn', 'fuel', 'gas', 'gnp', 'gold', 'grain', 'groundnut', 'groundnut-oil', 'heat', 'hog', 'housing', 'income', 'instal-debt', 'interest', 'ipi', 'iron-steel', 'jet', 'jobs', 'l-cattle', 'lead', 'lei', 'lin-oil', 'livestock', 'lumber', 'meal-feed', 'money-fx', 'money-supply', 'naphtha', 'nat-gas', 'nickel', 'nkr', 'nzdlr', 'oat', 'oilseed', 'orange', 'palladium', 'palm-oil', 'palmkernel', 'pet-chem', 'platinum', 'potato', 'propane', 'rand', 'rape-oil', 'rapeseed', 'reserves', 'retail', 'rice', 'rubber', 'rye', 'ship', 'silver', 'sorghum', 'soy-meal', 'soy-oil', 'soybean', 'strategic-metal', 'sugar', 'sun-meal', 'sun-oil', 'sunseed', 'tea', 'tin', 'trade', 'veg-oil', 'wheat', 'wpi', 'yen', 'zinc']\n"
     ]
    }
   ],
   "source": [
    "import nltk\n",
    "nltk.download('reuters')\n",
    "from nltk.corpus import reuters\n",
    "print(f' number of documents:{len(reuters.fileids())}')\n",
    "categories=reuters.categories()\n",
    "print(f'number of categories is: {len(categories)}\\nthe categories are {categories}')"
   ]
  },
  {
   "cell_type": "code",
   "execution_count": 6,
   "metadata": {},
   "outputs": [
    {
     "name": "stdout",
     "output_type": "stream",
     "text": [
      "acq ---- 2661 documents out of 11887\n",
      "alum ---- 62 documents out of 11887\n",
      "barley ---- 58 documents out of 11887\n",
      "bop ---- 120 documents out of 11887\n",
      "carcass ---- 69 documents out of 11887\n",
      "castor-oil ---- 2 documents out of 11887\n",
      "cocoa ---- 81 documents out of 11887\n",
      "coconut ---- 6 documents out of 11887\n",
      "coconut-oil ---- 7 documents out of 11887\n",
      "coffee ---- 141 documents out of 11887\n",
      "copper ---- 73 documents out of 11887\n",
      "copra-cake ---- 3 documents out of 11887\n",
      "corn ---- 270 documents out of 11887\n",
      "cotton ---- 65 documents out of 11887\n",
      "cotton-oil ---- 3 documents out of 11887\n",
      "cpi ---- 108 documents out of 11887\n",
      "cpu ---- 6 documents out of 11887\n",
      "crude ---- 658 documents out of 11887\n",
      "dfl ---- 3 documents out of 11887\n",
      "dlr ---- 223 documents out of 11887\n",
      "dmk ---- 15 documents out of 11887\n",
      "earn ---- 4211 documents out of 11887\n",
      "fuel ---- 23 documents out of 11887\n",
      "gas ---- 65 documents out of 11887\n",
      "gnp ---- 146 documents out of 11887\n",
      "gold ---- 131 documents out of 11887\n",
      "grain ---- 640 documents out of 11887\n",
      "groundnut ---- 9 documents out of 11887\n",
      "groundnut-oil ---- 2 documents out of 11887\n",
      "heat ---- 20 documents out of 11887\n",
      "hog ---- 23 documents out of 11887\n",
      "housing ---- 23 documents out of 11887\n",
      "income ---- 22 documents out of 11887\n",
      "instal-debt ---- 8 documents out of 11887\n",
      "interest ---- 570 documents out of 11887\n",
      "ipi ---- 60 documents out of 11887\n",
      "iron-steel ---- 56 documents out of 11887\n",
      "jet ---- 5 documents out of 11887\n",
      "jobs ---- 73 documents out of 11887\n",
      "l-cattle ---- 8 documents out of 11887\n",
      "lead ---- 30 documents out of 11887\n",
      "lei ---- 19 documents out of 11887\n",
      "lin-oil ---- 2 documents out of 11887\n",
      "livestock ---- 102 documents out of 11887\n",
      "lumber ---- 16 documents out of 11887\n",
      "meal-feed ---- 51 documents out of 11887\n",
      "money-fx ---- 835 documents out of 11887\n",
      "money-supply ---- 230 documents out of 11887\n",
      "naphtha ---- 6 documents out of 11887\n",
      "nat-gas ---- 113 documents out of 11887\n",
      "nickel ---- 10 documents out of 11887\n",
      "nkr ---- 4 documents out of 11887\n",
      "nzdlr ---- 4 documents out of 11887\n",
      "oat ---- 16 documents out of 11887\n",
      "oilseed ---- 185 documents out of 11887\n",
      "orange ---- 32 documents out of 11887\n",
      "palladium ---- 4 documents out of 11887\n",
      "palm-oil ---- 41 documents out of 11887\n",
      "palmkernel ---- 3 documents out of 11887\n",
      "pet-chem ---- 33 documents out of 11887\n",
      "platinum ---- 15 documents out of 11887\n",
      "potato ---- 6 documents out of 11887\n",
      "propane ---- 6 documents out of 11887\n",
      "rand ---- 3 documents out of 11887\n",
      "rape-oil ---- 8 documents out of 11887\n",
      "rapeseed ---- 27 documents out of 11887\n",
      "reserves ---- 83 documents out of 11887\n",
      "retail ---- 29 documents out of 11887\n",
      "rice ---- 64 documents out of 11887\n",
      "rubber ---- 51 documents out of 11887\n",
      "rye ---- 3 documents out of 11887\n",
      "ship ---- 295 documents out of 11887\n",
      "silver ---- 30 documents out of 11887\n",
      "sorghum ---- 37 documents out of 11887\n",
      "soy-meal ---- 28 documents out of 11887\n",
      "soy-oil ---- 26 documents out of 11887\n",
      "soybean ---- 124 documents out of 11887\n",
      "strategic-metal ---- 28 documents out of 11887\n",
      "sugar ---- 170 documents out of 11887\n",
      "sun-meal ---- 2 documents out of 11887\n",
      "sun-oil ---- 7 documents out of 11887\n",
      "sunseed ---- 16 documents out of 11887\n",
      "tea ---- 13 documents out of 11887\n",
      "tin ---- 30 documents out of 11887\n",
      "trade ---- 524 documents out of 11887\n",
      "veg-oil ---- 128 documents out of 11887\n",
      "wheat ---- 304 documents out of 11887\n",
      "wpi ---- 32 documents out of 11887\n",
      "yen ---- 70 documents out of 11887\n",
      "zinc ---- 36 documents out of 11887\n",
      "Articles belong to 1.2333 categories on average\n",
      "There are 132.0778 articles per category on average\n"
     ]
    }
   ],
   "source": [
    "total = len(reuters.paras())\n",
    "total_multi = 0\n",
    "lc={}\n",
    "for c in categories:\n",
    "    lc[c] = len(reuters.paras(categories=[c]))\n",
    "    total_multi += lc[c]\n",
    "    print(\"%s ---- %d documents out of %d\" % (c, lc[c], total))\n",
    "print(\"Articles belong to %.4f categories on average\" % ((total_multi * 1.0) / total))\n",
    "print(\"There are %.4f articles per category on average\" % ((total * 1.0) / len(categories)))"
   ]
  },
  {
   "cell_type": "code",
   "execution_count": 29,
   "metadata": {},
   "outputs": [
    {
     "name": "stdout",
     "output_type": "stream",
     "text": [
      "ten first documents:\n"
     ]
    },
    {
     "data": {
      "text/plain": [
       "<BarContainer object of 10 artists>"
      ]
     },
     "execution_count": 29,
     "metadata": {},
     "output_type": "execute_result"
    },
    {
     "data": {
      "image/png": "[encoded data removed]",
      "text/plain": [
       "<Figure size 432x288 with 1 Axes>"
      ]
     },
     "metadata": {
      "needs_background": "light"
     },
     "output_type": "display_data"
    }
   ],
   "source": [
    "docs=[x for x in lc.values()]\n",
    "x=[name for name in lc.keys()]\n",
    "print(\"ten first documents:\")\n",
    "plt.bar(x[1:11],docs[1:11])"
   ]
  },
  {
   "cell_type": "code",
   "execution_count": 30,
   "metadata": {},
   "outputs": [
    {
     "name": "stdout",
     "output_type": "stream",
     "text": [
      " minimum documents: 2 for categories: ['castor-oil', 'groundnut-oil', 'lin-oil', 'sun-meal']\n",
      " maximun documents: 4211 for categories: ['earn']\n"
     ]
    }
   ],
   "source": [
    "print( f' minimum documents: {min(lc.values())} for categories: {[c for c in lc.keys() if lc[c]==min(lc.values())]}' )\n",
    "print( f' maximun documents: {max(lc.values())} for categories: {[c for c in lc.keys() if lc[c]==max(lc.values())]}' )"
   ]
  },
  {
   "cell_type": "code",
   "execution_count": 32,
   "metadata": {},
   "outputs": [
    {
     "name": "stdout",
     "output_type": "stream",
     "text": [
      "total number of words: 1720901\n",
      "average number of words: 159.51992955135336\n",
      "total number of characters: 8846853\n",
      "average number of characters: 820.0642380422692\n"
     ]
    }
   ],
   "source": [
    "print(f'total number of words: {len(reuters.words())}')\n",
    "print(f'average number of words: {len(reuters.words())/len(reuters.fileids())}')\n",
    "\n",
    "print(f'total number of characters: {len(reuters.raw())}')\n",
    "print(f'average number of characters: {len(reuters.raw())/len(reuters.fileids())}')"
   ]
  },
  {
   "cell_type": "markdown",
   "metadata": {},
   "source": [
    "<a name=\"q2.1.2\"></a>\n",
    "<h4>Q2.1.2 Partial-fit classifiers</h4> \n",
    "\n",
    "Explain informally what are the classifiers that support the \"partial-fit\" method discussed in the code."
   ]
  },
  {
   "cell_type": "markdown",
   "metadata": {},
   "source": [
    "In the tutorial they used this classifier: SGD,Perceptron,NB Multinomial, Passive-Aggressive wuth partial fit method.\n",
    "classifier that can support partial fit are classifier with option to online learning- that mean that the algorithm is able to learn when the examples come one by one or in minibatch and dont need compute all the examples together.\n",
    "the methode let us have a small amound of data in memory at any time and therefore be able to learn the big dataset."
   ]
  },
  {
   "cell_type": "markdown",
   "metadata": {},
   "source": [
    "<a name=\"q2.1.3\"></a>\n",
    "<h4>Q2.1.3 Hashing Vectorizer</h4> \n",
    "\n",
    "Explain what is the hashing vectorizer used in this tutorial.  Why is it important to use this vectorizer to achieve \"streaming classification\"?"
   ]
  },
  {
   "cell_type": "markdown",
   "metadata": {},
   "source": [
    "the hashing vectorizer convert a collection of text documents to a matrix of token occurrences\n",
    "It turns a collection of text documents into a scipy.sparse matrix holding token occurrence counts and uses a hashing trick to find the token string name to feature integer index mapping.\n",
    "it's important to use this vectorizer in stream classification in order to guarantee that the features space remains the same over time,\n",
    "especially in the case of text classification where new features may appear in each batch."
   ]
  },
  {
   "cell_type": "markdown",
   "metadata": {},
   "source": [
    "<a name=\"q2.2\"></a>\n",
    "<h3>Q2.2. BBC News Dataset</h3>\n",
    "\n",
    "The <a href=\"https://www.kaggle.com/c/learn-ai-bbc/data\">Kaggle BBC News</a> dataset is a document dataset to test document classification.\n",
    "It contains 1,500 training documents (news stories from the BBC News) and 700 test documents. Documents are classified into 5 categories: sports, tech, business, \n",
    "entertainment, politics.  Text is encoded in the following format: all lower case, quotes are removed and separated, non period punctuations are removed.\n",
    "For example:\n",
    "<pre>\n",
    "lifestyle  governs mobile choice  faster  better or funkier hardware alone is not going to help phone firms sell more handsets\n",
    "research suggests.  instead  phone firms keen to get more out of their customers should not just be pushing the technology \n",
    "for its own sake. consumers are far more interested in how handsets fit in with their lifestyle than they are in screen size  \n",
    "onboard memory or the chip inside  shows an in-depth study by handset maker ericsson.  \n",
    "historically in the industry there has been too much focus on using technology   \n",
    "said dr michael bjorn  senior advisor on mobile media at ericsson s consumer and enterprise lab.\n",
    "</pre>\n",
    "\n",
    "Download the data <a href=\"bbcnews.zip\">bbcnews.zip</a> and place it in ../data."
   ]
  },
  {
   "cell_type": "markdown",
   "metadata": {},
   "source": [
    "<a name=\"q2.2.1\"></a>\n",
    "<h4>Q2.2.1 Dataset Exploration</h4>\n",
    "\n",
    "Explore how many documents are in the dataset, how many categories, how many documents per categories, provide mean and standard deviation, min and max. "
   ]
  },
  {
   "cell_type": "code",
   "execution_count": 35,
   "metadata": {},
   "outputs": [
    {
     "name": "stdout",
     "output_type": "stream",
     "text": [
      "<class 'pandas.core.frame.DataFrame'>\n",
      "RangeIndex: 1490 entries, 0 to 1489\n",
      "Data columns (total 3 columns):\n",
      " #   Column     Non-Null Count  Dtype \n",
      "---  ------     --------------  ----- \n",
      " 0   ArticleId  1490 non-null   int64 \n",
      " 1   Text       1490 non-null   object\n",
      " 2   Category   1490 non-null   object\n",
      "dtypes: int64(1), object(2)\n",
      "memory usage: 35.0+ KB\n"
     ]
    }
   ],
   "source": [
    "df = pd.read_csv('./bbcnews/BBC News Train.csv')\n",
    "df.info()"
   ]
  },
  {
   "cell_type": "code",
   "execution_count": 36,
   "metadata": {},
   "outputs": [
    {
     "name": "stdout",
     "output_type": "stream",
     "text": [
      "Category\n",
      "business         336\n",
      "entertainment    273\n",
      "politics         274\n",
      "sport            346\n",
      "tech             261\n",
      "dtype: int64\n"
     ]
    },
    {
     "data": {
      "text/plain": [
       "<AxesSubplot:xlabel='Category', ylabel='count'>"
      ]
     },
     "execution_count": 36,
     "metadata": {},
     "output_type": "execute_result"
    },
    {
     "data": {
      "image/png": "[encoded data removed]",
      "text/plain": [
       "<Figure size 432x288 with 1 Axes>"
      ]
     },
     "metadata": {
      "needs_background": "light"
     },
     "output_type": "display_data"
    }
   ],
   "source": [
    "print(df.groupby('Category').size())\n",
    "sns.countplot(x=df['Category'], label = \"Count\")"
   ]
  },
  {
   "cell_type": "code",
   "execution_count": 37,
   "metadata": {},
   "outputs": [
    {
     "name": "stdout",
     "output_type": "stream",
     "text": [
      "the minimum value 261\n",
      "the maximum value 346\n",
      "the mean value 298.0\n",
      "the standart daviation value 39.74292389847531\n"
     ]
    }
   ],
   "source": [
    "print(f\"the minimum value {(df.groupby('Category').size()).min()}\")\n",
    "print(f\"the maximum value {(df.groupby('Category').size()).max()}\")\n",
    "\n",
    "print(f\"the mean value {(df.groupby('Category').size()).mean()}\")\n",
    "print(f\"the standart daviation value {(df.groupby('Category').size()).std()}\")"
   ]
  },
  {
   "cell_type": "markdown",
   "metadata": {},
   "source": [
    "<a name=\"q2.2.2\"></a>\n",
    "<h4>Q2.2.2 Features Extraction</h4>\n",
    "\n",
    "Select appropriate features for document classification and implement a scikit-learn vectorizer for this dataset."
   ]
  },
  {
   "cell_type": "markdown",
   "metadata": {},
   "source": [
    "in order to find features we will use tf-idf vectorizer since it's a text data and we know that it is probably possible to classify a document according to specifics words that occure in it "
   ]
  },
  {
   "cell_type": "code",
   "execution_count": 38,
   "metadata": {},
   "outputs": [
    {
     "data": {
      "text/plain": [
       "(1490, 9927)"
      ]
     },
     "execution_count": 38,
     "metadata": {},
     "output_type": "execute_result"
    }
   ],
   "source": [
    "from sklearn.feature_extraction.text import TfidfVectorizer\n",
    "\n",
    "vectorizer = TfidfVectorizer(sublinear_tf=True, min_df=5, norm='l2', encoding='latin-1', ngram_range=(1, 2), stop_words='english')\n",
    "features = vectorizer.fit_transform(df.Text).toarray() \n",
    "features.shape"
   ]
  },
  {
   "cell_type": "code",
   "execution_count": 39,
   "metadata": {},
   "outputs": [
    {
     "data": {
      "text/plain": [
       "array([0., 0., 0., ..., 0., 0., 0.])"
      ]
     },
     "execution_count": 39,
     "metadata": {},
     "output_type": "execute_result"
    }
   ],
   "source": [
    "features[0]"
   ]
  },
  {
   "cell_type": "markdown",
   "metadata": {},
   "source": [
    "since the features are big we can try to make smaller dimantion using TSNE - that is an algorithm to reduce dimantions"
   ]
  },
  {
   "cell_type": "code",
   "execution_count": 41,
   "metadata": {},
   "outputs": [
    {
     "data": {
      "text/plain": [
       "(1490, 2)"
      ]
     },
     "execution_count": 41,
     "metadata": {},
     "output_type": "execute_result"
    }
   ],
   "source": [
    "from sklearn.manifold import TSNE\n",
    "\n",
    "projected_features = TSNE(n_components=2, random_state=0).fit_transform(features) \n",
    "projected_features.shape"
   ]
  },
  {
   "cell_type": "code",
   "execution_count": 47,
   "metadata": {},
   "outputs": [],
   "source": [
    "df['category_id'] = df['Category'].factorize()[0]\n",
    "category_id_df = df[['Category', 'category_id']].drop_duplicates().sort_values('category_id')\n",
    "category_to_id = dict(category_id_df.values)\n",
    "id_to_category = dict(category_id_df[['category_id', 'Category']].values)\n",
    "labels = df.category_id "
   ]
  },
  {
   "cell_type": "code",
   "execution_count": 49,
   "metadata": {},
   "outputs": [
    {
     "data": {
      "text/plain": [
       "<matplotlib.legend.Legend at 0x7fc5eab3d400>"
      ]
     },
     "execution_count": 49,
     "metadata": {},
     "output_type": "execute_result"
    },
    {
     "data": {
      "image/png": "[encoded data removed]",
      "text/plain": [
       "<Figure size 432x288 with 1 Axes>"
      ]
     },
     "metadata": {
      "needs_background": "light"
     },
     "output_type": "display_data"
    }
   ],
   "source": [
    "colors = ['pink', 'green', 'midnightblue', 'orange', 'darkgrey']\n",
    "\n",
    "# Find points belonging to each category and plot them\n",
    "for category, category_id in sorted(category_to_id.items()):\n",
    "    points = projected_features[(labels == category_id).values]\n",
    "    plt.scatter(points[:, 0], points[:, 1], s=30, c=colors[category_id], label=category)\n",
    "plt.title(\"tf-idf feature vector for each article, projected on 2 dimensions.\",\n",
    "          fontdict=dict(fontsize=15))\n",
    "plt.legend()"
   ]
  },
  {
   "cell_type": "markdown",
   "metadata": {},
   "source": [
    "in this case we can see that 2 dimantions are enoght to distinguish between most classes\n",
    "but for us training we will use the big features map"
   ]
  },
  {
   "cell_type": "markdown",
   "metadata": {},
   "source": [
    "<a name=\"q2.2.3\"></a>\n",
    "<h4>Q2.2.3 Model Training and Evaluation</h4>\n",
    "\n",
    "Implement a classifier for this dataset.  \n",
    "<p/>\n",
    "Report performance, confusion matrix and analyze errors.\n",
    "<p/>\n",
    "\n",
    "In order to run the test data, you will need to register to Kaggle and use their submission system.\n",
    "To avoid the complexity of using the Kaggle submission system, split the train data into 80% training / 20% test.  \n",
    "<p/>\n",
    "\n",
    "You can see examples solving this task with good usage of scikit-learn APIs in <a href=\"https://www.kaggle.com/c/learn-ai-bbc/leaderboard\">the Kaggle leaderboard</a>.\n",
    "In particular, <a href=\"https://www.kaggle.com/aryankaul31/aryan-bbc-news-classification\">aryan-bbc-news-classification</a> demonstrates data exploration for \n",
    "classification using pandas, tf-idf features, TSNE visualization for feature vectors, and chi-square correlation between features and labels. "
   ]
  },
  {
   "cell_type": "code",
   "execution_count": 53,
   "metadata": {},
   "outputs": [],
   "source": [
    "from sklearn.feature_extraction.text import TfidfVectorizer\n",
    "\n",
    "vectorizer = TfidfVectorizer(sublinear_tf=True, min_df=5, norm='l2', encoding='latin-1', ngram_range=(1, 2), stop_words='english')\n",
    "features = vectorizer.fit_transform(df.Text).toarray() \n",
    "\n",
    "from sklearn.model_selection import train_test_split\n",
    "X_train, X_test, y_train, y_test, indices_train, indices_test= train_test_split(features, df['category_id'], df.index, test_size=0.20)"
   ]
  },
  {
   "cell_type": "code",
   "execution_count": 54,
   "metadata": {},
   "outputs": [
    {
     "name": "stdout",
     "output_type": "stream",
     "text": [
      "              precision    recall  f1-score   support\n",
      "\n",
      "           0       0.99      0.96      0.97        75\n",
      "           1       0.98      0.96      0.97        54\n",
      "           2       0.96      1.00      0.98        55\n",
      "           3       1.00      1.00      1.00        57\n",
      "           4       0.98      1.00      0.99        57\n",
      "\n",
      "    accuracy                           0.98       298\n",
      "   macro avg       0.98      0.98      0.98       298\n",
      "weighted avg       0.98      0.98      0.98       298\n",
      "\n"
     ]
    },
    {
     "data": {
      "text/plain": [
       "Text(0.5, 15.0, 'Predicted')"
      ]
     },
     "execution_count": 54,
     "metadata": {},
     "output_type": "execute_result"
    },
    {
     "data": {
      "image/png": "[encoded data removed]",
      "text/plain": [
       "<Figure size 432x288 with 2 Axes>"
      ]
     },
     "metadata": {
      "needs_background": "light"
     },
     "output_type": "display_data"
    }
   ],
   "source": [
    "from sklearn.linear_model import LogisticRegression\n",
    "\n",
    "classifier=LogisticRegression()\n",
    "classifier.fit(X_train, y_train)\n",
    "y_pred =classifier.predict(X_test)\n",
    "from sklearn import metrics\n",
    "print(metrics.classification_report(y_test, y_pred))\n",
    "\n",
    "from sklearn.metrics import confusion_matrix\n",
    "import seaborn as sns\n",
    "\n",
    "conf_mat = confusion_matrix(y_test, y_pred)\n",
    "sns.heatmap(conf_mat, annot=True, fmt='d',\n",
    "            xticklabels=category_id_df.Category.values, yticklabels=category_id_df.Category.values)\n",
    "plt.ylabel('Actual')\n",
    "plt.xlabel('Predicted')"
   ]
  },
  {
   "cell_type": "code",
   "execution_count": 55,
   "metadata": {},
   "outputs": [
    {
     "name": "stdout",
     "output_type": "stream",
     "text": [
      "'business' predicted as 'politics' : 2 examples.\n"
     ]
    },
    {
     "data": {
      "text/plain": [
       "1309    saudi ministry to employ women women will be e...\n",
       "971     call to save manufacturing jobs the trades uni...\n",
       "Name: Text, dtype: object"
      ]
     },
     "metadata": {},
     "output_type": "display_data"
    },
    {
     "name": "stdout",
     "output_type": "stream",
     "text": [
      "\n"
     ]
    }
   ],
   "source": [
    "from IPython.display import display\n",
    "\n",
    "for predicted in category_id_df.category_id:\n",
    "    for actual in category_id_df.category_id:\n",
    "        if predicted != actual and conf_mat[actual, predicted] >= 2:\n",
    "            print(\"'{}' predicted as '{}' : {} examples.\".format(id_to_category[actual], id_to_category[predicted], conf_mat[actual, predicted]))\n",
    "            display(df.loc[indices_test[(y_test == actual) & (y_pred == predicted)]]['Text'])\n",
    "            print('')"
   ]
  },
  {
   "cell_type": "markdown",
   "metadata": {},
   "source": [
    "we can see that in most mistakes there is a connection to to error labels for example: in 1309 the classtifier predicted buisness as politics- probably because of the words- ministry."
   ]
  },
  {
   "cell_type": "markdown",
   "metadata": {},
   "source": [
    "<hr/>\n",
    "<a name=\"q3\"></a>\n",
    "<h2>Q3. Named Entity Recognition</h2>\n",
    "\n",
    "<h3>Named Entity Recognition</h3>\n",
    "\n",
    "The task of Named Entity Recognition (NER) involves the recognition of names of persons, locations, organizations, dates in free text.\n",
    "As we have seen above, Spacy includes a very good NER model as part of its library.  In this question, we will study how to implement \n",
    "such a model.\n",
    "\n",
    "The following sentence is tagged with sub-sequences indicating PER (for persons), LOC (for location) and ORG (for organization):\n",
    "<pre>\n",
    "Wolff, currently a journalist in Argentina, played with Del Bosque in the final years of the seventies in Real Madrid.\n",
    "\n",
    "[PER Wolff ] , currently a journalist in [LOC Argentina ] , played with [PER Del Bosque ] in the final years of the seventies in \n",
    "[ORG Real Madrid ] .\n",
    "</pre>\n",
    "\n",
    "NER involves 2 sub-tasks: identifying the boundaries of such expressions (the open and close brackets) and labelling the expressions\n",
    "(with tags such as PER, LOC or ORG).  This sequence labelling task is reduced into a classification task, using the BIO encoding of the data:\n",
    "<pre>\n",
    "        Wolff B-PER\n",
    "            , O\n",
    "    currently O\n",
    "            a O\n",
    "   journalist O\n",
    "           in O\n",
    "    Argentina B-LOC\n",
    "            , O\n",
    "       played O\n",
    "         with O\n",
    "          Del B-PER\n",
    "       Bosque I-PER\n",
    "           in O\n",
    "          the O\n",
    "        final O\n",
    "        years O\n",
    "           of O\n",
    "          the O\n",
    "    seventies O\n",
    "           in O\n",
    "         Real B-ORG\n",
    "       Madrid I-ORG\n",
    "            . O\n",
    "</pre>\n",
    "\n",
    "\n",
    "<h3>Dataset</h3>\n",
    "\n",
    "The dataset we will use for this question is derived from the CoNLL 2002 shared task - which is about NER in Spanish and Dutch.\n",
    "The dataset is included in the NLTK distribution.  Explanations on the dataset are provided in the \n",
    "<a href='https://www.clips.uantwerpen.be/conll2002/ner/'>CoNLL 2002</a> page.\n",
    "<p/>\n",
    "\n",
    "To access the data in Python, do:"
   ]
  },
  {
   "cell_type": "code",
   "execution_count": 1,
   "metadata": {},
   "outputs": [],
   "source": [
    "from nltk.corpus import conll2002\n",
    "\n",
    "etr = conll2002.chunked_sents('esp.train') # In Spanish\n",
    "eta = conll2002.chunked_sents('esp.testa') # In Spanish\n",
    "etb = conll2002.chunked_sents('esp.testb') # In Spanish\n",
    "\n",
    "dtr = conll2002.chunked_sents('ned.train') # In Dutch\n",
    "dta = conll2002.chunked_sents('ned.testa') # In Dutch\n",
    "dtb = conll2002.chunked_sents('ned.testb') # In Dutch"
   ]
  },
  {
   "cell_type": "markdown",
   "metadata": {},
   "source": [
    "The data consists of three files per language (Spanish and Dutch): one training file and two test files testa and testb. \n",
    "The first test file is to be used in the development phase for finding good parameters for the learning system. \n",
    "The second test file will be used for the final evaluation."
   ]
  },
  {
   "cell_type": "markdown",
   "metadata": {},
   "source": [
    "<a name=\"q3.1\"></a>\n",
    "<h3>Q3.1 Features</h3>\n",
    "\n",
    "Your task consists of:\n",
    "<ol>\n",
    "<li>Choosing good features for encoding the problem.\n",
    "<li>Encode your training dataset.\n",
    "<li>Run a classifier over the training dataset.\n",
    "<li>Train and test the model.\n",
    "<li>Perform error analysis and fine tune model parameters on the testa part of the datasets.\n",
    "<li>Perform evaluation over the testb part of the dataset, reporting on accuracy, per label precision, per label recall and per label F-measure, and confusion matrix.\n",
    "</ol>\n",
    "<p/>\n",
    "\n",
    "Here is a list of features that have been found appropriate for NER in previous work:\n",
    "<ol>\n",
    "<li>The word form (the string as it appears in the sentence)\n",
    "<li>The POS of the word (which is provided in the dataset)\n",
    "<li>ORT - a feature that captures the orthographic (letter) structure of the word.  It can have any of the following values: \n",
    "    number, contains-digit, contains-hyphen, capitalized, all-capitals, URL, punctuation, regular. \n",
    "<li>prefix1: first letter of the word\n",
    "<li>prefix2: first two letters of the word\n",
    "<li>prefix3: first three letters of the word\n",
    "<li>suffix1: last letter of the word\n",
    "<li>suffix2: last two letters of the word\n",
    "<li>suffix3: last three letters of the word\n",
    "</ol>\n",
    "\n",
    "<p/>\n",
    "\n",
    "For example, given the following toy training data, the encoding of the features would be:\n",
    "<pre>\n",
    "        Wolff NP  B-PER\n",
    "            , ,   O\n",
    "    currently RB  O\n",
    "            a AT  O\n",
    "   journalist NN  O\n",
    "           in IN  O\n",
    "    Argentina NP  B-LOC\n",
    "            , ,   O\n",
    "       played VBD O\n",
    "         with IN  O\n",
    "          Del NP  B-PER\n",
    "       Bosque NP  I-PER\n",
    "           in IN  O\n",
    "          the AT  O\n",
    "        final JJ  O\n",
    "        years NNS O\n",
    "           of IN  O\n",
    "          the AT  O\n",
    "    seventies NNS O\n",
    "           in IN  O\n",
    "         Real NP  B-ORG\n",
    "       Madrid NP  I-ORG\n",
    "            . .   O\n",
    "\n",
    "<u>Classes</u>\n",
    "1 B-PER\n",
    "2 I-PER\n",
    "3 B-LOC\n",
    "4 I-LOC\n",
    "5 B-ORG\n",
    "6 I-ORG\n",
    "7 O\n",
    "\n",
    "<u>Feature WORD-FORM:</u>\n",
    "1 Wolff\n",
    "2 ,\n",
    "3 currently\n",
    "4 a\n",
    "5 journalist\n",
    "6 in\n",
    "7 Argentina\n",
    "8 played\n",
    "9 with\n",
    "10 Del\n",
    "11 Bosque\n",
    "12 the\n",
    "13 final\n",
    "14 years\n",
    "15 of\n",
    "16 seventies\n",
    "17 Real\n",
    "18 Madrid\n",
    "19 .\n",
    "\n",
    "<u>Feature POS</u>\n",
    "20 NP\n",
    "21 ,\n",
    "22 RB\n",
    "23 AT\n",
    "24 NN\n",
    "25 VBD\n",
    "26 JJ\n",
    "27 NNS\n",
    "28 .\n",
    "\n",
    "<u>Feature ORT</u>\n",
    "29 number\n",
    "30 contains-digit\n",
    "31 contains-hyphen\n",
    "32 capitalized\n",
    "33 all-capitals\n",
    "34 URL\n",
    "35 punctuation\n",
    "36 regular\n",
    "\n",
    "<u>Feature Prefix1</u>\n",
    "37 W\n",
    "38 ,\n",
    "39 c\n",
    "40 a\n",
    "41 j\n",
    "42 i\n",
    "43 A\n",
    "44 p\n",
    "45 w\n",
    "46 D\n",
    "47 B\n",
    "48 t\n",
    "49 f\n",
    "50 y\n",
    "51 o\n",
    "52 s\n",
    "53 .\n",
    "</pre>\n",
    "\n",
    "Given this encoding, we can compute the vector representing the first word \"Wolff NP B-PER\" as:\n",
    "<pre>\n",
    "# Class: B-PER=1\n",
    "# Word-form: Wolff=1\n",
    "# POS: NP=20\n",
    "# ORT: Capitalized=32\n",
    "# prefix1: W=37\n",
    "1 1:1 20:1 32:1 37:1\n",
    "</pre>\n",
    "\n",
    "When you encode the test dataset, some of the word-forms will be unknown (not seen in the training dataset).\n",
    "You should, therefore, plan for a special value for each feature of type \"unknown\" when this is expected.\n",
    "<p/>\n",
    "\n",
    "Instead of writing the code as explained above, use the Scikit-learn vectorizer and pipeline library.\n",
    "General information on feature extraction for text data in Scikit-Learn is \n",
    "in <a href=\"https://scikit-learn.org/stable/modules/feature_extraction.html#text-feature-extraction\">the Scikit-Learn documentation</a>.\n",
    "Refer to the <a href=\"https://scikit-learn.org/stable/modules/generated/sklearn.feature_extraction.DictVectorizer.html\">DictVectorizer</a> for this specific task.\n",
    "<a href=\"https://scikit-learn.org/stable/auto_examples/text/plot_hashing_vs_dict_vectorizer.html\">Hashing vs. DictVectorizer</a>\n",
    "also provides useful background."
   ]
  },
  {
   "cell_type": "markdown",
   "metadata": {},
   "source": [
    "<a name=\"q3.1.1\"></a>\n",
    "<h4>Q3.1.1 Feature Extraction</h4>\n",
    "\n",
    "Start from the following example notebook\n",
    "<a href=\"http://nbviewer.ipython.org/github/tpeng/python-crfsuite/blob/master/examples/CoNLL%202002.ipynb\">CoNLL 2002 Classification with CRF</a>.\n",
    "You do not need to install Python-CRFSuite - just take this notebook as a starting point to explore the dataset and ways to encode features.\n",
    "(This notebook also gives you an indication of the level of result you can expect to obtain.)"
   ]
  },
  {
   "cell_type": "code",
   "execution_count": 1,
   "metadata": {},
   "outputs": [],
   "source": [
    "from nltk.corpus import conll2002\n",
    "import nltk\n",
    "from sklearn.preprocessing import LabelEncoder\n",
    "from sklearn.linear_model import LogisticRegression\n",
    "from collections import Counter\n",
    "import numpy as np\n",
    "import pandas as pd\n",
    "from sklearn.metrics import classification_report\n",
    "import string  \n",
    "import urllib"
   ]
  },
  {
   "cell_type": "code",
   "execution_count": 2,
   "metadata": {},
   "outputs": [],
   "source": [
    "try:\n",
    "    etr = conll2002.chunked_sents('esp.train') # In Spanish\n",
    "except:\n",
    "    nltk.download('conll2002')\n",
    "    etr = conll2002.chunked_sents('esp.train') # In Spanish\n",
    "\n",
    "etr2 = list(conll2002.iob_sents('esp.train'))\n",
    "eta2 = list(conll2002.iob_sents('esp.testa'))\n",
    "etb2 = list(conll2002.iob_sents('esp.testb'))\n"
   ]
  },
  {
   "cell_type": "markdown",
   "metadata": {},
   "source": [
    "we will define features according to the list of features that have been found appropriate for NER in previous work\n",
    "latter we will add feature regarding word before and after the current word"
   ]
  },
  {
   "cell_type": "code",
   "execution_count": 3,
   "metadata": {},
   "outputs": [],
   "source": [
    "ORT={1:'number', 2:'contains-digit', 3:'contains-hyphen', 4:'capitalized', 5:'all-capitals', 6:'URL', 7:'punctuation', 8:'regular'}\n",
    "def ORTrecon(sent):\n",
    "    if sent.isdigit():\n",
    "        return 1\n",
    "    if any(char.isdigit() for char in sent):\n",
    "        return 2\n",
    "    if '-' in sent:\n",
    "        return 3\n",
    "    if sent[0].isupper():\n",
    "        return 4\n",
    "    if sent.isupper():\n",
    "        return 5\n",
    "    if urllib.parse.urlparse(sent).scheme != \"\":\n",
    "        return 6\n",
    "    if sent in string.punctuation: \n",
    "        return 7\n",
    "    else:\n",
    "        return 8\n",
    "        \n",
    "\n",
    "def word2features(sent, i):\n",
    "    word = sent[i][0]\n",
    "    postag = sent[i][1]\n",
    "    features = {\n",
    "        \n",
    "        'word.lower' : word.lower(),\n",
    "        'pre1' : word[:1],\n",
    "        'pre2' : word[:2],\n",
    "        'pre3' : word[:3],\n",
    "        'suf1' : word[-1:],\n",
    "        'suf2' : word[-2:],\n",
    "        'suf3' : word[-3:],\n",
    "        'ORT' : ORT[ORTrecon(word)],\n",
    "        'postag' : postag,\n",
    "    }\n",
    "\n",
    "    return features\n",
    "\n",
    "def sent2features(sent):\n",
    "    features = []\n",
    "    for i in range(0,len(sent)):\n",
    "        features.append(word2features(sent,i))\n",
    "    return features\n",
    "    \n",
    "def sent2labels(sent):\n",
    "    return [label for token, postag, label in sent]"
   ]
  },
  {
   "cell_type": "markdown",
   "metadata": {},
   "source": [
    "building the data set using the features we choose"
   ]
  },
  {
   "cell_type": "code",
   "execution_count": 4,
   "metadata": {},
   "outputs": [],
   "source": [
    "from sklearn.feature_extraction import DictVectorizer\n",
    "v = DictVectorizer()\n",
    "\n",
    "from sklearn.preprocessing import LabelEncoder\n",
    "encoder=LabelEncoder()\n",
    "\n",
    "train_sents = etr2\n",
    "X_esp_train = [sent2features(s) for s in train_sents]\n",
    "y_esp_train = [sent2labels(s) for s in train_sents]\n",
    "\n",
    "test_sents = eta2\n",
    "X_esp_test = [sent2features(s) for s in test_sents]\n",
    "y_esp_test = [sent2labels(s) for s in test_sents]"
   ]
  },
  {
   "cell_type": "code",
   "execution_count": 5,
   "metadata": {},
   "outputs": [
    {
     "name": "stdout",
     "output_type": "stream",
     "text": [
      "X_esp_train: 8323, y_esp_train: 8323\n",
      "X_esp_test: 1915, y_esp_test: 1915\n"
     ]
    }
   ],
   "source": [
    "print(f'X_esp_train: {len(X_esp_train)}, y_esp_train: {len(y_esp_train)}')\n",
    "print(f'X_esp_test: {len(X_esp_test)}, y_esp_test: {len(y_esp_test)}')\n"
   ]
  },
  {
   "cell_type": "markdown",
   "metadata": {},
   "source": [
    "we do the same for dutch"
   ]
  },
  {
   "cell_type": "code",
   "execution_count": 6,
   "metadata": {},
   "outputs": [],
   "source": [
    "try:\n",
    "    dtr = conll2002.chunked_sents('ned.train') # In Dutch\n",
    "except:\n",
    "    nltk.download('conll2002')\n",
    "    dtr = conll2002.chunked_sents('ned.train') # In dutch\n",
    "\n",
    "dtr2 = list(conll2002.iob_sents('ned.train'))\n",
    "dta2 = list(conll2002.iob_sents('ned.testa'))\n",
    "dtb2 = list(conll2002.iob_sents('ned.testb'))"
   ]
  },
  {
   "cell_type": "code",
   "execution_count": 7,
   "metadata": {},
   "outputs": [],
   "source": [
    "from sklearn.feature_extraction import DictVectorizer\n",
    "v = DictVectorizer()\n",
    "\n",
    "from sklearn.preprocessing import LabelEncoder\n",
    "encoder=LabelEncoder()\n",
    "\n",
    "train_sents = dtr2\n",
    "X_ned_train = [sent2features(s) for s in train_sents]\n",
    "y_ned_train = [sent2labels(s) for s in train_sents]\n",
    "\n",
    "test_sents = dta2\n",
    "X_ned_test = [sent2features(s) for s in test_sents]\n",
    "y_ned_test = [sent2labels(s) for s in test_sents]"
   ]
  },
  {
   "cell_type": "code",
   "execution_count": 8,
   "metadata": {},
   "outputs": [
    {
     "name": "stdout",
     "output_type": "stream",
     "text": [
      "X_ned_train: 15806, y_esp_train: 15806\n",
      "X_ned_test: 2895, y_esp_test: 2895\n"
     ]
    }
   ],
   "source": [
    "print(f'X_ned_train: {len(X_ned_train)}, y_esp_train: {len(y_ned_train)}')\n",
    "print(f'X_ned_test: {len(X_ned_test)}, y_esp_test: {len(y_ned_test)}')\n"
   ]
  },
  {
   "cell_type": "markdown",
   "metadata": {},
   "source": [
    "<a name=\"q3.1.2\"></a>\n",
    "<h4>Q3.1.2 Model Training</h4>\n",
    "\n",
    "Train the model using a logistic regression classifier and experiment with better features - \n",
    "looking at the tags of the previous word, the previous word and the following word (add padding words in the vectorizer)."
   ]
  },
  {
   "cell_type": "markdown",
   "metadata": {},
   "source": [
    "## training model with spanish"
   ]
  },
  {
   "cell_type": "code",
   "execution_count": 9,
   "metadata": {},
   "outputs": [],
   "source": [
    "v = DictVectorizer(sparse=True)\n",
    "encoder=LabelEncoder()\n",
    "\n",
    "def fit(X_train):\n",
    "    flattened_X_esp_train = []\n",
    "    for i in range(len(X_train)):\n",
    "        for j in range(len(X_train[i])):\n",
    "            flattened_X_esp_train.append(X_train[i][j])\n",
    "    v.fit(np.array(flattened_X_esp_train))\n",
    "    \n",
    "def extract_features(X,y):\n",
    "    flattened_X_esp_train = []\n",
    "    flattened_y_esp_train = []\n",
    "    for i in range(len(X)):\n",
    "        assert(len(X[i]) == len(y[i]))\n",
    "        for j in range(len(X[i])):\n",
    "            flattened_X_esp_train.append(X[i][j])\n",
    "            flattened_y_esp_train.append(y[i][j])\n",
    "    X = np.array(flattened_X_esp_train)\n",
    "    X = v.transform(X)\n",
    "  \n",
    "    y = np.array(flattened_y_esp_train)\n",
    "    y = encoder.fit_transform(y)\n",
    "\n",
    "    return X,y"
   ]
  },
  {
   "cell_type": "code",
   "execution_count": 10,
   "metadata": {},
   "outputs": [
    {
     "data": {
      "text/plain": [
       "(264715,)"
      ]
     },
     "execution_count": 10,
     "metadata": {},
     "output_type": "execute_result"
    }
   ],
   "source": [
    "fit(X_esp_train)\n",
    "X,y = extract_features(X_esp_train,y_esp_train)\n",
    "X_test,y_test = extract_features(X_esp_test,y_esp_test)\n",
    "y.shape"
   ]
  },
  {
   "cell_type": "code",
   "execution_count": 11,
   "metadata": {},
   "outputs": [
    {
     "data": {
      "text/plain": [
       "array(['B-LOC', 'B-MISC', 'B-ORG', 'B-PER', 'I-LOC', 'I-MISC', 'I-ORG',\n",
       "       'I-PER', 'O'], dtype='<U6')"
      ]
     },
     "execution_count": 11,
     "metadata": {},
     "output_type": "execute_result"
    }
   ],
   "source": [
    "encoder.inverse_transform([0,1,2,3,4,5,6,7,8])"
   ]
  },
  {
   "cell_type": "code",
   "execution_count": 12,
   "metadata": {},
   "outputs": [
    {
     "name": "stdout",
     "output_type": "stream",
     "text": [
      "              precision    recall  f1-score   support\n",
      "\n",
      "       B-LOC       0.55      0.77      0.65       984\n",
      "      B-MISC       0.51      0.44      0.47       445\n",
      "       B-ORG       0.73      0.71      0.72      1700\n",
      "       B-PER       0.68      0.61      0.64      1222\n",
      "       I-LOC       0.62      0.36      0.46       337\n",
      "      I-MISC       0.42      0.19      0.26       654\n",
      "       I-ORG       0.55      0.28      0.37      1366\n",
      "       I-PER       0.52      0.55      0.53       859\n",
      "           O       0.97      1.00      0.99     45356\n",
      "\n",
      "    accuracy                           0.93     52923\n",
      "   macro avg       0.62      0.55      0.57     52923\n",
      "weighted avg       0.92      0.93      0.92     52923\n",
      "\n"
     ]
    },
    {
     "name": "stderr",
     "output_type": "stream",
     "text": [
      "/opt/anaconda3/envs/nlp21/lib/python3.8/site-packages/sklearn/linear_model/_logistic.py:762: ConvergenceWarning: lbfgs failed to converge (status=1):\n",
      "STOP: TOTAL NO. of ITERATIONS REACHED LIMIT.\n",
      "\n",
      "Increase the number of iterations (max_iter) or scale the data as shown in:\n",
      "    https://scikit-learn.org/stable/modules/preprocessing.html\n",
      "Please also refer to the documentation for alternative solver options:\n",
      "    https://scikit-learn.org/stable/modules/linear_model.html#logistic-regression\n",
      "  n_iter_i = _check_optimize_result(\n"
     ]
    }
   ],
   "source": [
    "lg_clf = LogisticRegression(random_state = 0)\n",
    "\n",
    "lg_clf.fit(X, y)\n",
    "y_test_pred = lg_clf.predict(X_test)\n",
    "labels = ['B-LOC', 'B-MISC', 'B-ORG', 'B-PER', 'I-LOC', 'I-MISC', 'I-ORG','I-PER', 'O']\n",
    "print(classification_report(y_test, y_test_pred, target_names=labels))"
   ]
  },
  {
   "cell_type": "markdown",
   "metadata": {},
   "source": [
    "we got 93% accuracy that look a good result but if we look deeper we can see that most of the word are 'O' and that for that category the classifier is right in 99%, but for other categories the classifier give results of about 50% , that is not very good\n",
    "we will try to insert to the features information about previous and next words"
   ]
  },
  {
   "cell_type": "markdown",
   "metadata": {},
   "source": [
    "## trying with better features"
   ]
  },
  {
   "cell_type": "code",
   "execution_count": 13,
   "metadata": {},
   "outputs": [],
   "source": [
    "def word2features2(sent, i):\n",
    "    word = sent[i][0]\n",
    "    postag = sent[i][1]\n",
    "    features = {\n",
    "        \n",
    "        'word.lower' : word.lower(),\n",
    "        'pre1' : word[:1],\n",
    "        'pre2' : word[:2],\n",
    "        'pre3' : word[:3],\n",
    "        'suf1' : word[-1:],\n",
    "        'suf2' : word[-2:],\n",
    "        'suf3' : word[-3:],\n",
    "        'ORT' : ORT[ORTrecon(word)],\n",
    "        'postag' : postag,\n",
    "    }\n",
    "\n",
    "    if i > 0:\n",
    "        word1 = sent[i-1][0]\n",
    "        postag1 = sent[i-1][1]\n",
    "        features.update({\n",
    "            '-1:word.lower=' : word1.lower(),\n",
    "            '-1:postag=' : postag1,\n",
    "            \n",
    "        })\n",
    "    else:\n",
    "        features.update({'-1':'BOS'})\n",
    "        \n",
    "    if i < len(sent)-1:\n",
    "        word1 = sent[i+1][0]\n",
    "        postag1 = sent[i+1][1]\n",
    "        features.update({\n",
    "            '+1:word.lower=' : word1.lower(),\n",
    "            '+1:postag=' : postag1,\n",
    "        })\n",
    "    else:\n",
    "        features.update({'+1':'EOS'})\n",
    "                \n",
    "    return features\n",
    "\n",
    "\n",
    "\n",
    "def sent2features2(sent):\n",
    "    features = []\n",
    "    for i in range(0,len(sent)):\n",
    "        features.append(word2features2(sent,i))\n",
    "    return features\n",
    "    \n",
    "def sent2labels(sent):\n",
    "    return [label for token, postag, label in sent]"
   ]
  },
  {
   "cell_type": "code",
   "execution_count": 14,
   "metadata": {},
   "outputs": [],
   "source": [
    "from sklearn.feature_extraction import DictVectorizer\n",
    "v = DictVectorizer()\n",
    "\n",
    "from sklearn.preprocessing import LabelEncoder\n",
    "encoder=LabelEncoder()\n",
    "\n",
    "train_sents = etr2\n",
    "X_esp_train2 = [sent2features2(s) for s in train_sents]\n",
    "y_esp_train2 = [sent2labels(s) for s in train_sents]\n",
    "\n",
    "test_sents = eta2\n",
    "X_esp_test2 = [sent2features2(s) for s in test_sents]\n",
    "y_esp_test2 = [sent2labels(s) for s in test_sents]"
   ]
  },
  {
   "cell_type": "code",
   "execution_count": 15,
   "metadata": {},
   "outputs": [
    {
     "data": {
      "text/plain": [
       "(52923, 83336)"
      ]
     },
     "execution_count": 15,
     "metadata": {},
     "output_type": "execute_result"
    }
   ],
   "source": [
    "fit(X_esp_train2)\n",
    "X2,y2 = extract_features(X_esp_train2,y_esp_train2)\n",
    "X_test2,y_test2 = extract_features(X_esp_test2,y_esp_test2)\n",
    "X_test2.shape"
   ]
  },
  {
   "cell_type": "code",
   "execution_count": 16,
   "metadata": {},
   "outputs": [
    {
     "name": "stdout",
     "output_type": "stream",
     "text": [
      "              precision    recall  f1-score   support\n",
      "\n",
      "       B-LOC       0.59      0.77      0.67       984\n",
      "      B-MISC       0.57      0.45      0.50       445\n",
      "       B-ORG       0.79      0.75      0.77      1700\n",
      "       B-PER       0.85      0.78      0.82      1222\n",
      "       I-LOC       0.66      0.55      0.60       337\n",
      "      I-MISC       0.50      0.29      0.36       654\n",
      "       I-ORG       0.67      0.44      0.53      1366\n",
      "       I-PER       0.76      0.80      0.78       859\n",
      "           O       0.98      1.00      0.99     45356\n",
      "\n",
      "    accuracy                           0.95     52923\n",
      "   macro avg       0.71      0.65      0.67     52923\n",
      "weighted avg       0.94      0.95      0.94     52923\n",
      "\n"
     ]
    },
    {
     "name": "stderr",
     "output_type": "stream",
     "text": [
      "/opt/anaconda3/envs/nlp21/lib/python3.8/site-packages/sklearn/linear_model/_logistic.py:762: ConvergenceWarning: lbfgs failed to converge (status=1):\n",
      "STOP: TOTAL NO. of ITERATIONS REACHED LIMIT.\n",
      "\n",
      "Increase the number of iterations (max_iter) or scale the data as shown in:\n",
      "    https://scikit-learn.org/stable/modules/preprocessing.html\n",
      "Please also refer to the documentation for alternative solver options:\n",
      "    https://scikit-learn.org/stable/modules/linear_model.html#logistic-regression\n",
      "  n_iter_i = _check_optimize_result(\n"
     ]
    }
   ],
   "source": [
    "lg_clf = LogisticRegression(random_state = 0)\n",
    "\n",
    "lg_clf.fit(X2, y2)\n",
    "y_test_pred2 = lg_clf.predict(X_test2)\n",
    "labels = ['B-LOC', 'B-MISC', 'B-ORG', 'B-PER', 'I-LOC', 'I-MISC', 'I-ORG','I-PER', 'O']\n",
    "print(classification_report(y_test2, y_test_pred2, target_names=labels))"
   ]
  },
  {
   "cell_type": "markdown",
   "metadata": {},
   "source": [
    "we got better results but still that classifier almost always right with 'O' but with other categories it get about 70%"
   ]
  },
  {
   "cell_type": "markdown",
   "metadata": {},
   "source": [
    "## training model with dutch"
   ]
  },
  {
   "cell_type": "code",
   "execution_count": 17,
   "metadata": {},
   "outputs": [],
   "source": [
    "from sklearn.feature_extraction import DictVectorizer\n",
    "v = DictVectorizer()\n",
    "\n",
    "from sklearn.preprocessing import LabelEncoder\n",
    "encoder=LabelEncoder()\n",
    "\n",
    "train_sents = dtr2\n",
    "X_ned_train2 = [sent2features2(s) for s in train_sents]\n",
    "y_ned_train2 = [sent2labels(s) for s in train_sents]\n",
    "\n",
    "test_sents = dta2\n",
    "X_ned_test2 = [sent2features2(s) for s in test_sents]\n",
    "y_ned_test2 = [sent2labels(s) for s in test_sents]"
   ]
  },
  {
   "cell_type": "code",
   "execution_count": 18,
   "metadata": {},
   "outputs": [
    {
     "data": {
      "text/plain": [
       "(37687, 88567)"
      ]
     },
     "execution_count": 18,
     "metadata": {},
     "output_type": "execute_result"
    }
   ],
   "source": [
    "fit(X_ned_train2)\n",
    "X4,y4 = extract_features(X_ned_train2,y_ned_train2)\n",
    "X_test4,y_test4 = extract_features(X_ned_test2,y_ned_test2)\n",
    "X_test4.shape"
   ]
  },
  {
   "cell_type": "code",
   "execution_count": 19,
   "metadata": {},
   "outputs": [
    {
     "name": "stdout",
     "output_type": "stream",
     "text": [
      "              precision    recall  f1-score   support\n",
      "\n",
      "       B-LOC       0.76      0.76      0.76       479\n",
      "      B-MISC       0.78      0.74      0.76       748\n",
      "       B-ORG       0.84      0.59      0.69       686\n",
      "       B-PER       0.67      0.79      0.73       703\n",
      "       I-LOC       0.61      0.27      0.37        64\n",
      "      I-MISC       0.63      0.43      0.51       215\n",
      "       I-ORG       0.84      0.54      0.66       396\n",
      "       I-PER       0.63      0.84      0.72       423\n",
      "           O       0.99      1.00      1.00     33973\n",
      "\n",
      "    accuracy                           0.97     37687\n",
      "   macro avg       0.75      0.66      0.69     37687\n",
      "weighted avg       0.97      0.97      0.97     37687\n",
      "\n"
     ]
    },
    {
     "name": "stderr",
     "output_type": "stream",
     "text": [
      "/opt/anaconda3/envs/nlp21/lib/python3.8/site-packages/sklearn/linear_model/_logistic.py:762: ConvergenceWarning: lbfgs failed to converge (status=1):\n",
      "STOP: TOTAL NO. of ITERATIONS REACHED LIMIT.\n",
      "\n",
      "Increase the number of iterations (max_iter) or scale the data as shown in:\n",
      "    https://scikit-learn.org/stable/modules/preprocessing.html\n",
      "Please also refer to the documentation for alternative solver options:\n",
      "    https://scikit-learn.org/stable/modules/linear_model.html#logistic-regression\n",
      "  n_iter_i = _check_optimize_result(\n"
     ]
    }
   ],
   "source": [
    "lg_clf = LogisticRegression(random_state = 0)\n",
    "\n",
    "lg_clf.fit(X4, y4)\n",
    "y_test_pred4 = lg_clf.predict(X_test4)\n",
    "labels = ['B-LOC', 'B-MISC', 'B-ORG', 'B-PER', 'I-LOC', 'I-MISC', 'I-ORG','I-PER', 'O']\n",
    "print(classification_report(y_test4, y_test_pred4, target_names=labels))"
   ]
  },
  {
   "cell_type": "markdown",
   "metadata": {},
   "source": [
    "with dutch we got much better result\n",
    "maybe the structure of language is easier to clssify the role of a word"
   ]
  },
  {
   "cell_type": "markdown",
   "metadata": {},
   "source": [
    "<a name=\"q3.1.3\"></a>\n",
    "<h4>Q3.1.3 Greedy Tagging vs. Sequence Tagging</h4>\n",
    "\n",
    "We implemented above a version of NER which is based on <i>greedy tagging</i>: that is, without optimizing the sequence of tags \n",
    "as we would obtain by training an HMM or CRF model.  \n",
    "In particular, we did not check that the BIO tags produced by the tagger is a legal sequence.\n",
    "Write code to identify sequences of BIO tags which are illegal and report on the frequency of this problem for each type\n",
    "of illegal tags transition (O-IX, IX-IY, BX-IY).  Comment on your observations."
   ]
  },
  {
   "cell_type": "code",
   "execution_count": 20,
   "metadata": {},
   "outputs": [
    {
     "data": {
      "text/plain": [
       "[['1', '2', '3', '4'],\n",
       " ['5', '6', '7'],\n",
       " ['8', '9', '10', '11'],\n",
       " ['12', '13', '14', '15', '16']]"
      ]
     },
     "execution_count": 20,
     "metadata": {},
     "output_type": "execute_result"
    }
   ],
   "source": [
    "is_I = lambda x: x in [1,4,6,8]\n",
    "is_B = lambda x: x in [0,3,5,7]\n",
    "is_O = lambda x: x == 2\n",
    "def reform_predicted(original, flattened):\n",
    "    original = [len(sent) for sent in original]\n",
    "    res = []\n",
    "    for i in range (len(original)):\n",
    "        res += [flattened[:original[i]]]\n",
    "        flattened = flattened[original[i]:]\n",
    "    return res\n",
    "\n",
    "original,flattened = [[1,2,3,4],[5,6,7],[8,9,10,11],[12,13,14,15,16]],['1','2','3','4','5','6','7','8','9','10','11','12','13','14','15','16']\n",
    "reform_predicted(original,flattened)"
   ]
  },
  {
   "cell_type": "code",
   "execution_count": 21,
   "metadata": {},
   "outputs": [
    {
     "name": "stdout",
     "output_type": "stream",
     "text": [
      "error O-IX: 1472\n",
      "error IX-IY: 1703\n",
      "error BX-IY: 2111\n",
      "overall error ratio: 0.09988095912930106\n"
     ]
    }
   ],
   "source": [
    "error_types = {'O-IX': 0,\n",
    "               'IX-IY': 0,\n",
    "               'BX-IY' :0\n",
    "               }\n",
    "predicted_reformed = reform_predicted(y_esp_test,y_test_pred)\n",
    "for sent in predicted_reformed:\n",
    "    for i in range(len(sent)-1):\n",
    "        if is_O(sent[i]) and is_I(sent[i+1]):\n",
    "            error_types['O-IX'] += 1\n",
    "        if is_I(sent[i]) and is_I(sent[i+1]) and sent[i] != sent[i+1]:\n",
    "            error_types['IX-IY'] += 1\n",
    "        if is_B(sent[i]) and is_I(sent[i+1]) and sent[i]+1 != sent[i+1]:\n",
    "            error_types['BX-IY'] += 1\n",
    "print('error O-IX:',error_types['O-IX'])\n",
    "print('error IX-IY:',error_types['IX-IY'])\n",
    "print('error BX-IY:',error_types['BX-IY'])\n",
    "print(f'overall error ratio: {sum(error_types.values())/len(y_test_pred)}')\n"
   ]
  },
  {
   "cell_type": "markdown",
   "metadata": {},
   "source": [
    "almost 10% of the prediction have a mistake in the sentence structure, that may be a way to improve the model taking only results that give legal BIO tags"
   ]
  },
  {
   "cell_type": "markdown",
   "metadata": {},
   "source": [
    "<a name=\"q3.2\"></a>\n",
    "<h3>Q3.2 Using Word Embeddings</h3>\n",
    "\n",
    "One way to improve a greedy tagger for NER is to use Word Embeddings as features.\n",
    "A convenient package to manipulate Word2Vec word embeddings is provided in the <a href=\"https://radimrehurek.com/gensim/\">gensim</a> package by Radim Rehurek.\n",
    "To install it, use:"
   ]
  },
  {
   "cell_type": "code",
   "execution_count": 4,
   "metadata": {},
   "outputs": [
    {
     "name": "stdout",
     "output_type": "stream",
     "text": [
      "Requirement already satisfied: gensim in /opt/anaconda3/envs/nlp21/lib/python3.8/site-packages (3.8.3)\n",
      "Requirement already satisfied: six>=1.5.0 in /opt/anaconda3/envs/nlp21/lib/python3.8/site-packages (from gensim) (1.15.0)\n",
      "Requirement already satisfied: scipy>=0.18.1 in /opt/anaconda3/envs/nlp21/lib/python3.8/site-packages (from gensim) (1.5.2)\n",
      "Requirement already satisfied: numpy>=1.11.3 in /opt/anaconda3/envs/nlp21/lib/python3.8/site-packages (from gensim) (1.18.5)\n",
      "Requirement already satisfied: smart-open>=1.8.1 in /opt/anaconda3/envs/nlp21/lib/python3.8/site-packages (from gensim) (4.1.0)\n"
     ]
    }
   ],
   "source": [
    "!pip install gensim"
   ]
  },
  {
   "cell_type": "markdown",
   "metadata": {},
   "source": [
    "You must also download a pre-trained Word2Vec or fastText word embedding model.\n",
    "The models must naturally be in Spanish or Dutch. (Only test word embeddings for one language.)\n",
    "You can find pre-trained word embedding models in different formats:\n",
    "<ol>\n",
    "<li><a href=\"https://github.com/facebookresearch/fastText/blob/master/docs/pretrained-vectors.md\">fastText pretrained models</a> (includes models for 294 languages)\n",
    "<li><a href=\"https://github.com/uchile-nlp/spanish-word-embeddings\">Spanish Word2vec models</a> \n",
    "</ol>\n",
    "\n",
    "Specific information on manipulating word vectors with Gensim is provided in Gensim with the <a href=\"https://radimrehurek.com/gensim/models/keyedvectors.html\">KeyedVector</a>.\n",
    "Practical examples are available for Spanish in this <a href=\"https://github.com/uchile-nlp/spanish-word-embeddings/blob/master/examples/Ejemplo_WordVectors.ipynb\">notebook</a>.\n",
    "(Pay attention that word embeddings large are pretty big files - about 3GB when uncompressed.)\n",
    "\n",
    "Your task:\n",
    "<ol>\n",
    "<li>Add word embeddings as dense vectors to the features of your NER classifier for each word feature (current word, previous word, next word) - either in Spanish or in Dutch.\n",
    "<li>Retrain the model and report on performance.  Comment.\n",
    "</ol>"
   ]
  },
  {
   "cell_type": "code",
   "execution_count": 25,
   "metadata": {},
   "outputs": [],
   "source": [
    "from gensim.models.wrappers import FastText\n",
    "wordvectors_file = 'fasttext-sbwc.bin'\n",
    "wordvectors = FastText.load_fasttext_format(wordvectors_file)\n",
    "wordvec= wordvectors.wv"
   ]
  },
  {
   "cell_type": "code",
   "execution_count": 4,
   "metadata": {},
   "outputs": [
    {
     "name": "stderr",
     "output_type": "stream",
     "text": [
      "<ipython-input-4-8edc554db247>:5: DeprecationWarning: Call to deprecated `wv` (Attribute will be removed in 4.0.0, use self instead).\n",
      "  wordvec= wordvectors.wv\n"
     ]
    }
   ],
   "source": [
    "from gensim.models.keyedvectors import KeyedVectors\n",
    "wordvectors_file_vec = 'fasttext-sbwc.3.6.e20.vec'\n",
    "cantidad = 100000\n",
    "wordvectors = KeyedVectors.load_word2vec_format(wordvectors_file_vec, limit=cantidad)\n",
    "wordvec= wordvectors.wv"
   ]
  },
  {
   "cell_type": "code",
   "execution_count": 26,
   "metadata": {},
   "outputs": [
    {
     "data": {
      "text/plain": [
       "array([ 0.09308621,  0.13575903,  0.32066905, -0.04645631,  0.17830259,\n",
       "       -0.08300799,  0.0134743 ,  0.00728581, -0.22711569,  0.28232634,\n",
       "       -0.21909672, -0.16009901,  0.10111913,  0.22334445, -0.28893474,\n",
       "        0.04611127,  0.2907878 , -0.02798332,  0.09278861,  0.14880201,\n",
       "       -0.32487965,  0.19018716, -0.26646835,  0.24654458, -0.14126346,\n",
       "       -0.52067435,  0.13641559, -0.1952762 , -0.11595683, -0.0162545 ,\n",
       "       -0.14669822,  0.16066636,  0.08808063, -0.04513218, -0.33416927,\n",
       "       -0.27444628,  0.13118125,  0.09793426, -0.10226148, -0.08967437,\n",
       "       -0.08603632,  0.10924771, -0.03838813, -0.22711852,  0.26802292,\n",
       "        0.34735   ,  0.09917481,  0.3701055 ,  0.46873295, -0.06395313,\n",
       "        0.20315112, -0.10584307,  0.32846498,  0.20170146,  0.1722404 ,\n",
       "       -0.46198484,  0.16645345, -0.11210483, -0.23858705,  0.1843492 ,\n",
       "        0.2417461 ,  0.22210692,  0.14008228,  0.38744977,  0.03890306,\n",
       "        0.3307675 , -0.18684664,  0.13391355, -0.21317448, -0.13446793,\n",
       "       -0.36790627, -0.30832356,  0.25625217,  0.12083656,  0.24328348,\n",
       "       -0.06732479, -0.07268459, -0.1555985 , -0.4342209 , -0.3605567 ,\n",
       "        0.08243968,  0.13696605,  0.33349288, -0.06899017,  0.16485834,\n",
       "        0.31423452, -0.20996755,  0.09987582,  0.02721176, -0.47416037,\n",
       "        0.05408919,  0.14370286, -0.03121355, -0.35192996,  0.579677  ,\n",
       "        0.18139884, -0.5083634 , -0.4022109 , -0.20313284, -0.00192089,\n",
       "       -0.0658021 ,  0.26169705, -0.18765381,  0.0477385 ,  0.05749685,\n",
       "       -0.08304885,  0.3200888 ,  0.10715359,  0.10175256, -0.07830948,\n",
       "       -0.14868075, -0.04284485, -0.4538624 , -0.32627392, -0.21849081,\n",
       "       -0.12382117, -0.07921773,  0.08449835, -0.06661844, -0.23661533,\n",
       "       -0.39300168, -0.06084117, -0.2662389 ,  0.17730571, -0.379265  ,\n",
       "       -0.12060334, -0.2962858 ,  0.22360927, -0.36475098, -0.17748661,\n",
       "       -0.17634419, -0.20781726,  0.3004024 , -0.10336831,  0.01892221,\n",
       "        0.13635622,  0.25594637,  0.0140259 ,  0.27462378, -0.6410187 ,\n",
       "        0.05561601, -0.7740127 , -0.07781962,  0.17577247, -0.17970976,\n",
       "        0.11886787, -0.17998858, -0.10441947, -0.02504813, -0.17036411,\n",
       "       -0.108669  , -0.17926674,  0.10386136,  0.58527607,  0.37454176,\n",
       "        0.25652364,  0.21649274,  0.4618585 ,  0.5335062 , -0.387816  ,\n",
       "       -0.48337626, -0.04838862, -0.03796925,  0.24625662,  0.26082638,\n",
       "       -0.08855403,  0.12850444, -0.0711818 ,  0.22342354,  0.07924789,\n",
       "        0.3073703 ,  0.28078222, -0.34097326, -0.06152004, -0.26055694,\n",
       "        0.02009469,  0.23516029,  0.13970733, -0.07738447, -0.32002187,\n",
       "       -0.01441607, -0.11086528, -0.01429299,  0.33877015,  0.42340708,\n",
       "        0.15227209, -0.37545824, -0.6805072 ,  0.17152539,  0.14925325,\n",
       "       -0.12094522, -0.1670562 ,  0.43591332, -0.30725813, -0.16289344,\n",
       "        0.26570255, -0.08667368,  0.21040751, -0.15513323,  0.07102969,\n",
       "        0.21460721,  0.10586739,  0.14375848,  0.02080409,  0.05363527,\n",
       "        0.21041018, -0.42271268,  0.12664671,  0.23026349, -0.10261187,\n",
       "        0.04418987, -0.00860033,  0.07009219, -0.00315151,  0.39682886,\n",
       "       -0.03405669, -0.21661308, -0.09995532,  0.3502885 ,  0.06626546,\n",
       "        0.06825686, -0.26465812, -0.03530653, -0.17582469,  0.0399736 ,\n",
       "        0.2016209 , -0.2918689 , -0.22099252,  0.33893305,  0.25174436,\n",
       "       -0.18115628, -0.2528878 , -0.24788949, -0.34047976,  0.24057463,\n",
       "        0.06782657,  0.16450706,  0.155195  , -0.12504965, -0.26306114,\n",
       "       -0.19445881, -0.2750872 , -0.30616957,  0.12629202,  0.12906103,\n",
       "       -0.23765478,  0.12029292,  0.28184462, -0.14677319,  0.58064854,\n",
       "       -0.07674408,  0.04096389,  0.09271358,  0.21684703,  0.24294621,\n",
       "        0.14310141, -0.08832896, -0.23043227,  0.36544663, -0.01784032,\n",
       "       -0.02815229,  0.21389304,  0.37555918, -0.3195835 , -0.10761192,\n",
       "        0.04869029, -0.02265906, -0.17953199, -0.29788497,  0.30579242,\n",
       "        0.21443334, -0.0285892 ,  0.05240837, -0.06516778, -0.3718228 ,\n",
       "       -0.16493826,  0.02431818,  0.1880836 ,  0.3404563 ,  0.08938847,\n",
       "       -0.13386567,  0.02855353,  0.36965406,  0.20025396,  0.01689582,\n",
       "       -0.19860229,  0.21870556,  0.29287612,  0.43264824,  0.21824759,\n",
       "        0.08826849,  0.3062585 ,  0.096073  ,  0.25420403, -0.02896509,\n",
       "       -0.39079443, -0.50134736,  0.24754979, -0.1619589 , -0.07006681],\n",
       "      dtype=float32)"
      ]
     },
     "execution_count": 26,
     "metadata": {},
     "output_type": "execute_result"
    }
   ],
   "source": [
    "wordvec['i']"
   ]
  },
  {
   "cell_type": "code",
   "execution_count": 27,
   "metadata": {},
   "outputs": [],
   "source": [
    "def word2featuresW(sent, i):\n",
    "    word = sent[i][0]\n",
    "    postag = sent[i][1]\n",
    "    word2vec=word2vect(word)\n",
    "    features = {\n",
    "        \n",
    "        'word.lower' : word.lower(),\n",
    "        'pre1' : word[:1],\n",
    "        'pre2' : word[:2],\n",
    "        'pre3' : word[:3],\n",
    "        'suf1' : word[-1:],\n",
    "        'suf2' : word[-2:],\n",
    "        'suf3' : word[-3:],\n",
    "        'ORT' : ORT[ORTrecon(word)],\n",
    "        'postag' : postag,\n",
    "    }\n",
    "\n",
    "    if i > 0:\n",
    "        word1 = sent[i-1][0]\n",
    "        postag1 = sent[i-1][1]\n",
    "        features.update({\n",
    "            '-1:word.lower=' : word1.lower(),\n",
    "            '-1:postag=' : postag1,\n",
    "            \n",
    "        })\n",
    "        word2vec=np.append(word2vec,word2vect(word1))\n",
    "\n",
    "\n",
    "    else:\n",
    "        features.update({'-1':'BOS'})\n",
    "        word2vec=np.append(word2vec,np.zeros(wordvec['i'].shape[0]))\n",
    "        \n",
    "    if i < len(sent)-1:\n",
    "        word1 = sent[i+1][0]\n",
    "        postag1 = sent[i+1][1]\n",
    "        features.update({\n",
    "            '+1:word.lower=' : word1.lower(),\n",
    "            '+1:postag=' : postag1,\n",
    "        })\n",
    "        word2vec=np.append(word2vec,word2vect(word1))\n",
    "\n",
    "\n",
    "    else:\n",
    "        features.update({'+1':'EOS'})\n",
    "        word2vec=np.append(word2vec,np.zeros(wordvec['i'].shape[0]))\n",
    "                \n",
    "    return features,word2vec\n",
    "\n",
    "def word2vect(sent):\n",
    "    try:\n",
    "        vect= wordvec[sent]\n",
    "    except:\n",
    "        vect=np.random.rand(wordvec['i'].shape[0])\n",
    "    return vect\n",
    "\n",
    "\n",
    "def sent2featuresW(sent):\n",
    "    features = []\n",
    "    word2vecs=[]\n",
    "    for i in range(0,len(sent)):\n",
    "        feature,word2vec= word2featuresW(sent,i)\n",
    "        features.append(feature)\n",
    "        word2vecs.append(word2vec)\n",
    "    return features,word2vecs\n",
    "    \n",
    "def sent2labels(sent):\n",
    "    return [label for token, postag, label in sent]"
   ]
  },
  {
   "cell_type": "code",
   "execution_count": 28,
   "metadata": {},
   "outputs": [],
   "source": [
    "from sklearn.feature_extraction import DictVectorizer\n",
    "v = DictVectorizer()\n",
    "\n",
    "from sklearn.preprocessing import LabelEncoder\n",
    "encoder=LabelEncoder()\n",
    "\n",
    "def feature_create(sents):\n",
    "    X_trainW_f=[]\n",
    "    X_trainW_v=[]\n",
    "    for s in sents:\n",
    "        features,word2vecs = sent2featuresW(s)\n",
    "        X_trainW_f.append(features)\n",
    "        X_trainW_v.append(word2vecs)\n",
    "    return X_trainW_f,X_trainW_v\n",
    "\n",
    "train_sents = etr2\n",
    "X_esp_trainW_f ,X_esp_trainW_v =feature_create(train_sents)\n",
    "y_esp_trainW = [sent2labels(s) for s in train_sents]\n",
    "\n",
    "test_sents = eta2\n",
    "X_esp_testW_f ,X_esp_testW_v =feature_create(test_sents)\n",
    "y_esp_testW = [sent2labels(s) for s in test_sents]"
   ]
  },
  {
   "cell_type": "code",
   "execution_count": 29,
   "metadata": {},
   "outputs": [],
   "source": [
    "v = DictVectorizer(sparse=True)\n",
    "encoder=LabelEncoder()\n",
    "\n",
    "def fit2(X_train_f,X_train_v):\n",
    "    flattened_X_v = []\n",
    "    flattened_X_f = []\n",
    "    for i in range(len(X_train_f)):\n",
    "        for j in range(len(X_train_f[i])):\n",
    "            flattened_X_v.append(X_train_v[i][j])\n",
    "            flattened_X_f.append(X_train_f[i][j])\n",
    "    v.fit(np.array(flattened_X_f))\n",
    "    \n",
    "def extract_features2(X_f,X_v,y):\n",
    "    flattened_X_v = []\n",
    "    flattened_X_f = []\n",
    "    flattened_y = []\n",
    "    for i in range(len(X_f)):\n",
    "        assert(len(X_f[i]) == len(y[i]))\n",
    "        for j in range(len(X_f[i])):\n",
    "            flattened_X_v.append(X_v[i][j])\n",
    "            flattened_X_f.append(X_f[i][j])\n",
    "            flattened_y.append(y[i][j])\n",
    "    X = np.array(flattened_X_f)\n",
    "    X = v.transform(X)\n",
    "    \n",
    "    X2 = np.array(flattened_X_v)\n",
    "\n",
    "\n",
    "  \n",
    "    y = np.array(flattened_y)\n",
    "    y = encoder.fit_transform(y)\n",
    "\n",
    "    return X,X2,y"
   ]
  },
  {
   "cell_type": "code",
   "execution_count": 30,
   "metadata": {},
   "outputs": [],
   "source": [
    "def extract_features3(X_f,X_v,y):\n",
    "    flattened_X = []\n",
    "    flattened_y = []\n",
    "    for i in range(len(X_f)):\n",
    "        assert(len(X_f[i]) == len(y[i]))\n",
    "        for j in range(len(X_f[i])):\n",
    "            line= v.transform(X_f[i]).toarray()\n",
    "            flattened_X.append(np.append(line,X_v[i][j]))\n",
    "            flattened_y.append(y[i][j])\n",
    "        \n",
    "    X = np.array(flattened_X)  \n",
    "    y = np.array(flattened_y)\n",
    "    y = encoder.fit_transform(y)\n",
    "\n",
    "    return X,y"
   ]
  },
  {
   "cell_type": "code",
   "execution_count": 31,
   "metadata": {},
   "outputs": [],
   "source": [
    "from scipy import sparse\n",
    "from scipy.sparse import hstack\n",
    "fit2(X_esp_trainW_f,X_esp_trainW_v)\n",
    "Xw_f,Xw_v,yw = extract_features2(X_esp_trainW_f,X_esp_trainW_v,y_esp_trainW)\n",
    "Xw_v2 = sparse.csr_matrix(Xw_v)"
   ]
  },
  {
   "cell_type": "code",
   "execution_count": 32,
   "metadata": {},
   "outputs": [
    {
     "data": {
      "text/plain": [
       "((264715, 900), (264715, 83336), (264715,))"
      ]
     },
     "execution_count": 32,
     "metadata": {},
     "output_type": "execute_result"
    }
   ],
   "source": [
    "Xw_v2.shape,Xw_f.shape,yw.shape"
   ]
  },
  {
   "cell_type": "code",
   "execution_count": 33,
   "metadata": {},
   "outputs": [],
   "source": [
    "X=hstack([Xw_f,Xw_v2])"
   ]
  },
  {
   "cell_type": "code",
   "execution_count": 34,
   "metadata": {},
   "outputs": [
    {
     "data": {
      "text/plain": [
       "(264715, 84236)"
      ]
     },
     "execution_count": 34,
     "metadata": {},
     "output_type": "execute_result"
    }
   ],
   "source": [
    "X.shape"
   ]
  },
  {
   "cell_type": "code",
   "execution_count": 35,
   "metadata": {},
   "outputs": [
    {
     "name": "stderr",
     "output_type": "stream",
     "text": [
      "/opt/anaconda3/envs/nlp21/lib/python3.8/site-packages/sklearn/linear_model/_logistic.py:762: ConvergenceWarning: lbfgs failed to converge (status=1):\n",
      "STOP: TOTAL NO. of ITERATIONS REACHED LIMIT.\n",
      "\n",
      "Increase the number of iterations (max_iter) or scale the data as shown in:\n",
      "    https://scikit-learn.org/stable/modules/preprocessing.html\n",
      "Please also refer to the documentation for alternative solver options:\n",
      "    https://scikit-learn.org/stable/modules/linear_model.html#logistic-regression\n",
      "  n_iter_i = _check_optimize_result(\n"
     ]
    },
    {
     "data": {
      "text/plain": [
       "LogisticRegression(random_state=0)"
      ]
     },
     "execution_count": 35,
     "metadata": {},
     "output_type": "execute_result"
    }
   ],
   "source": [
    "lg_clf = LogisticRegression(random_state = 0,max_iter=10000)\n",
    "lg_clf.fit(X,yw)\n"
   ]
  },
  {
   "cell_type": "code",
   "execution_count": 36,
   "metadata": {},
   "outputs": [],
   "source": [
    "\n",
    "Xw_v2 = sparse.csr_matrix(Xw_v)\n",
    "\n",
    "X_test_f,X_test_v,y_test = extract_features2(X_esp_testW_f ,X_esp_testW_v,y_esp_testW)\n",
    "\n",
    "X_test_v2 = sparse.csr_matrix(X_test_v)\n",
    "X_test=hstack([X_test_f,X_test_v2])"
   ]
  },
  {
   "cell_type": "code",
   "execution_count": 37,
   "metadata": {},
   "outputs": [
    {
     "name": "stdout",
     "output_type": "stream",
     "text": [
      "              precision    recall  f1-score   support\n",
      "\n",
      "       B-LOC       0.57      0.72      0.64       984\n",
      "      B-MISC       0.42      0.43      0.43       445\n",
      "       B-ORG       0.74      0.70      0.72      1700\n",
      "       B-PER       0.82      0.77      0.79      1222\n",
      "       I-LOC       0.47      0.51      0.49       337\n",
      "      I-MISC       0.41      0.29      0.34       654\n",
      "       I-ORG       0.64      0.44      0.52      1366\n",
      "       I-PER       0.79      0.77      0.78       859\n",
      "           O       0.98      0.99      0.99     45356\n",
      "\n",
      "    accuracy                           0.94     52923\n",
      "   macro avg       0.65      0.62      0.63     52923\n",
      "weighted avg       0.94      0.94      0.94     52923\n",
      "\n"
     ]
    }
   ],
   "source": [
    "y_test_predw = lg_clf.predict(X_test)\n",
    "labels = ['B-LOC', 'B-MISC', 'B-ORG', 'B-PER', 'I-LOC', 'I-MISC', 'I-ORG','I-PER', 'O']\n",
    "print(classification_report(y_test, y_test_predw, target_names=labels))"
   ]
  },
  {
   "cell_type": "markdown",
   "metadata": {},
   "source": [
    "with this method we didnt get better results than before, that is suprising since we believed that adding word emmbedding might improve the model.\n",
    "there may be few reason for that:\n",
    "one reason is that the word emmbeding features was less than the feature built by the dictionary- 900 vs 83,000 and therefore maybe this was significant enough.\n",
    "another reason for that maybe the feature structures that don't compare between the rights word emmbedding features(enttering the word emmbeding into the feature dictionary didn't work)\n",
    "another factor may be the unknown words- in the data there are lots of unknown words that get a 0- array mapping and might influence the results."
   ]
  },
  {
   "cell_type": "code",
   "execution_count": null,
   "metadata": {},
   "outputs": [],
   "source": []
  }
 ],
 "metadata": {
  "kernelspec": {
   "display_name": "Python 3",
   "language": "python",
   "name": "python3"
  },
  "language_info": {
   "codemirror_mode": {
    "name": "ipython",
    "version": 3
   },
   "file_extension": ".py",
   "mimetype": "text/x-python",
   "name": "python",
   "nbconvert_exporter": "python",
   "pygments_lexer": "ipython3",
   "version": "3.8.5"
  }
 },
 "nbformat": 4,
 "nbformat_minor": 4
}
