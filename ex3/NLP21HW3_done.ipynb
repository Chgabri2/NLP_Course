{
 "cells": [
  {
   "cell_type": "markdown",
   "metadata": {
    "id": "PEyL9M5M6Vd4"
   },
   "source": [
    "<h1>Assignment 3</h1>\n",
    "\n",
    "<h2>Due: Tue 28 Jan 2020 Midnight</h2>\n",
    "<a href='http://www.cs.bgu.ac.il/~elhadad/nlp21.html'>Natural Language Processing - Fall 2021 Michael Elhadad</a>\n",
    "<p/>\n",
    "This assignment covers the topic of syntactic parsing.\n",
    "Submit your solution in the form of a Jupyter notebook (ipynb) file.\n",
    "\n",
    "<h2>Content</h2>\n",
    "<ul>\n",
    "<li><a href=\"#q1\">Q1: Designing CFGs for NLP</a></li>\n",
    "    <ul>\n",
    "        <li><a href=\"#q1.1\">Q1.1: Extend a CFG to support Number agreement, Pronouns and Dative Constructions</a>\n",
    "            <ul>\n",
    "                <li><a href=\"#q1.1.1\">Q1.1.1 Determiners and Count/Mass Nouns</a></li>\n",
    "                <li><a href=\"#q1.1.2\">Q1.1.2 Pronouns</a></li>\n",
    "                <li><a href=\"#q1.1.3\">Q1.1.3 Subject/Verb Agreement</a></li>\n",
    "                <li><a href=\"#q1.1.4\">Q1.1.4 Over-generation</a></li>\n",
    "            </ul>            \n",
    "        </li>\n",
    "        <li><a href=\"#q1.2\">Q1.2: Extend a CFG to support Coordination and Prepositional Phrases</a>\n",
    "            <ul>\n",
    "                <li><a href=\"#q1.2.1\">Q1.2.1 Support Prepositional Phrases</a></li>\n",
    "                <li><a href=\"#q1.2.2\">Q1.2.2 Support Coordination</a></li>\n",
    "                <li><a href=\"#q1.2.3\">Q1.2.3 Over-generation</a></li>\n",
    "            </ul>            \n",
    "        </li>\n",
    "    </ul>\n",
    "</li>\n",
    "<li><a href=\"#q2\">Q2: Learning a PCFG from a Treebank</a>\n",
    "    <ul>\n",
    "        <li><a href=\"#q2.1\">Q2.1 Random PCFG Generation</a>\n",
    "            <ul>\n",
    "                <li><a href=\"#q2.1.1\">Q2.1.1 PCFG_Generate</a></li>\n",
    "                <li><a href=\"#q2.1.2\">Q2.1.2 Generate 1,000 Trees</a></li>\n",
    "                <li><a href=\"#q2.1.3\">Q2.1.3 Gather Rules Frequency for all Non-Terminals</a></li>\n",
    "                <li><a href=\"#q2.1.4\">Q2.1.4 Compute KL-Divergence between a priori and generated parameters</a></li>\n",
    "            </ul>\n",
    "        </li>\n",
    "        <li><a href=\"#q2.2\">Q2.2 Learn a PCFG from a Treebank</a>\n",
    "            <ul>\n",
    "                <li><a href=\"#q2.2.1\">Q2.2.1 Induce_PCFG</a></li>\n",
    "                <li><a href=\"#q2.2.2\">Q2.2.2 Data Exploration</a></li>\n",
    "            </ul>\n",
    "        </li>\n",
    "        <li><a href=\"#q2.3\">Q2.3 Induce a PCFG in Chomsky Normal Form</a>\n",
    "            <ul>\n",
    "                <li><a href=\"#q2.3.1\">Q2.3.1 PCFG_CNF_Learn</a></li>\n",
    "                <li><a href=\"#q2.3.2\">Q2.3.2 Data Exploration</a></li>\n",
    "            </ul>\n",
    "        </li>\n",
    "        <li><a href=\"#q2.4\">Q2.4 Test CFG Independence Assumptions</a></li>\n",
    "    </ul>\n",
    "</li>\n",
    "<li><a href=\"#q3\">Q3: Building and Evaluating a Simple PCFG Parser</a>\n",
    "\t<ul>\n",
    "        <li><a href=\"#q3.1\">Q3.1 Build a Parser</a>\n",
    "            <ul>\n",
    "                <li><a href=\"#q3.1.1\">Q3.1.1 Dataset Split</a></li>\n",
    "                <li><a href=\"#q3.1.2\">Q3.1.2 Learn a PCFG over the Chomsky Normal Form</a></li>\n",
    "                <li><a href=\"#q3.1.3\">Q3.1.3 Viterbi Parser</a></li>\n",
    "            </ul>            \n",
    "        </li>\n",
    "        <li><a href=\"#q3.2\">Q3.2 Evaluate the Parser</a></li>\n",
    "        <li><a href=\"#q3.3\">Q3.3 Accuracy per Distance</a></li>\n",
    "        <li><a href=\"#q3.4\">Q3.4 Accuracy per Label</a></li>\n",
    "    </ul>\n",
    "</li>\n",
    "</ul>"
   ]
  },
  {
   "cell_type": "markdown",
   "metadata": {
    "id": "FUF8PkJT6Vd6"
   },
   "source": [
    "<hr/>\n",
    "<a name=\"q1\"></a>\n",
    "<h2>Question 1: Designing CFGs for NLP</h2>\n",
    "\n",
    "NLTK provides library support to read CFGs from string representation, and parse sentences given a CFG using different \n",
    "parsing algorithms (either top-down or bottom-up).  In this question, we manually develop a grammar to support \n",
    "increasingly complex phenomena in English syntax. The following code provides the starting point:"
   ]
  },
  {
   "cell_type": "code",
   "execution_count": null,
   "metadata": {
    "colab": {
     "base_uri": "https://localhost:8080/"
    },
    "id": "hZVCPOgk6Vd7",
    "outputId": "446afb1d-0957-4b03-aab0-7d1b41f63546"
   },
   "outputs": [
    {
     "name": "stdout",
     "output_type": "stream",
     "text": [
      "Parsing 'John left'\n",
      "    [ * John left]\n",
      "  S [ 'John' * left]\n",
      "  R [ NP * left]\n",
      "  S [ NP 'left' * ]\n",
      "  R [ NP IV * ]\n",
      "  R [ NP VP * ]\n",
      "  R [ S * ]\n",
      "sent John left :: True\n",
      "Parsing 'John eats bread'\n",
      "    [ * John eats bread]\n",
      "  S [ 'John' * eats bread]\n",
      "  R [ NP * eats bread]\n",
      "  S [ NP 'eats' * bread]\n",
      "  R [ NP TV * bread]\n",
      "  S [ NP TV 'bread' * ]\n",
      "  R [ NP TV NP * ]\n",
      "  R [ NP VP * ]\n",
      "  R [ S * ]\n",
      "sent John eats bread :: True\n"
     ]
    }
   ],
   "source": [
    "import nltk\n",
    "from nltk import CFG\n",
    "from nltk import ViterbiParser\n",
    "sg = \"\"\"\n",
    "S -> NP VP\n",
    "VP -> IV | TV NP\n",
    "NP -> 'John' | \"bread\"\n",
    "IV -> 'left'\n",
    "TV -> 'eats'\n",
    "\"\"\"\n",
    "g = CFG.fromstring(sg)\n",
    "\n",
    "# Bottom-up  parser\n",
    "sr_parser = nltk.ShiftReduceParser(g, trace=2)\n",
    "\n",
    "# Parse sentences and observe the behavior of the parser\n",
    "def parse_sentence(sent):\n",
    "    tokens = sent.split()\n",
    "    trees = sr_parser.parse(tokens)\n",
    "    found = False\n",
    "    for tree in  trees:\n",
    "      if tree.label() == 'S':\n",
    "        found = True\n",
    "    print(f'sent {sent} :: {found}')\n",
    "parse_sentence(\"John left\")\n",
    "parse_sentence(\"John eats bread\")"
   ]
  },
  {
   "cell_type": "markdown",
   "metadata": {
    "id": "15o9-pSm6Vd8"
   },
   "source": [
    "In this toy grammar, the following non-terminals are used:\n",
    "<ul>\n",
    "<li>S: sentence\n",
    "<li>VP: verb phrase\n",
    "<li>NP: noun phrase\n",
    "<li>IV: intransitive verb (a verb which does not expect a complement)\n",
    "<li>TV: transitive verb (a verb which expects an obligatory complement)\n",
    "</ul>\n",
    "\n",
    "<a name=\"q1.1\"></a>\n",
    "<h3>Question 1.1: Extend a CFG to support Determiners, Number agreement, Countable/Mass nouns, Pronouns and Dative Constructions</h3>\n",
    "\n",
    "Extend the CFG so that the following sentences can be parsed:\n",
    "<pre>\n",
    "    John left\n",
    "    John loves Mary\n",
    "    They love Mary\n",
    "    They love her\n",
    "    She loves them\n",
    "    Everybody loves John\n",
    "    A boy loves Mary\n",
    "\tThe boy loves Mary\n",
    "\tSome boys love Mary\n",
    "    John gave Mary a heavy book\n",
    "    John gave it to Mary\n",
    "\tJohn likes butter\n",
    "\tJohn moves a chair\n",
    "</pre>"
   ]
  },
  {
   "cell_type": "markdown",
   "metadata": {
    "id": "C_CfLQ106Vd8"
   },
   "source": [
    "<a name=\"q1.1.1\"></a>\n",
    "<h4>1.1.1 Determiners and Count/Mass Nouns</h4>\n",
    "\n",
    "<b>Determiners</b> in English come before common nouns.\n",
    "Proper nouns cannot have a determiner. (We ignore cases such as \"The Petersons came by tonight for a visit.\")\n",
    "<p/>\n",
    "Some determiners can only be used for singular nouns (\"a\"), others only for plural nouns (\"many\") and others with either plural or singular (\"the\").\n",
    "<p/>\n",
    "Some common nouns are called \"uncountable\" or <a href=\"https://en.wikipedia.org/wiki/Mass_noun\">mass nouns</a> (e.g., \"butter\").\n",
    "Mass nouns cannot appear in plural and cannot have counting determiners.\n",
    "Other nouns are <a href=https://en.wikipedia.org/wiki/Count_noun\">countable nouns</a>. They can be used in the plural and can be modified by counting determiners.\n",
    "<p/>\n",
    "Extend the grammar to support countable and uncountable nouns with the corresponding restrictions on determiners and plural.\n",
    "<p/>"
   ]
  },
  {
   "cell_type": "code",
   "execution_count": null,
   "metadata": {
    "colab": {
     "base_uri": "https://localhost:8080/"
    },
    "id": "4l1Q1P5kQOeP",
    "outputId": "17842e68-2e5d-4b42-d963-a5ba940310ba"
   },
   "outputs": [
    {
     "name": "stdout",
     "output_type": "stream",
     "text": [
      "John left ::: True\n",
      "John eats bread ::: True\n",
      "John eats the bread ::: True\n",
      "John eats many bread ::: False\n",
      "John eats a bread ::: False\n",
      "John reads the books ::: True\n",
      "John reads many books ::: True\n",
      "John reads a book ::: True\n",
      "John reads many book ::: False\n"
     ]
    }
   ],
   "source": [
    "# DET -> PD | SD | AD\r\n",
    "shortcuts = \"\"\"\r\n",
    "PD -> plural Determiner\r\n",
    "SD -> Singular Determiner\r\n",
    "AD -> Agnostic Determiner\r\n",
    "MN -> Mass Noun\r\n",
    "CNP -> Plural Count Noun \r\n",
    "CNS -> Singular Count Noun\r\n",
    "\"\"\"\r\n",
    "sg = \"\"\"\r\n",
    "S -> NP VP\r\n",
    "VP -> IV | TV NP\r\n",
    "PD -> 'many'\r\n",
    "SD -> 'a'\r\n",
    "AD -> 'the'\r\n",
    "MN -> 'bread' | 'butter' | 'cheese'\r\n",
    "CNP -> 'chairs' | 'books' | 'shelfs'\r\n",
    "CNS -> 'chair' | 'book' | 'shelf'\r\n",
    "NP -> AD CNP | PD CNP | AD CNS | SD CNS | AD MN | PROPN | Noun\r\n",
    "Noun -> MN | CNP | CNS\r\n",
    "PROPN -> 'John' | 'Baraa' | 'Gabriela'\r\n",
    "IV -> 'left'\r\n",
    "TV -> 'looks' | 'eats' | 'reads'\r\n",
    "\"\"\"\r\n",
    "g = CFG.fromstring(sg)\r\n",
    "\r\n",
    "# Bottom-up  parser\r\n",
    "sr_parser = nltk.ShiftReduceParser(g, trace=0)\r\n",
    "\r\n",
    "# Parse sentences and observe the behavior of the parser\r\n",
    "def parse_sentence(sent):\r\n",
    "    tokens = sent.split()\r\n",
    "    trees = sr_parser.parse(tokens)\r\n",
    "    found = False\r\n",
    "    for tree in  trees:\r\n",
    "      if tree.label() == 'S':\r\n",
    "        found = True\r\n",
    "    print(f'{sent} ::: {found}')\r\n",
    "\r\n",
    "parse_sentence(\"John left\")\r\n",
    "parse_sentence(\"John eats bread\")\r\n",
    "parse_sentence(\"John eats the bread\")\r\n",
    "parse_sentence(\"John eats many bread\")\r\n",
    "parse_sentence(\"John eats a bread\")\r\n",
    "parse_sentence(\"John reads the books\")\r\n",
    "parse_sentence(\"John reads many books\")\r\n",
    "parse_sentence(\"John reads a book\")\r\n",
    "parse_sentence(\"John reads many book\")\r\n",
    "\r\n",
    "\r\n"
   ]
  },
  {
   "cell_type": "markdown",
   "metadata": {
    "id": "ofjjkcS36Vd8"
   },
   "source": [
    "<a name=\"q1.1.2\"></a>\n",
    "<h4>1.1.2 Pronouns</h4>\n",
    "\n",
    "<b>Pronouns</b> in English are characterized by the following morphological attributes:\n",
    "<ul>\n",
    "    <li>Number: singular / plural (e.g., he/they)</li>\n",
    "    <li>Gender: masculine / feminine / neutral (e.g., he/she/it)</li>\n",
    "    <li>Case: nominative / accusative (e.g., he/him)</li>\n",
    "</ul>\n",
    "Make sure the appropriate form of pronouns are used in each of the possible contexts.\n",
    "Do you need to encode gender in the grammar? Explain why.\n",
    "<p/>"
   ]
  },
  {
   "cell_type": "markdown",
   "metadata": {
    "id": "gXc-vZYzjH31"
   },
   "source": [
    " **Do we need to encode gender in the grammar?**\r\n",
    "\r\n",
    "No, Because there is no gender alignment between verbs and nouns/pro-nouns, a long text may be semantically incoherent if we ignore gender enodnding in the CFG but grammatically correct."
   ]
  },
  {
   "cell_type": "code",
   "execution_count": null,
   "metadata": {
    "colab": {
     "base_uri": "https://localhost:8080/"
    },
    "id": "K2Yj48snkeXs",
    "outputId": "52b4626e-e10f-43ee-bd1e-1eaa08f7bb59"
   },
   "outputs": [
    {
     "name": "stdout",
     "output_type": "stream",
     "text": [
      "#### Count/Mass Nouns ####\n",
      "\n",
      "John left ::: True\n",
      "John eats bread ::: True\n",
      "John eats the bread ::: True\n",
      "John eats many bread ::: False\n",
      "John eats a bread ::: False\n",
      "John reads the books ::: True\n",
      "John reads many books ::: True\n",
      "John reads a book ::: True\n",
      "John reads many book ::: False\n",
      "\n",
      "\n",
      "#### Pro-Nouns ####\n",
      "\n",
      "he reads books ::: True\n",
      "they read books ::: True\n",
      "they reads books ::: False\n",
      "John likes her ::: True\n",
      "John likes she ::: False\n",
      "he likes her ::: True\n",
      "him likes her ::: False\n"
     ]
    }
   ],
   "source": [
    "shortcuts = \"\"\"\r\n",
    "PD -> plural Determiner\r\n",
    "SD -> Singular Determiner\r\n",
    "AD -> Agnostic Determiner\r\n",
    "MN -> Mass Noun\r\n",
    "CNP -> Plural Count Noun \r\n",
    "CNS -> Singular Count Noun\r\n",
    "\"\"\"\r\n",
    "sg = \"\"\"\r\n",
    "S ->  NOMINARIVE_ACCUSATIVE_SINGLE VP_SINGLE | NP_SINGLE_NOMINATIVE VP_SINGLE | NOMINARIVE_ACCUSATIVE_PLURAL VP_PLURAL | NP_PLURAL_NOMINATIVE VP_PLURAL |NPS IV | NOMINARIVE_ACCUSATIVE_SINGLE IV | NOMINARIVE_ACCUSATIVE_PLURAL IV | NP_SINGLE_NOMINATIVE IV | NP_PLURAL_NOMINATIVE IV  \r\n",
    "VP_SINGLE ->   TVS  ACC | TVS NOMINARIVE_ACCUSATIVE_SINGLE | TVS NOMINARIVE_ACCUSATIVE_PLURAL \r\n",
    "VP_PLURAL ->   TVP  ACC | TVP NOMINARIVE_ACCUSATIVE_SINGLE | TVP NOMINARIVE_ACCUSATIVE_PLURAL\r\n",
    "PD -> 'many'\r\n",
    "SD -> 'a'\r\n",
    "AD -> 'the'\r\n",
    "MASS_N -> 'bread' | 'butter' | 'cheese'\r\n",
    "COUNT_N_PLURAL -> 'chairs' | 'books' | 'shelfs'\r\n",
    "COUNT_N_SINGLE -> 'chair' | 'book' | 'shelf'\r\n",
    "\r\n",
    "NP_SINGLE_NOMINATIVE -> 'he' | 'she'\r\n",
    "NP_PLURAL_NOMINATIVE -> 'they'\r\n",
    "\r\n",
    "ACC -> PRON_SINGLE_ACCUSATIVE | PRON_PLURAL_ACCUSATIVE\r\n",
    "NOMINARIVE_ACCUSATIVE_SINGLE -> AD COUNT_N_SINGLE | SD COUNT_N_SINGLE | AD MASS_N | PROPN | Noun\r\n",
    "NOMINARIVE_ACCUSATIVE_PLURAL ->  AD COUNT_N_PLURAL | PD COUNT_N_PLURAL \r\n",
    "\r\n",
    "PRON_SINGLE_ACCUSATIVE -> 'him' | 'her'\r\n",
    "PRON_PLURAL_ACCUSATIVE -> 'them' \r\n",
    "\r\n",
    "Noun -> MASS_N | COUNT_N_PLURAL | COUNT_N_SINGLE\r\n",
    "PROPN -> 'John' | 'Baraa' | 'Gabriela'\r\n",
    "IV -> 'left'\r\n",
    "TVS -> 'looks' | 'eats' | 'reads' | 'likes'\r\n",
    "TVP -> 'look' | 'eat' | 'read'\r\n",
    "\"\"\"\r\n",
    "\r\n",
    "g = CFG.fromstring(sg)\r\n",
    "\r\n",
    "# print(type(g.chomsky_normal_form()))\r\n",
    "sr_parser = nltk.RecursiveDescentParser(g, trace=0)\r\n",
    "\r\n",
    "print('#### Count/Mass Nouns ####\\n')\r\n",
    "parse_sentence(\"John left\")\r\n",
    "parse_sentence(\"John eats bread\")\r\n",
    "parse_sentence(\"John eats the bread\")\r\n",
    "parse_sentence(\"John eats many bread\")\r\n",
    "parse_sentence(\"John eats a bread\")\r\n",
    "parse_sentence(\"John reads the books\")\r\n",
    "parse_sentence(\"John reads many books\")\r\n",
    "parse_sentence(\"John reads a book\")\r\n",
    "parse_sentence(\"John reads many book\")\r\n",
    "\r\n",
    "print('\\n\\n#### Pro-Nouns ####\\n')\r\n",
    "parse_sentence(\"he reads books\")\r\n",
    "parse_sentence(\"they read books\")\r\n",
    "parse_sentence(\"they reads books\")\r\n",
    "parse_sentence(\"John likes her\")\r\n",
    "parse_sentence(\"John likes she\")\r\n",
    "parse_sentence(\"he likes her\")\r\n",
    "parse_sentence(\"him likes her\")"
   ]
  },
  {
   "cell_type": "markdown",
   "metadata": {
    "id": "J57WXW676Vd9"
   },
   "source": [
    "<a name=\"q1.1.3\"></a>\n",
    "<h4>1.1.3 Subject/Verb Agreement</h4>\n",
    "<p/>\n",
    "Make sure subject and verb agree in number.\n",
    "<p/>\n",
    "\n",
    "<a name=\"q1.1.4\"></a>\n",
    "<h4>1.1.4 Over-generation</h4>\n",
    "    \n",
    "Check whether your grammar overgenerates by giving an example of ungrammatical sentence that it recognizes as grammatical.\n",
    "<p/>"
   ]
  },
  {
   "cell_type": "markdown",
   "metadata": {
    "id": "Tks1AyN8iPlc"
   },
   "source": [
    "**We think we built the model good enough, its possible because it is so simple, we dont think it overgeneates.**"
   ]
  },
  {
   "cell_type": "code",
   "execution_count": null,
   "metadata": {
    "colab": {
     "base_uri": "https://localhost:8080/"
    },
    "id": "00hjzq5whamy",
    "outputId": "7cbd7750-7afc-4056-e32c-1abccd407c57"
   },
   "outputs": [
    {
     "name": "stdout",
     "output_type": "stream",
     "text": [
      "Baraa eat Baraa ::: False\n",
      "Baraa eats Baraa ::: True\n"
     ]
    }
   ],
   "source": [
    "parse_sentence(\"Baraa eat Baraa\")\r\n",
    "parse_sentence(\"Baraa eats Baraa\")\r\n"
   ]
  },
  {
   "cell_type": "markdown",
   "metadata": {
    "id": "vp-K2vhC6Vd9"
   },
   "source": [
    "<a name=\"q1.2\"></a>\n",
    "<h3>Question 1.2: Extend a CFG to support Coordination and Prepositional Phrases</h3>\n",
    "\n",
    "<a name=\"q1.2.1\"></a>\n",
    "<h4>1.2.1 Support Prepositional Phrases</h4>\n",
    "\n",
    "Extend the grammar so that it can parse the following sentences:\n",
    "\n",
    "<pre>\n",
    "John saw a man with a telescope\n",
    "John saw a man on the hill with a telescope\n",
    "\n",
    "Mary knows men and women\n",
    "Mary knows men, children and women\n",
    "\n",
    "John and Mary eat bread\n",
    "John and Mary eat bread with cheese\n",
    "</pre>"
   ]
  },
  {
   "cell_type": "code",
   "execution_count": null,
   "metadata": {
    "colab": {
     "base_uri": "https://localhost:8080/"
    },
    "id": "4Zfr-aYz1Fh8",
    "outputId": "bbe554bc-69dc-4dc8-9ebb-462bea8963f3"
   },
   "outputs": [
    {
     "name": "stdout",
     "output_type": "stream",
     "text": [
      "#### Count/Mass Nouns ####\n",
      "\n",
      "John left ::: True\n",
      "John eats bread ::: True\n",
      "John eats the bread ::: True\n",
      "John eats many bread ::: False\n",
      "John eats a bread ::: False\n",
      "John reads the books ::: True\n",
      "John reads many books ::: True\n",
      "John reads a book ::: True\n",
      "John reads many book ::: False\n",
      "\n",
      "\n",
      "#### Pro-Nouns ####\n",
      "\n",
      "he reads books ::: True\n",
      "they read books ::: True\n",
      "they reads books ::: False\n",
      "John likes her ::: True\n",
      "John likes she ::: False\n",
      "he likes her ::: True\n",
      "him likes her ::: False\n",
      "\n",
      "\n",
      "#### Pre-Positions ####\n",
      "\n",
      "John saw a man with a telescope ::: True\n",
      "John saw a man on the hill with a telescope ::: True\n",
      "Mary knows men and women ::: True\n",
      "John and Mary eat bread ::: True\n",
      "John and Mary eat bread with cheese ::: True\n"
     ]
    }
   ],
   "source": [
    "sg = \"\"\"\n",
    "S ->  NOMINARIVE_ACCUSATIVE_SINGLE VP_SINGLE | NP_SINGLE_NOMINATIVE VP_SINGLE | NOMINARIVE_ACCUSATIVE_PLURAL VP_PLURAL | NP_PLURAL_NOMINATIVE VP_PLURAL |NPS IV | NOMINARIVE_ACCUSATIVE_SINGLE IV | NOMINARIVE_ACCUSATIVE_PLURAL IV | NP_SINGLE_NOMINATIVE IV | NP_PLURAL_NOMINATIVE IV  | PREPOSITIONAL_PHRASE_NOMINATIVE VP_PLURAL\n",
    "VP_SINGLE ->   TVS  ACC | TVS NOMINARIVE_ACCUSATIVE_SINGLE | TVS NOMINARIVE_ACCUSATIVE_PLURAL | TVS PREPOSITIONAL_PHRASE_ACCUSITAVE\n",
    "VP_PLURAL ->   TVP  ACC | TVP NOMINARIVE_ACCUSATIVE_SINGLE | TVP NOMINARIVE_ACCUSATIVE_PLURAL | TVP PREPOSITIONAL_PHRASE_ACCUSITAVE\n",
    "PD -> 'many'\n",
    "SD -> 'a'\n",
    "AD -> 'the'\n",
    "MASS_N -> 'bread' | 'butter' | 'cheese'\n",
    "COUNT_N_PLURAL -> 'chairs' | 'books' | 'shelfs' | 'men' | 'women' | 'children'\n",
    "COUNT_N_SINGLE -> 'chair' | 'book' | 'shelf' | 'telescope' | 'man' | 'hill'\n",
    "\n",
    "NP_SINGLE_NOMINATIVE -> 'he' | 'she'\n",
    "NP_PLURAL_NOMINATIVE -> 'they'\n",
    "\n",
    "PRP -> 'with' | 'and' | 'on'\n",
    "ACC -> PRON_SINGLE_ACCUSATIVE | PRON_PLURAL_ACCUSATIVE\n",
    "NOMINARIVE_ACCUSATIVE_SINGLE -> AD COUNT_N_SINGLE | SD COUNT_N_SINGLE | AD MASS_N | PROPN | Noun\n",
    "NOMINARIVE_ACCUSATIVE_PLURAL -> AD COUNT_N_PLURAL | PD COUNT_N_PLURAL |\n",
    "\n",
    "PREPOSITIONAL_PHRASE_ACCUSITAVE -> ACC | NOMINARIVE_ACCUSATIVE_SINGLE | NOMINARIVE_ACCUSATIVE_PLURAL | ACC PRP PREPOSITIONAL_PHRASE_ACCUSITAVE | NOMINARIVE_ACCUSATIVE_SINGLE PRP PREPOSITIONAL_PHRASE_ACCUSITAVE | NOMINARIVE_ACCUSATIVE_PLURAL PRP PREPOSITIONAL_PHRASE_ACCUSITAVE\n",
    "PREPOSITIONAL_PHRASE_NOMINATIVE ->  NP_SINGLE_NOMINATIVE | NP_PLURAL_NOMINATIVE | NOMINARIVE_ACCUSATIVE_SINGLE | NOMINARIVE_ACCUSATIVE_PLURAL | NOMINARIVE_ACCUSATIVE_SINGLE PRP PREPOSITIONAL_PHRASE_NOMINATIVE | NOMINARIVE_ACCUSATIVE_PLURAL PRP PREPOSITIONAL_PHRASE_NOMINATIVE |  NP_SINGLE_NOMINATIVE PRP PREPOSITIONAL_PHRASE_NOMINATIVE| NP_PLURAL_NOMINATIVE PRP PREPOSITIONAL_PHRASE_NOMINATIVE\n",
    "\n",
    "\n",
    "PRON_SINGLE_ACCUSATIVE -> 'him' | 'her'\n",
    "PRON_PLURAL_ACCUSATIVE -> 'them' \n",
    "\n",
    "Noun -> MASS_N | COUNT_N_PLURAL | COUNT_N_SINGLE\n",
    "PROPN -> 'John' | 'Baraa' | 'Mary'\n",
    "IV -> 'left' \n",
    "TVS -> 'looks' | 'eats' | 'reads' | 'likes' | 'saw' | 'knows'\n",
    "TVP -> 'look' | 'eat' | 'read'\n",
    "\"\"\"\n",
    "\n",
    "g = CFG.fromstring(sg)\n",
    "\n",
    "sr_parser = nltk.RecursiveDescentParser(g, trace=0)\n",
    "\n",
    "print('#### Count/Mass Nouns ####\\n')\n",
    "parse_sentence(\"John left\")\n",
    "parse_sentence(\"John eats bread\")\n",
    "parse_sentence(\"John eats the bread\")\n",
    "parse_sentence(\"John eats many bread\")\n",
    "parse_sentence(\"John eats a bread\")\n",
    "parse_sentence(\"John reads the books\")\n",
    "parse_sentence(\"John reads many books\")\n",
    "parse_sentence(\"John reads a book\")\n",
    "parse_sentence(\"John reads many book\")\n",
    "\n",
    "print('\\n\\n#### Pro-Nouns ####\\n')\n",
    "parse_sentence(\"he reads books\")\n",
    "parse_sentence(\"they read books\")\n",
    "parse_sentence(\"they reads books\")\n",
    "parse_sentence(\"John likes her\")\n",
    "parse_sentence(\"John likes she\")\n",
    "parse_sentence(\"he likes her\")\n",
    "parse_sentence(\"him likes her\")\n",
    "\n",
    "print('\\n\\n#### Pre-Positions ####\\n')\n",
    "parse_sentence(\"John saw a man with a telescope\")\n",
    "parse_sentence(\"John saw a man on the hill with a telescope\")\n",
    "\n",
    "parse_sentence(\"Mary knows men and women\")\n",
    "# parse_sentence(\"Mary knows men , children and women\")\n",
    "parse_sentence(\"John and Mary eat bread\")\n",
    "parse_sentence(\"John and Mary eat bread with cheese\")\n"
   ]
  },
  {
   "cell_type": "markdown",
   "metadata": {
    "id": "-jGgvQTM6Vd9"
   },
   "source": [
    "<a name=\"q1.2.2\"></a>\n",
    "<h4>1.2.2 Support Coordination</h4>\n",
    "    \n",
    "What is the number of a coordination such as \"John and Mary\"?\n",
    "<p/>\n",
    "What is the number of a coordination such as \"John or Mary\"?\n",
    "<p/>\n",
    "\"John or the children\"?\n",
    "<p/>\n",
    "Propose (without implementing) ways to support such variations.\n",
    "<p/>"
   ]
  },
  {
   "cell_type": "markdown",
   "metadata": {
    "id": "_9OTQiDPEKUT"
   },
   "source": [
    "\n",
    "\n",
    "    \n",
    "What is the number of a coordination such as \"John and Mary\"? SINGLE\n",
    "<p/>\n",
    "What is the number of a coordination such as \"John or Mary\"? PLURAL\n",
    "<p/>\n",
    "\"John or the children\"? PLURAL\n",
    "\n",
    "<p/>\n",
    "the rules are: \n",
    "<ul>\n",
    " <li>\"or\" : if one of the two phrases are plural, the phrase is plural else singular </li>\n",
    " <li>\"and\" : always plural</li>\n",
    "</ul>\n",
    "\n",
    "<p/>\n",
    "in General, we need to categorize the prepositions into these categories:\n",
    "<ol>\n",
    " <li> follow the previous phrase (the first one) ( like \"on\" and \"with\" ), lets denote this category A </li>\n",
    " <li> always Plural ( like \"and\" ), lets denote this category B </li>\n",
    " <li> if one of the two phrases are plural then its plural else singular ( like \"or\" ), lets denote this category C</li>\n",
    "</ol>\n",
    "\n",
    "then we categorize PRE-POSITIONAL phrases into plural and singular phrases, the noun phrases are already categorized, so we can say the following:\n",
    "<ul>\n",
    " <li>plural prepositional phrases are : </li>\n",
    " <ol>\n",
    " <li> (Plural Phrase) A (any thing) </li>\n",
    " <li> (any thing) B (any thing) </li>\n",
    " <li> (Plural Phrase) C (any thing) / (any thing) C (Plural Phrase)</li>\n",
    "</ol>\n",
    " <li>singular prepositional phrases are : </li>\n",
    " <ol>\n",
    " <li> (singular Phrase) A (any thing) </li>\n",
    " <li> (singular Phrase) C (singular Phrase) </li>\n",
    "</ol>\n",
    "</ol>\n",
    "\n",
    "</ul>"
   ]
  },
  {
   "cell_type": "markdown",
   "metadata": {
    "id": "YGRgvrN06Vd-"
   },
   "source": [
    "<a name=\"q1.2.3\"></a>\n",
    "<h4>1.2.3 Overgeneration</h4>\n",
    "\n",
    "Demonstrate ways in which your grammar over-generates.  Explain your observations.\n",
    "<p/>"
   ]
  },
  {
   "cell_type": "code",
   "execution_count": null,
   "metadata": {
    "colab": {
     "base_uri": "https://localhost:8080/"
    },
    "id": "uJ4EQ0hwJHN2",
    "outputId": "81612ad7-d4de-4833-dc8b-a6a172badc61"
   },
   "outputs": [
    {
     "name": "stdout",
     "output_type": "stream",
     "text": [
      "John reads book on hill ::: True\n",
      "the chair looks him with him with him with him with a chair ::: True\n",
      "a man with a telescope read a book ::: True\n"
     ]
    }
   ],
   "source": [
    "parse_sentence(\"John reads book on hill\")\n",
    "\n",
    "parse_sentence(\"the chair looks him with him with him with him with a chair\")\n",
    "\n",
    "parse_sentence(\"a man with a telescope read a book\")\n"
   ]
  },
  {
   "cell_type": "markdown",
   "metadata": {
    "id": "TvWlwTVtQvVf"
   },
   "source": [
    "The Grammer did not parsed the phrase \"on hill\" where it should be \"on the hill\" or \"on a hill\"\n",
    "\n",
    "<p/>\n",
    "\"a man with a telescope\" is a singular subject but the grammer considered it as plural subject and the verb \"read\" is without 's'\n",
    "\n",
    "<p/>\n",
    "the grammer currently considers any prepositional phrase as plural"
   ]
  },
  {
   "cell_type": "markdown",
   "metadata": {
    "id": "luf1aMmc6Vd-"
   },
   "source": [
    "<hr/>\n",
    "<a name=\"q2\"></a>\n",
    "<h2>Question 2: Learning a PCFG from a Treebank</h2>\n",
    "\n",
    "<a name=\"q2.1\"></a>\n",
    "<h3>Question 2.1: Random PCFG Generation</h3>\n",
    "\n",
    "Consider the PCFG datatype implementation provided in NLTK.\n",
    "<p/>\n",
    "Consider the module <a href=\"http://www.nltk.org/_modules/nltk/parse/generate.html\">nltk.parse.generate</a>.\n",
    "It contains a function generate(grammar) which given a CFG grammar produces all the sentences the grammar can produce.\n",
    "Naturally, this may produce an infinite number of sentences if the grammar is recursive."
   ]
  },
  {
   "cell_type": "code",
   "execution_count": 1,
   "metadata": {
    "id": "YviwjORO6Vd-",
    "outputId": "dfc710af-453f-469b-9100-2e7774772a11"
   },
   "outputs": [
    {
     "name": "stdout",
     "output_type": "stream",
     "text": [
      "  1. the man slept\n",
      "  2. the man saw the man\n",
      "  3. the man saw the park\n",
      "  4. the man saw the dog\n",
      "  5. the man saw a man\n",
      "  6. the man saw a park\n",
      "  7. the man saw a dog\n",
      "  8. the man walked in the man\n",
      "  9. the man walked in the park\n",
      " 10. the man walked in the dog\n"
     ]
    }
   ],
   "source": [
    "import itertools\n",
    "from nltk.grammar import CFG\n",
    "from nltk.parse import generate\n",
    "\n",
    "demo_grammar = \"\"\"\n",
    "  S -> NP VP\n",
    "  NP -> Det N\n",
    "  PP -> P NP\n",
    "  VP -> 'slept' | 'saw' NP | 'walked' PP\n",
    "  Det -> 'the' | 'a'\n",
    "  N -> 'man' | 'park' | 'dog'\n",
    "  P -> 'in' | 'with'\n",
    "\"\"\"\n",
    "grammar = CFG.fromstring(demo_grammar)\n",
    "\n",
    "for n, sent in enumerate(generate.generate(grammar, n=10), 1):\n",
    "        print('%3d. %s' % (n, ' '.join(sent)))"
   ]
  },
  {
   "cell_type": "markdown",
   "metadata": {
    "id": "p7X2LeFS6Vd_"
   },
   "source": [
    "<a name=\"q2.1.1\"></a>\n",
    "<h4>2.1.1 PCFG_Generate</h4>\n",
    "\n",
    "Write a new function <code>pcfg_generate(grammar)</code> which will\n",
    "generate a random tree from a PCFG according to its generative\n",
    "probability model.  In other words, your task is to write a <code>sample</code>\n",
    "method from the PCFG distribution.\n",
    "<p/>\n",
    "\n",
    "Generation works top down: pick the start symbol of\n",
    "the grammar, then randomly choose a production starting from the start\n",
    "symbol, and add the RHS as children of the root node, then expand each\n",
    "node until you obtain terminals.  The result should be a tree and not\n",
    "a sentence.\n",
    "<p/>\n",
    "\n",
    "The generated parse trees should exhibit the distribution of non-terminal\n",
    "distributions captured in the PCFG (that is, the generation process should\n",
    "sample rules according to the weights of each non-terminal in the grammar).\n",
    "<p/>\n",
    "\n",
    "Note: you must generate according to the PCFG distribution - not just randomly.\n",
    "To this end, you should use the method <code>generate()</code> from the\n",
    "NTLK <a href=\"http://www.nltk.org/_modules/nltk/probability.html\">ProbDistI</a> interface.\n",
    "Specifically, you should use the\n",
    "<a href=\"http://www.nltk.org/api/nltk.html#nltk.probability.DictionaryProbDist\">nltk.probability.DictionaryProbDist</a>\n",
    "class to represent the probability distribution of mapping an LHS non-terminal to one of the possible RHS."
   ]
  },
  {
   "cell_type": "code",
   "execution_count": 2,
   "metadata": {
    "id": "7A5WwvLL6VeA",
    "outputId": "5aeed42b-8abd-42c4-e9e3-7c65c26cca25"
   },
   "outputs": [
    {
     "name": "stdout",
     "output_type": "stream",
     "text": [
      "(Det, N)\n",
      "(NP, PP)\n",
      "(Det, N)\n"
     ]
    }
   ],
   "source": [
    "from nltk.grammar import Nonterminal\n",
    "from nltk.grammar import toy_pcfg2\n",
    "from nltk.probability import DictionaryProbDist\n",
    "\n",
    "productions = toy_pcfg2.productions()\n",
    "\n",
    "# Get all productions with LHS=NP\n",
    "np_productions = toy_pcfg2.productions(Nonterminal('NP'))\n",
    "\n",
    "dict = {}\n",
    "for pr in np_productions: dict[pr.rhs()] = pr.prob()\n",
    "np_probDist = DictionaryProbDist(dict)\n",
    "\n",
    "# Each time you call, you get a random sample\n",
    "print(np_probDist.generate())\n",
    "\n",
    "print(np_probDist.generate())\n",
    "\n",
    "print(np_probDist.generate())\n"
   ]
  },
  {
   "cell_type": "markdown",
   "metadata": {
    "id": "KndEg7636VeB"
   },
   "source": [
    "<pre class=\"prettyprint\">\n",
    "Function Specification\n",
    "\n",
    "pcfg_generate(grammar) -- return a tree sampled from the language described by the PCFG grammar\n",
    "</pre>"
   ]
  },
  {
   "cell_type": "code",
   "execution_count": 3,
   "metadata": {},
   "outputs": [],
   "source": [
    "from nltk.tree import Tree\n",
    "from nltk.grammar import Nonterminal,is_terminal,is_nonterminal\n",
    "\n",
    "\n",
    "#from nltk.grammar.FeatStructNonterminal import is_nonterminal\n",
    "def pcfg_generate(grammar):\n",
    "    dict = {}\n",
    "    item='S'\n",
    "    #tree= Tree(item, ())\n",
    "    return subtree(item,grammar)\n",
    "\n",
    "\n",
    "def subtree(item,grammar):\n",
    "    if item!='S' and not is_nonterminal(item):\n",
    "        return item\n",
    "    dict = {}\n",
    "    productions = grammar.productions(Nonterminal(str(item)))\n",
    "    for pr in productions:dict[pr.rhs()] = pr.prob()\n",
    "    probDist = DictionaryProbDist(dict)\n",
    "    children= probDist.generate()\n",
    "    #print(item,children)\n",
    "    return Tree(item, (subtree(item,grammar) for item in children))\n",
    "\n"
   ]
  },
  {
   "cell_type": "code",
   "execution_count": 4,
   "metadata": {},
   "outputs": [
    {
     "data": {
      "image/png": "[encoded data removed]",
      "text/plain": [
       "Tree('S', [Tree(NP, [Tree(NP, [Tree(Name, ['Bob'])]), Tree(PP, [Tree(P, ['with']), Tree(NP, [Tree(Name, ['Bob'])])])]), Tree(VP, [Tree(V, ['ate']), Tree(NP, [Tree(NP, [Tree(Det, ['my']), Tree(N, ['hill'])]), Tree(PP, [Tree(P, ['with']), Tree(NP, [Tree(NP, [Tree(NP, [Tree(Name, ['Jack'])]), Tree(PP, [Tree(P, ['under']), Tree(NP, [Tree(Name, ['Jack'])])])]), Tree(PP, [Tree(P, ['with']), Tree(NP, [Tree(Det, ['my']), Tree(N, ['hill'])])])])])])])])"
      ]
     },
     "execution_count": 4,
     "metadata": {},
     "output_type": "execute_result"
    }
   ],
   "source": [
    "my_tree=pcfg_generate(toy_pcfg2)\n",
    "my_tree"
   ]
  },
  {
   "cell_type": "markdown",
   "metadata": {
    "id": "y3rKL7DN6VeB"
   },
   "source": [
    "<a name=\"q2.1.2\"></a>\n",
    "<h4>2.1.2 Generate 1,000 Trees</h4>\n",
    "\n",
    "Generate 1,000 random trees using nltk.grammar.toy_pcfg2 - store the resulting trees in a file \"toy_pcfg2.gen\"."
   ]
  },
  {
   "cell_type": "code",
   "execution_count": 5,
   "metadata": {},
   "outputs": [],
   "source": [
    "def generator (howmany):\n",
    "    for i in range(1000):\n",
    "        yield pcfg_generate(toy_pcfg2)\n",
    "        \n",
    "g = generator(1000)\n",
    "\n",
    "with open('toy_pcfg2.gen', 'w') as f:\n",
    "    for x in g:\n",
    "        f.write(str(x).replace(\"\\n\", \"\"))\n",
    "        f.write(\"\\n\")"
   ]
  },
  {
   "cell_type": "markdown",
   "metadata": {
    "id": "kqAUuWWM6VeB"
   },
   "source": [
    "<a name=\"q2.1.3\"></a>\n",
    "<h4>2.1.3 Gather Rules Frequency for all Non-Terminals</h4>\n",
    "    \n",
    "Compute the rules frequency distribution of each non-terminal and pre-terminal in the generated corpus.\n",
    "You can look at the code of <a href=\"http://www.nltk.org/_modules/nltk/grammar.html#induce_pcfg\">nltk.induce_pcfg(root, productions)</a> to see how this can be done.\n",
    "You should construct one distribution per non-terminal."
   ]
  },
  {
   "cell_type": "code",
   "execution_count": 7,
   "metadata": {},
   "outputs": [],
   "source": [
    "tree_list=[]\n",
    "with open('toy_pcfg2.gen', 'r') as f:\n",
    "        my_tree=f.readlines()\n",
    "        for i in range(1000):\n",
    "            t = Tree.fromstring(my_tree[i])\n",
    "            tree_list.append(t.productions())\n",
    "trees=[x for tree in tree_list for x in tree]"
   ]
  },
  {
   "cell_type": "code",
   "execution_count": 9,
   "metadata": {},
   "outputs": [
    {
     "name": "stdout",
     "output_type": "stream",
     "text": [
      "[S -> NP VP [1.0], NP -> Name [0.280616], Name -> 'Bob' [0.463009], VP -> V NP [0.593843], V -> 'ran' [0.276], NP -> Det N [0.406578], Det -> 'my' [0.294894], N -> 'hill' [0.496271], Det -> 'the' [0.379805], Name -> 'Jack' [0.536991], V -> 'ate' [0.503], Det -> 'a' [0.325301], N -> 'telescope' [0.151463], NP -> NP PP [0.312806], PP -> P NP [1.0], P -> 'under' [0.385015], P -> 'with' [0.614985], N -> 'boy' [0.110729], N -> 'table' [0.118187], VP -> V [0.399206], V -> 'saw' [0.221], N -> 'cookie' [0.123351], VP -> VP PP [0.00695134]] \n",
      "\n"
     ]
    }
   ],
   "source": [
    "from nltk.grammar import induce_pcfg\n",
    "S=Nonterminal('S')\n",
    "pcfg_gen=induce_pcfg(S,trees)\n",
    "productions = pcfg_gen.productions()\n",
    "print(productions,'\\n')"
   ]
  },
  {
   "cell_type": "code",
   "execution_count": 10,
   "metadata": {},
   "outputs": [
    {
     "data": {
      "text/plain": [
       "['S', 'NP', 'Name', 'VP', 'V', 'Det', 'N', 'PP', 'P']"
      ]
     },
     "execution_count": 10,
     "metadata": {},
     "output_type": "execute_result"
    }
   ],
   "source": [
    "nonterminals=[]\n",
    "for pr in productions:\n",
    "    if str(pr.lhs()) not in nonterminals:\n",
    "        nonterminals.append(str(pr.lhs()))\n",
    "nonterminals"
   ]
  },
  {
   "cell_type": "code",
   "execution_count": 11,
   "metadata": {},
   "outputs": [
    {
     "data": {
      "text/plain": [
       "{'S': [S -> NP VP [1.0]],\n",
       " 'NP': [NP -> Name [0.280616], NP -> Det N [0.406578], NP -> NP PP [0.312806]],\n",
       " 'Name': [Name -> 'Bob' [0.463009], Name -> 'Jack' [0.536991]],\n",
       " 'VP': [VP -> V NP [0.593843], VP -> V [0.399206], VP -> VP PP [0.00695134]],\n",
       " 'V': [V -> 'ran' [0.276], V -> 'ate' [0.503], V -> 'saw' [0.221]],\n",
       " 'Det': [Det -> 'my' [0.294894],\n",
       "  Det -> 'the' [0.379805],\n",
       "  Det -> 'a' [0.325301]],\n",
       " 'N': [N -> 'hill' [0.496271],\n",
       "  N -> 'telescope' [0.151463],\n",
       "  N -> 'boy' [0.110729],\n",
       "  N -> 'table' [0.118187],\n",
       "  N -> 'cookie' [0.123351]],\n",
       " 'PP': [PP -> P NP [1.0]],\n",
       " 'P': [P -> 'under' [0.385015], P -> 'with' [0.614985]]}"
      ]
     },
     "execution_count": 11,
     "metadata": {},
     "output_type": "execute_result"
    }
   ],
   "source": [
    "rules={}\n",
    "for n in nonterminals:\n",
    "    rules[n]=pcfg_gen.productions(Nonterminal(n))\n",
    "rules"
   ]
  },
  {
   "cell_type": "markdown",
   "metadata": {
    "id": "hAivyI_q6VeC"
   },
   "source": [
    "<a name=\"q2.1.4\"></a>\n",
    "<h4>2.1.4 Compute KL-Divergence between a priori and generated parameters</h4>\n",
    "    \n",
    "For each distribution, compute the KL-divergence between the MLE estimation of the probability\n",
    "distribution constructed on your test corpus and toy_pcfg2.\n",
    "The MLE estimation is obtained by applying the <a href=\"http://www.nltk.org/_modules/nltk/probability.html#MLEProbDist\">MLEProbDist</a> estimator to the observed empirical frequency distribution.\n",
    "KL-divergence (<a href=\"http://en.wikipedia.org/wiki/Kullback-Leibler_divergence\">Kullback-Leibler divergence</a>\n",
    "also known as relative entropy) estimates the difference between two distributions.\n",
    "<p/>\n",
    "Read some precisions on handling <a href='KL.html'>diverging KL computations</a> when the support of the 2 distributions p and q are not identical.\n",
    "<p/>\n",
    "\n",
    "Explain your observations."
   ]
  },
  {
   "cell_type": "code",
   "execution_count": 12,
   "metadata": {},
   "outputs": [
    {
     "data": {
      "text/plain": [
       "{'S': [S -> NP VP [1.0]],\n",
       " 'NP': [NP -> Det N [0.41], NP -> Name [0.28], NP -> NP PP [0.31]],\n",
       " 'Name': [Name -> 'Jack' [0.52], Name -> 'Bob' [0.48]],\n",
       " 'VP': [VP -> V NP [0.59], VP -> V [0.4], VP -> VP PP [0.01]],\n",
       " 'V': [V -> 'saw' [0.21], V -> 'ate' [0.51], V -> 'ran' [0.28]],\n",
       " 'Det': [Det -> 'the' [0.41], Det -> 'a' [0.31], Det -> 'my' [0.28]],\n",
       " 'N': [N -> 'boy' [0.11],\n",
       "  N -> 'cookie' [0.12],\n",
       "  N -> 'table' [0.13],\n",
       "  N -> 'telescope' [0.14],\n",
       "  N -> 'hill' [0.5]],\n",
       " 'PP': [PP -> P NP [1.0]],\n",
       " 'P': [P -> 'with' [0.61], P -> 'under' [0.39]]}"
      ]
     },
     "execution_count": 12,
     "metadata": {},
     "output_type": "execute_result"
    }
   ],
   "source": [
    "priori= toy_pcfg2.productions()\n",
    "prior_rules={}\n",
    "for n in nonterminals:\n",
    "    prior_rules[n]=toy_pcfg2.productions(Nonterminal(n))\n",
    "prior_rules"
   ]
  },
  {
   "cell_type": "markdown",
   "metadata": {},
   "source": [
    "the support of the 2 distributions is identical then we can use the probabilities as it."
   ]
  },
  {
   "cell_type": "code",
   "execution_count": 13,
   "metadata": {},
   "outputs": [
    {
     "data": {
      "text/plain": [
       "{'S': 0.0,\n",
       " 'NP': 2.7659655732697064e-05,\n",
       " 'Name': 0.0005789411719833958,\n",
       " 'VP': 0.0005340792886838444,\n",
       " 'V': 0.00036016173391123854,\n",
       " 'Det': 0.0019010649411084525,\n",
       " 'N': 0.0010734286482714985,\n",
       " 'PP': 0.0,\n",
       " 'P': 5.231308356467429e-05}"
      ]
     },
     "execution_count": 13,
     "metadata": {},
     "output_type": "execute_result"
    }
   ],
   "source": [
    "import math\n",
    "kl={}\n",
    "for n in nonterminals:\n",
    "    summ=0\n",
    "    for pr in rules[n]:\n",
    "        p= pr.prob()\n",
    "        Q=[x for x in prior_rules[n] if x.rhs()== pr.rhs()]\n",
    "        q= Q[0].prob()\n",
    "        summ+=p*math.log(p/q)\n",
    "    kl[n]=summ\n",
    "kl"
   ]
  },
  {
   "cell_type": "markdown",
   "metadata": {},
   "source": [
    "we can see that in S and PP the kl is 0 because in the 2 cases the distribution in both test and original data is the same(only one possible rule) in other nonterminals the kl is not 0 but is very low so we can conclude that the distribution in the 2 cases is pretty similar."
   ]
  },
  {
   "cell_type": "markdown",
   "metadata": {
    "id": "rXRnIPxx6VeC"
   },
   "source": [
    "<a name=\"q2.2\"></a>\n",
    "<h3>Question 2.2: Learn a PCFG from a Treebank</h3>\n",
    "\n",
    "In this question, we will learn a PCFG from a treebank with different\n",
    "types of tree annotations.  We start from a subset of 200 trees from\n",
    "the Penn Treebank (which is distributed by <a href=\"http://www.nltk.org\">NLTK</a>\n",
    "in the corpus named \"treebank\" - the NLTK version contains about 4,000 trees).\n",
    "<p/>\n",
    "\n",
    "In this question, we want to induce a PCFG from the treebank and\n",
    "investigate its properties.  For reference, NLTK provides a function\n",
    "called <a href=\"http://www.nltk.org/_modules/nltk/grammar.html#induce_pcfg\">induce_pcfg</a>\n",
    "in the nltk.grammar module.  It starts from a set of productions and constructs a weighted grammar with the MLE\n",
    "estimation of the production distributions.\n",
    "\n",
    "\n",
    "<a name=\"q2.2.1\"></a>\n",
    "<h4>2.2.1 Induce_PCFG</h4>\n",
    "\n",
    "At this stage, we learn the PCFG \"as is\" -- without Chomsky Form Normalization -- but with \"simplified\" tags. \n",
    "That is, we must use a function to simplify all tags in the tree (non-terminal and terminal): "
   ]
  },
  {
   "cell_type": "code",
   "execution_count": 14,
   "metadata": {},
   "outputs": [
    {
     "name": "stderr",
     "output_type": "stream",
     "text": [
      "[nltk_data] Downloading package treebank to /Users/gab/nltk_data...\n",
      "[nltk_data]   Package treebank is already up-to-date!\n"
     ]
    },
    {
     "data": {
      "text/plain": [
       "True"
      ]
     },
     "execution_count": 14,
     "metadata": {},
     "output_type": "execute_result"
    }
   ],
   "source": [
    "import nltk\n",
    "nltk.download('treebank')"
   ]
  },
  {
   "cell_type": "code",
   "execution_count": 15,
   "metadata": {
    "colab": {
     "base_uri": "https://localhost:8080/"
    },
    "id": "CUMI17kN6VeC",
    "outputId": "dbffb559-1043-421b-d8ac-e5b324f861b3"
   },
   "outputs": [
    {
     "name": "stdout",
     "output_type": "stream",
     "text": [
      "[Tree('S', [Tree('NP-SBJ', [Tree('NP', [Tree('NNP', ['Pierre']), Tree('NNP', ['Vinken'])]), Tree(',', [',']), Tree('ADJP', [Tree('NP', [Tree('CD', ['61']), Tree('NNS', ['years'])]), Tree('JJ', ['old'])]), Tree(',', [','])]), Tree('VP', [Tree('MD', ['will']), Tree('VP', [Tree('VB', ['join']), Tree('NP', [Tree('DT', ['the']), Tree('NN', ['board'])]), Tree('PP-CLR', [Tree('IN', ['as']), Tree('NP', [Tree('DT', ['a']), Tree('JJ', ['nonexecutive']), Tree('NN', ['director'])])]), Tree('NP-TMP', [Tree('NNP', ['Nov.']), Tree('CD', ['29'])])])]), Tree('.', ['.'])])]\n",
      "(S\n",
      "  (NP-SBJ\n",
      "    (NP (NNP Pierre) (NNP Vinken))\n",
      "    (, ,)\n",
      "    (ADJP (NP (CD 61) (NNS years)) (JJ old))\n",
      "    (, ,))\n",
      "  (VP\n",
      "    (MD will)\n",
      "    (VP\n",
      "      (VB join)\n",
      "      (NP (DT the) (NN board))\n",
      "      (PP-CLR (IN as) (NP (DT a) (JJ nonexecutive) (NN director)))\n",
      "      (NP-TMP (NNP Nov.) (CD 29))))\n",
      "  (. .))\n"
     ]
    }
   ],
   "source": [
    "from nltk.corpus import LazyCorpusLoader, BracketParseCorpusReader\n",
    "\n",
    "def simplify_functional_tag(tag):\n",
    "    if '-' in tag:\n",
    "        tag = tag.split('-')[0]\n",
    "    return tag\n",
    "\n",
    "treebank = LazyCorpusLoader('treebank/combined', BracketParseCorpusReader, r'wsj_.*\\.mrg')\n",
    "\n",
    "# Raw form\n",
    "print(treebank.parsed_sents()[:1])\n",
    "\n",
    "# Pretty print\n",
    "print(treebank.parsed_sents()[0])\n",
    "\n",
    "# we need to transform the tree to remove NONE tags and simplify tags."
   ]
  },
  {
   "cell_type": "markdown",
   "metadata": {
    "id": "T-L-IPZh6VeD"
   },
   "source": [
    "We want all tags of the form \"NP-SBJ-2\" to be simplified into \"NP\".  We also want to filter out \"NONE\" elements from the treebank.  \n",
    "You must find the best way to perform NONE filtering on the trees. (NONE elements appear in the original Penn Treebank for example in the case of relative clauses.)"
   ]
  },
  {
   "cell_type": "markdown",
   "metadata": {
    "id": "QD5ajmaM6VeD"
   },
   "source": [
    "<pre class=\"prettyprint\">\n",
    "pcfg_learn(treebank, n)\n",
    "-- treebank is the nltk.corpus.treebank lazy corpus reader\n",
    "-- n indicates the number of trees to read\n",
    "-- return an nltk.PCFG instance\n",
    "</pre>\n",
    "\n",
    "Use the following code as a starting point:"
   ]
  },
  {
   "cell_type": "code",
   "execution_count": null,
   "metadata": {
    "id": "18Q6r21S6VeD"
   },
   "outputs": [],
   "source": [
    "from nltk.grammar import Production\n",
    "from nltk import Tree, Nonterminal\n",
    "\n",
    "def get_tag(tree):\n",
    "    if isinstance(tree, Tree):\n",
    "        return Nonterminal(simplify_functional_tag(tree.label()))\n",
    "    else:\n",
    "        return tree\n",
    "\n",
    "def tree_to_production(tree):\n",
    "    return Production(get_tag(tree), [get_tag(child) for child in tree])\n",
    "\n",
    "def tree_to_productions(tree):\n",
    "    yield tree_to_production(tree)\n",
    "    for child in tree:\n",
    "        if isinstance(child, Tree):\n",
    "            for prod in tree_to_productions(child):\n",
    "                yield prod"
   ]
  },
  {
   "cell_type": "code",
   "execution_count": 208,
   "metadata": {},
   "outputs": [],
   "source": [
    "dataset = treebank.parsed_sents()"
   ]
  },
  {
   "cell_type": "code",
   "execution_count": 209,
   "metadata": {},
   "outputs": [],
   "source": [
    "def remove_none(trees):\n",
    "    for tree in trees:\n",
    "        for sub in tree.subtrees():\n",
    "            for n, child in enumerate(sub):\n",
    "                if isinstance(child, str):\n",
    "                    continue\n",
    "                if len(list(child.subtrees(filter=lambda x:x.label()=='-NONE-')))==len(child.leaves()):\n",
    "                    del sub[n]\n",
    "            \n",
    "remove_none(dataset)"
   ]
  },
  {
   "cell_type": "code",
   "execution_count": 210,
   "metadata": {},
   "outputs": [],
   "source": [
    "from nltk.tree import Tree\n",
    "def simplify_trees(trees):\n",
    "    def convert_tree_labels(tree): \n",
    "        children = []\n",
    "        for t in tree:\n",
    "            if isinstance(t, Tree):\n",
    "                children.append(convert_tree_labels(t)) \n",
    "            else:\n",
    "                children.append(t)\n",
    "        label = simplify_functional_tag(tree.label()) \n",
    "        return Tree(label, children)\n",
    "  \n",
    "    return [convert_tree_labels(tree) for tree in trees]\n",
    "\n",
    "dataset_simplified = simplify_trees(dataset)"
   ]
  },
  {
   "cell_type": "code",
   "execution_count": 211,
   "metadata": {},
   "outputs": [
    {
     "data": {
      "image/png": "[encoded data removed]",
      "text/plain": [
       "Tree('S', [Tree('NP', [Tree('NP', [Tree('NNP', ['Pierre']), Tree('NNP', ['Vinken'])]), Tree(',', [',']), Tree('ADJP', [Tree('NP', [Tree('CD', ['61']), Tree('NNS', ['years'])]), Tree('JJ', ['old'])]), Tree(',', [','])]), Tree('VP', [Tree('MD', ['will']), Tree('VP', [Tree('VB', ['join']), Tree('NP', [Tree('DT', ['the']), Tree('NN', ['board'])]), Tree('PP', [Tree('IN', ['as']), Tree('NP', [Tree('DT', ['a']), Tree('JJ', ['nonexecutive']), Tree('NN', ['director'])])]), Tree('NP', [Tree('NNP', ['Nov.']), Tree('CD', ['29'])])])]), Tree('.', ['.'])])"
      ]
     },
     "execution_count": 211,
     "metadata": {},
     "output_type": "execute_result"
    }
   ],
   "source": [
    "dataset_simplified[0]"
   ]
  },
  {
   "cell_type": "code",
   "execution_count": 20,
   "metadata": {},
   "outputs": [],
   "source": [
    "import random\n",
    "data200=random.sample(dataset_simplified,200)\n",
    "data= [x.productions() for x in data200]\n",
    "dataa=[x for tree in data for x in tree]"
   ]
  },
  {
   "cell_type": "code",
   "execution_count": 21,
   "metadata": {},
   "outputs": [
    {
     "data": {
      "text/plain": [
       "[S -> CC NP VP . [0.0143149],\n",
       " CC -> 'And' [0.015625],\n",
       " NP -> DT NN NNS [0.00224719],\n",
       " DT -> 'some' [0.0144928],\n",
       " NN -> 'grain' [0.0013624],\n",
       " NNS -> 'analysts' [0.00949367],\n",
       " VP -> VBP VP [0.022069],\n",
       " VBP -> 'are' [0.215385],\n",
       " VP -> VBG SBAR [0.00551724],\n",
       " VBG -> 'predicting' [0.0136986]]"
      ]
     },
     "execution_count": 21,
     "metadata": {},
     "output_type": "execute_result"
    }
   ],
   "source": [
    "probs=induce_pcfg(S,dataa).productions()\n",
    "probs[0:10]"
   ]
  },
  {
   "cell_type": "markdown",
   "metadata": {
    "id": "sjGjyx5d6VeD"
   },
   "source": [
    "<a name=\"q2.2.2\"></a>\n",
    "<h4>2.2.2 Data Exploration and Validation</h4>\n",
    "\n",
    "Explore the following properties of the learned PCFG:\n",
    "<ul>\n",
    "<li>How many productions are learned from the trees? How many interior nodes were in the treebank?\n",
    "<li>Draw a plot of the distribution of productions according to their frequency (number of rules with frequency 1, 2, ...).  What do you observe?\n",
    "<li>Induce a PCFG from 200 trees, and another one from 400 trees - compare the distribution of the rules you learn.\n",
    "</ul>"
   ]
  },
  {
   "cell_type": "code",
   "execution_count": 22,
   "metadata": {},
   "outputs": [
    {
     "name": "stdout",
     "output_type": "stream",
     "text": [
      "number of productions learned from the trees:  2712\n"
     ]
    }
   ],
   "source": [
    "print(\"number of productions learned from the trees: \",len(probs))"
   ]
  },
  {
   "cell_type": "code",
   "execution_count": 23,
   "metadata": {},
   "outputs": [
    {
     "name": "stdout",
     "output_type": "stream",
     "text": [
      "number of interior nodes in the tree bank: 8897\n"
     ]
    }
   ],
   "source": [
    "count=0\n",
    "for tree in data200:\n",
    "    for h in range(2,tree.height()):\n",
    "        for t in tree.subtrees(lambda t: t.height() == h):\n",
    "            count+=1\n",
    "print(\"number of interior nodes in the tree bank:\",count)"
   ]
  },
  {
   "cell_type": "code",
   "execution_count": 27,
   "metadata": {},
   "outputs": [
    {
     "data": {
      "text/plain": [
       "<AxesSubplot:ylabel='count'>"
      ]
     },
     "execution_count": 27,
     "metadata": {},
     "output_type": "execute_result"
    },
    {
     "data": {
      "image/png": "[encoded data removed]",
      "text/plain": [
       "<Figure size 432x288 with 1 Axes>"
      ]
     },
     "metadata": {
      "needs_background": "light"
     },
     "output_type": "display_data"
    }
   ],
   "source": [
    "import seaborn as sns\n",
    "import numpy as np\n",
    "from nltk.probability import FreqDist\n",
    "count=FreqDist([x.rhs() for x in dataa])\n",
    "x = np.arange(len(count))\n",
    "d=[d for d in count.values()]\n",
    "sns.countplot(x=d)"
   ]
  },
  {
   "cell_type": "code",
   "execution_count": 28,
   "metadata": {},
   "outputs": [
    {
     "name": "stdout",
     "output_type": "stream",
     "text": [
      "looking at first 15 frequants\n"
     ]
    },
    {
     "data": {
      "text/plain": [
       "<AxesSubplot:ylabel='count'>"
      ]
     },
     "execution_count": 28,
     "metadata": {},
     "output_type": "execute_result"
    },
    {
     "data": {
      "image/png": "[encoded data removed]",
      "text/plain": [
       "<Figure size 432x288 with 1 Axes>"
      ]
     },
     "metadata": {
      "needs_background": "light"
     },
     "output_type": "display_data"
    }
   ],
   "source": [
    "big=[x for x in count.values() if x<15]\n",
    "x = np.arange(len(big))\n",
    "print(\"looking at first 15 frequants\")\n",
    "sns.countplot(x=big)"
   ]
  },
  {
   "cell_type": "code",
   "execution_count": 29,
   "metadata": {},
   "outputs": [],
   "source": [
    "data400=random.sample(dataset_simplified,400)\n",
    "data400= [x.productions() for x in data400]\n",
    "dataa400=[x for tree in data400 for x in tree]\n",
    "probs400=induce_pcfg(S,dataa400).productions()"
   ]
  },
  {
   "cell_type": "code",
   "execution_count": 30,
   "metadata": {},
   "outputs": [
    {
     "name": "stdout",
     "output_type": "stream",
     "text": [
      "number of productions learned from the trees with 400 trees:  4452\n"
     ]
    }
   ],
   "source": [
    "print(\"number of productions learned from the trees with 400 trees: \",len (probs400))"
   ]
  },
  {
   "cell_type": "code",
   "execution_count": 31,
   "metadata": {},
   "outputs": [
    {
     "data": {
      "text/plain": [
       "<AxesSubplot:ylabel='count'>"
      ]
     },
     "execution_count": 31,
     "metadata": {},
     "output_type": "execute_result"
    },
    {
     "data": {
      "image/png": "[encoded data removed]",
      "text/plain": [
       "<Figure size 432x288 with 1 Axes>"
      ]
     },
     "metadata": {
      "needs_background": "light"
     },
     "output_type": "display_data"
    }
   ],
   "source": [
    "count400=FreqDist([x.rhs() for x in dataa400])\n",
    "x = np.arange(len(count400))\n",
    "d=[d for d in count400.values()]\n",
    "sns.countplot(x=d)"
   ]
  },
  {
   "cell_type": "code",
   "execution_count": 32,
   "metadata": {},
   "outputs": [
    {
     "name": "stdout",
     "output_type": "stream",
     "text": [
      "looking at first 15 frequants\n"
     ]
    },
    {
     "data": {
      "text/plain": [
       "<AxesSubplot:ylabel='count'>"
      ]
     },
     "execution_count": 32,
     "metadata": {},
     "output_type": "execute_result"
    },
    {
     "data": {
      "image/png": "[encoded data removed]",
      "text/plain": [
       "<Figure size 432x288 with 1 Axes>"
      ]
     },
     "metadata": {
      "needs_background": "light"
     },
     "output_type": "display_data"
    }
   ],
   "source": [
    "big=[x for x in count400.values() if x<15]\n",
    "x = np.arange(len(big))\n",
    "print(\"looking at first 15 frequants\")\n",
    "sns.countplot(x=big)"
   ]
  },
  {
   "cell_type": "markdown",
   "metadata": {},
   "source": [
    "when we compare between the rules made from 200 and 400 trees we can see that with 400 trees we got about 1.6 time more rules 4452 vs 2712, that mean that in the new data we add we learn lots of new rules.\n",
    "the distribution of rules according to frequancy is similar in both case- showing a small amound of rules that appears a lot and a big amound of rules that appears only once."
   ]
  },
  {
   "cell_type": "markdown",
   "metadata": {
    "id": "aQ9JbLZM6VeE"
   },
   "source": [
    "<a name=\"q2.3\"></a>\n",
    "<h3>Question 2.3: Induce a PCFG in Chomsky Normal Form</h3>\n",
    "\n",
    "<a name=\"q2.3.1\"></a>\n",
    "<h4>2.3.1 PCFG_CNF_Learn</h4>\n",
    "\n",
    "Implement <code>pcfg_cnf_learn</code>\n",
    "\n",
    "We now want to learn a PCFG in Chomsky Normal Form from the treebank, with simplified tags, and with filtered NONE elements.\n",
    "The strategy is to convert the trees in the treebank into CNF, then to induce the PCFG from the transformed trees.\n",
    "Use the function <code>chomsky_normal_form</code> in <a href=\"http://www.nltk.org/_modules/nltk/treetransforms.html\">nltk.treetransforms</a> to convert the trees.  \n",
    "Pay attention to NONE filtering.  Use horizontal Markov annotation and parent annotation:\n",
    "\n",
    "<code>\n",
    "chomsky_normal_form(tree, factor='right', horzMarkov=1, vertMarkov=1, childChar='|', parentChar='^')\n",
    "</code>\n",
    "\n",
    "<pre class=\"prettyprint\">\n",
    "pcfg_cnf_learn(treebank, n)\n",
    "-- treebank is the nltk.corpus.treebank lazy corpus reader (simplified tags)\n",
    "-- n indicates the number of trees to read\n",
    "-- return an nltk.PCFG in CNF\n",
    "</pre>"
   ]
  },
  {
   "cell_type": "code",
   "execution_count": 33,
   "metadata": {},
   "outputs": [],
   "source": [
    "from nltk.treetransforms import chomsky_normal_form\n",
    "\n",
    "def pcfg_cnf_learn(treebank, n):\n",
    "    cnf_data=random.sample(treebank,n)\n",
    "    for tree in cnf_data:\n",
    "        chomsky_normal_form(tree, factor='right', horzMarkov=1, vertMarkov=1, childChar='|', parentChar='^')\n",
    "    return cnf_data"
   ]
  },
  {
   "cell_type": "code",
   "execution_count": 34,
   "metadata": {},
   "outputs": [
    {
     "data": {
      "image/png": "[encoded data removed]",
      "text/plain": [
       "Tree('SINV', [Tree('PP^<SINV>', [Tree('IN', ['In']), Tree('PP|<CC>^<SINV>', [Tree('CC', ['and']), Tree('PP|<IN>^<SINV>', [Tree('IN', ['around']), Tree('NP^<PP>', [Tree('NP^<NP>', [Tree('DT', ['all']), Tree('NNS', ['levels'])]), Tree('NP|<PP>^<PP>', [Tree('PP^<NP>', [Tree('IN', ['of']), Tree('NP^<PP>', [Tree('NN', ['government'])])]), Tree('PP^<NP>', [Tree('IN', ['in']), Tree('NP^<PP>', [Tree('DT', ['the']), Tree('NNP', ['U.S.'])])])])])])])]), Tree('SINV|<VP>', [Tree('VP^<SINV>', [Tree('VBP', ['are']), Tree('PP^<VP>', [Tree('', ['*T*-3'])])]), Tree('SINV|<NP>', [Tree('NP^<SINV>', [Tree('NP^<NP>', [Tree('NNS', ['groups'])]), Tree('PP^<NP>', [Tree('IN', ['of']), Tree('NP^<PP>', [Tree('NP^<NP>', [Tree('NNS', ['people'])]), Tree('SBAR^<NP>', [Tree('WHNP^<SBAR>', [Tree('WP', ['who'])]), Tree('S^<SBAR>', [Tree('NP^<S>', [Tree('', ['*T*-2'])]), Tree('VP^<S>', [Tree('MD', ['can']), Tree('VP|<ADVP>^<S>', [Tree('ADVP^<VP>', [Tree('JJS', ['best'])]), Tree('VP^<VP>', [Tree('VB', ['be']), Tree('VP^<VP>', [Tree('VBN', ['described']), Tree('VP|<NP>^<VP>', [Tree('NP^<VP>', [Tree('', ['*-1'])]), Tree('PP^<VP>', [Tree('IN', ['as']), Tree('S^<PP>', [Tree('NP^<S>', [Tree('', ['*-4'])]), Tree('VP^<S>', [Tree('VBG', ['belonging']), Tree('PP^<VP>', [Tree('TO', ['to']), Tree('NP^<PP>', [Tree('DT', ['a']), Tree('NP|<JJ>^<PP>', [Tree('JJ', ['political']), Tree('NP|<NN>^<PP>', [Tree('NN', ['insider']), Tree('NP|<JJ>^<PP>', [Tree('JJ', ['commercial']), Tree('NN', ['party'])])])])])])])])])])])])])])])])])])]), Tree('.', ['.'])])])])"
      ]
     },
     "execution_count": 34,
     "metadata": {},
     "output_type": "execute_result"
    }
   ],
   "source": [
    "cnf_data=pcfg_cnf_learn(dataset_simplified, 200)\n",
    "cnf_dataset= [x.productions() for x in cnf_data]\n",
    "cnf_data[0]"
   ]
  },
  {
   "cell_type": "code",
   "execution_count": 35,
   "metadata": {},
   "outputs": [
    {
     "data": {
      "text/plain": [
       "[SINV -> PP^<SINV> SINV|<VP> [0.181818],\n",
       " PP^<SINV> -> IN PP|<CC>^<SINV> [0.5],\n",
       " IN -> 'In' [0.0242537],\n",
       " PP|<CC>^<SINV> -> CC PP|<IN>^<SINV> [1.0],\n",
       " CC -> 'and' [0.684685],\n",
       " PP|<IN>^<SINV> -> IN NP^<PP> [1.0],\n",
       " IN -> 'around' [0.00373134],\n",
       " NP^<PP> -> NP^<NP> NP|<PP>^<PP> [0.0226804],\n",
       " NP^<NP> -> DT NNS [0.0150659],\n",
       " DT -> 'all' [0.0151134]]"
      ]
     },
     "execution_count": 35,
     "metadata": {},
     "output_type": "execute_result"
    }
   ],
   "source": [
    "sliced_data=[x for tree in cnf_dataset for x in tree]\n",
    "cnf_probs=induce_pcfg(S,sliced_data).productions()\n",
    "cnf_probs[0:10]"
   ]
  },
  {
   "cell_type": "markdown",
   "metadata": {
    "id": "Bev1D4Rw6VeE"
   },
   "source": [
    "<a name=\"q2.3.2\"></a>\n",
    "<h4>2.3.2 Data Exploration</h4>\n",
    "\n",
    "How many productions are learned from the CNF trees? How many interior nodes were in the original treebank, and in the CNF treebank?\n",
    "\n",
    "Compare the CNF and non-CNF figures (ratios).  What do you conclude?"
   ]
  },
  {
   "cell_type": "code",
   "execution_count": 247,
   "metadata": {},
   "outputs": [
    {
     "name": "stdout",
     "output_type": "stream",
     "text": [
      "number of productions learned from the trees:  3273\n"
     ]
    }
   ],
   "source": [
    "print(\"number of productions learned from the trees: \",len(cnf_probs))"
   ]
  },
  {
   "cell_type": "code",
   "execution_count": 246,
   "metadata": {},
   "outputs": [
    {
     "name": "stdout",
     "output_type": "stream",
     "text": [
      "number of interior nodes in the tree bank: 10589\n"
     ]
    }
   ],
   "source": [
    "count=0\n",
    "for tree in cnf_data:\n",
    "    for h in range(1,tree.height()):\n",
    "        for t in tree.subtrees(lambda t: t.height() == h):\n",
    "            count+=1\n",
    "print(\"number of interior nodes in the tree bank:\",count)"
   ]
  },
  {
   "cell_type": "markdown",
   "metadata": {},
   "source": [
    "In the non cnf case we got 2712 rules and with cnf we got 3273 it's a ratio of 1.2, that is suprizing since we thoght we will get much more rules by using cnf rules, in the number of interior nodes this also append we had 8897 nodes in non cnf trees and 10589 in cnf tree- that is again a ratio of 1.2.\n",
    "This may append because much of the rules already are in a cnf form so only few rules were changed."
   ]
  },
  {
   "cell_type": "markdown",
   "metadata": {
    "id": "IOYkESB-6VeE"
   },
   "source": [
    "<a name=\"q2.4\"></a>\n",
    "<h3>Question 2.4: Test CFG Independence Assumptions</h3>\n",
    "\n",
    "We want to test the CFG hypothesis that a node expansion is independent from its location within a tree.\n",
    "<p/>\n",
    "\n",
    "For the treebank before CNF transformation, report the following statistics, for the expansions of the NP category:\n",
    "<ul>\n",
    "<li>Compute the distribution of the RHS given the NP LHS for all NPs in the treebank.  Draw a histogram plot.\n",
    "<li>Compute the same distribution only for NPs that appear directly below a S node (any variant of S in the Penn treebank tagset). Draw a histogram plot.\n",
    "<li>Compute the same distribution only for NPs that appear directly below a VP node (any variant of VP in the Penn Treebank tagset). Draw a histogram plot. \n",
    "<li>Compare the distributions above.  Use KL-divergence.\n",
    "<li>Conclude: does the data in the treebank confirm the CFG hypothesis for each configuration (original trees, annotated CNF trees)? \n",
    "    (How do you calibrate the values of the KL-divergence to decide that 2 values are similar?)\n",
    "</ul>\n",
    "<p/>\n"
   ]
  },
  {
   "cell_type": "code",
   "execution_count": 42,
   "metadata": {},
   "outputs": [],
   "source": [
    "data= [x.productions() for x in dataset_simplified]\n",
    "dataa=[x for tree in data for x in tree]\n",
    "probs=induce_pcfg(S,dataa)"
   ]
  },
  {
   "cell_type": "code",
   "execution_count": 46,
   "metadata": {},
   "outputs": [
    {
     "data": {
      "text/plain": [
       "[NP -> NP , ADJP , [0.000180766],\n",
       " NP -> NNP NNP [0.0358821],\n",
       " NP -> CD NNS [0.00816462],\n",
       " NP -> DT NN [0.0824295],\n",
       " NP -> DT JJ NN [0.0257893],\n",
       " NP -> NNP CD [0.00253073],\n",
       " NP -> NP PP [0.10138],\n",
       " NP -> NN [0.0374187],\n",
       " NP -> NP , NP [0.010153],\n",
       " NP -> DT NNP VBG NN [3.01277e-05]]"
      ]
     },
     "execution_count": 46,
     "metadata": {},
     "output_type": "execute_result"
    }
   ],
   "source": [
    "rhs_givenNp=probs.productions(Nonterminal('NP'))\n",
    "rhs_givenNp[:10]"
   ]
  },
  {
   "cell_type": "code",
   "execution_count": 243,
   "metadata": {},
   "outputs": [
    {
     "name": "stdout",
     "output_type": "stream",
     "text": [
      "histogram of the distribution of the RHS given the NP LHS for all NPs in the treebank\n"
     ]
    },
    {
     "data": {
      "image/png": "[encoded data removed]",
      "text/plain": [
       "<Figure size 432x288 with 1 Axes>"
      ]
     },
     "metadata": {
      "needs_background": "light"
     },
     "output_type": "display_data"
    }
   ],
   "source": [
    "plt.hist([x.prob()for x in rhs_givenNp],bins=50)\n",
    "print(\"histogram of the distribution of the RHS given the NP LHS for all NPs in the treebank\")"
   ]
  },
  {
   "cell_type": "code",
   "execution_count": 197,
   "metadata": {},
   "outputs": [],
   "source": [
    "def cut_np(tree):\n",
    "    for x in tree:\n",
    "        if x.label()=='NP':\n",
    "            tree=x\n",
    "    for x in tree.treepositions():\n",
    "        if len(x)==1:\n",
    "            if type(tree[x[0]])!=str:\n",
    "                tree[x[0]]=tree[x[0]].label()\n",
    "            \n",
    "    return tree"
   ]
  },
  {
   "cell_type": "code",
   "execution_count": 198,
   "metadata": {},
   "outputs": [],
   "source": [
    "np_branches=[]\n",
    "\n",
    "for tree in dataset_simplified:\n",
    "    np_branches.append(cut_np(tree))"
   ]
  },
  {
   "cell_type": "code",
   "execution_count": 200,
   "metadata": {},
   "outputs": [
    {
     "data": {
      "image/png": "[encoded data removed]",
      "text/plain": [
       "Tree('NP', ['NP', 'PP'])"
      ]
     },
     "execution_count": 200,
     "metadata": {},
     "output_type": "execute_result"
    }
   ],
   "source": [
    "np_branches[200]"
   ]
  },
  {
   "cell_type": "code",
   "execution_count": 205,
   "metadata": {},
   "outputs": [
    {
     "data": {
      "text/plain": [
       "[NP -> 'NP' ',' 'ADJP' ',' [0.00137552],\n",
       " NP -> 'NNP' 'NNP' [0.0850069],\n",
       " NP -> 'NP' ',' 'UCP' ',' [0.000550206],\n",
       " NP -> 'NNS' [0.042641],\n",
       " NP -> 'NP' ',' 'NP' ',' [0.0437414],\n",
       " NP -> 'DT' 'JJS' 'NNS' [0.000825309],\n",
       " NP -> 'DT' 'NNP' 'NN' [0.00935351],\n",
       " NP -> 'PRP' [0.117744],\n",
       " NP -> 'EX' [0.0088033],\n",
       " NP -> 'DT' 'NP' 'CC' 'NP' [0.00247593]]"
      ]
     },
     "execution_count": 205,
     "metadata": {},
     "output_type": "execute_result"
    }
   ],
   "source": [
    "np_data= [x.productions() for x in np_branches]\n",
    "np_dataa=[x for tree in np_data for x in tree]\n",
    "np_probs=induce_pcfg(S,np_dataa)\n",
    "rhs_givenNpafterS=np_probs.productions(Nonterminal('NP'))\n",
    "rhs_givenNpafterS[:10]"
   ]
  },
  {
   "cell_type": "code",
   "execution_count": 244,
   "metadata": {},
   "outputs": [
    {
     "name": "stdout",
     "output_type": "stream",
     "text": [
      "histogram of the distribution of the RHS given the NP LHS only for NPs that appear directly below a S node\n"
     ]
    },
    {
     "data": {
      "image/png": "[encoded data removed]",
      "text/plain": [
       "<Figure size 432x288 with 1 Axes>"
      ]
     },
     "metadata": {
      "needs_background": "light"
     },
     "output_type": "display_data"
    }
   ],
   "source": [
    "plt.hist([x.prob()for x in rhs_givenNpafterS],bins=50)\n",
    "print(\"histogram of the distribution of the RHS given the NP LHS only for NPs that appear directly below a S node\")"
   ]
  },
  {
   "cell_type": "code",
   "execution_count": 206,
   "metadata": {},
   "outputs": [],
   "source": [
    "def cut_vp(tree):\n",
    "    for x in tree:\n",
    "        if x.label()=='VP':\n",
    "            tree=x\n",
    "    for x in tree.treepositions():\n",
    "        if len(x)==1:\n",
    "            if type(tree[x[0]])!=str:\n",
    "                tree[x[0]]=tree[x[0]].label()\n",
    "            \n",
    "    return tree"
   ]
  },
  {
   "cell_type": "code",
   "execution_count": 212,
   "metadata": {},
   "outputs": [],
   "source": [
    "vp_branches=[]\n",
    "\n",
    "for tree in dataset_simplified:\n",
    "    vp_branches.append(cut_vp(tree))"
   ]
  },
  {
   "cell_type": "code",
   "execution_count": 213,
   "metadata": {},
   "outputs": [
    {
     "data": {
      "image/png": "[encoded data removed]",
      "text/plain": [
       "Tree('VP', ['VBZ', 'NP'])"
      ]
     },
     "execution_count": 213,
     "metadata": {},
     "output_type": "execute_result"
    }
   ],
   "source": [
    "vp_branches[200]"
   ]
  },
  {
   "cell_type": "code",
   "execution_count": 214,
   "metadata": {},
   "outputs": [
    {
     "data": {
      "text/plain": [
       "[NP -> 'NNP' 'NNP' 'NNP' ':' [0.0078125],\n",
       " NP -> 'NN' ':' 'IN' 'NN' '.' [0.0078125],\n",
       " NP -> 'NNP' ':' [0.0234375],\n",
       " NP -> 'NNP' 'NNP' ':' [0.0234375],\n",
       " NP -> 'NP' ':' 'NP' '.' [0.210938],\n",
       " NP -> 'NNS' ':' [0.0078125],\n",
       " NP -> 'NN' ':' [0.0078125],\n",
       " NP -> 'NP' 'SBAR' '.' [0.0078125],\n",
       " NP -> 'LST' 'JJ' 'JJ' 'NN' '.' [0.0078125],\n",
       " NP -> 'NP' 'NP' '.' [0.0234375]]"
      ]
     },
     "execution_count": 214,
     "metadata": {},
     "output_type": "execute_result"
    }
   ],
   "source": [
    "vp_data= [x.productions() for x in vp_branches]\n",
    "vp_dataa=[x for tree in vp_data for x in tree]\n",
    "vp_probs=induce_pcfg(S,vp_dataa)\n",
    "rhs_givenNpafterVP=vp_probs.productions(Nonterminal('NP'))\n",
    "rhs_givenNpafterVP[:10]"
   ]
  },
  {
   "cell_type": "code",
   "execution_count": 245,
   "metadata": {},
   "outputs": [
    {
     "name": "stdout",
     "output_type": "stream",
     "text": [
      "histogram of the distribution of the RHS given the NP LHS only for NPs that appear directly below a VP node\n"
     ]
    },
    {
     "data": {
      "image/png": "[encoded data removed]",
      "text/plain": [
       "<Figure size 432x288 with 1 Axes>"
      ]
     },
     "metadata": {
      "needs_background": "light"
     },
     "output_type": "display_data"
    }
   ],
   "source": [
    "plt.hist([x.prob()for x in rhs_givenNpafterVP],bins=50)\n",
    "print(\"histogram of the distribution of the RHS given the NP LHS only for NPs that appear directly below a VP node\")"
   ]
  },
  {
   "cell_type": "code",
   "execution_count": 236,
   "metadata": {},
   "outputs": [],
   "source": [
    "import math\n",
    "CP=len(rhs_givenNpafterS)\n",
    "CQ=len(rhs_givenNp)\n",
    "minus = list(set(rhs_givenNp) - set(rhs_givenNpafterS))\n",
    "SU = rhs_givenNpafterS + minus\n",
    "CU=len(SU)\n",
    "eps=0.00001\n",
    "pc = eps*(CU-CP)/CP\n",
    "qc = eps*(CU-CQ)/CQ"
   ]
  },
  {
   "cell_type": "code",
   "execution_count": 237,
   "metadata": {},
   "outputs": [
    {
     "name": "stdout",
     "output_type": "stream",
     "text": [
      "kl between distribution on all dataset and distribution only for NPs that appear directly below a S node\n",
      "7.472218909154029\n"
     ]
    }
   ],
   "source": [
    "print(\"kl between distribution on all dataset and distribution only for NPs that appear directly below a S node\")\n",
    "for pr in rhs_givenNpafterS:\n",
    "    p= pr.prob()-pc\n",
    "    Q=[x for x in rhs_givenNp if x.rhs()== pr.rhs()]\n",
    "    if len(Q)==0:\n",
    "        q=eps\n",
    "    else:\n",
    "        q= Q[0].prob()\n",
    "    summ+=p*math.log(p/q)\n",
    "print(summ)"
   ]
  },
  {
   "cell_type": "code",
   "execution_count": null,
   "metadata": {},
   "outputs": [],
   "source": [
    "CP=len(rhs_givenNpafterVP)\n",
    "CQ=len(rhs_givenNp)\n",
    "minus = list(set(rhs_givenNp) - set(rhs_givenNpafterVP))\n",
    "SU = rhs_givenNpafterVP + minus\n",
    "CU=len(SU)\n",
    "eps=0.00001\n",
    "pc = eps*(CU-CP)/CP\n",
    "qc = eps*(CU-CQ)/CQ"
   ]
  },
  {
   "cell_type": "code",
   "execution_count": 238,
   "metadata": {},
   "outputs": [
    {
     "name": "stdout",
     "output_type": "stream",
     "text": [
      "kl between distribution on all dataset and distribution only for NPs that appear directly below a VP node\n",
      "15.596004654155752\n"
     ]
    }
   ],
   "source": [
    "print(\"kl between distribution on all dataset and distribution only for NPs that appear directly below a VP node\")\n",
    "for pr in rhs_givenNpafterVP:\n",
    "    p= pr.prob()-pc\n",
    "    Q=[x for x in rhs_givenNp if x.rhs()== pr.rhs()]\n",
    "    if len(Q)==0:\n",
    "        q=eps\n",
    "    else:\n",
    "        q= Q[0].prob()\n",
    "    summ+=p*math.log(p/q)\n",
    "print(summ)"
   ]
  },
  {
   "cell_type": "markdown",
   "metadata": {},
   "source": [
    "The data in the treebank doesn't confirm the CFG hypothesis,we can see that in case of np's under vp's the distribution is diffrent from the distribution of rules for np's in all dataset and also the kl divergence is high- 15.6.\n",
    "In the case of np's after s's the form of distribution is more similar to distribution of rules for np's in total as seen in the histogram but the kl parameter is high so there are diffrences between the distributions. \n"
   ]
  },
  {
   "cell_type": "markdown",
   "metadata": {
    "id": "jJ-IbDhW6VeE"
   },
   "source": [
    "<hr/>\n",
    "<a name=\"q3\"></a>\n",
    "<h2>Question 3: Building and Evaluating a Simple PCFG Parser</h2>\n",
    "\n",
    "In this question, we will construct a Viterbi parser for the PCFG induced in Question 2 and perform evaluation of this statistical parser. \n",
    "<p/>\n",
    "\n",
    "<a name=\"q3.1\"></a>\n",
    "<h3>Question 3.1: Build a Parser</h3>\n",
    "\n",
    "<a name=\"q3.1.1\"></a>\n",
    "<h4>3.1.1 Dataset Split</h4>\n",
    "    \n",
    "Split the NLTK treebank corpus into 80% training (about 3,200 trees) and 20% (about 800 trees) testing sets.\n",
    "<p/>"
   ]
  },
  {
   "cell_type": "code",
   "execution_count": 2,
   "metadata": {
    "colab": {
     "base_uri": "https://localhost:8080/"
    },
    "id": "hVPux5DRmVW9",
    "outputId": "ff40a658-c960-44a6-eaf8-2535f5671080"
   },
   "outputs": [
    {
     "name": "stderr",
     "output_type": "stream",
     "text": [
      "[nltk_data] Downloading package treebank to\n",
      "[nltk_data]     C:\\Users\\baraa\\AppData\\Roaming\\nltk_data...\n",
      "[nltk_data]   Unzipping corpora\\treebank.zip.\n"
     ]
    },
    {
     "data": {
      "text/plain": [
       "True"
      ]
     },
     "execution_count": 2,
     "metadata": {},
     "output_type": "execute_result"
    }
   ],
   "source": [
    "import nltk.corpus\n",
    "from nltk import induce_pcfg, Nonterminal, Production, ViterbiParser\n",
    "from sklearn.model_selection import train_test_split\n",
    "from collections import defaultdict\n",
    "\n",
    "nltk.download('treebank')"
   ]
  },
  {
   "cell_type": "code",
   "execution_count": 3,
   "metadata": {
    "colab": {
     "base_uri": "https://localhost:8080/"
    },
    "id": "NxKqN9ZsmsGq",
    "outputId": "cdc0b213-7580-413d-b947-39176f3f7baa"
   },
   "outputs": [
    {
     "name": "stdout",
     "output_type": "stream",
     "text": [
      "train size: 3131, test size 783 \n",
      "\n",
      "The school-board hearing at which she was dismissed *-2 *T*-1 was crowded *-4 with students , teachers and parents who *T*-98 came *-3 to testify on her behalf .\n",
      "It 's probably worth * paying a premium for funds that *T*-42 invest in markets that *T*-43 are partially closed to foreign investors , such as South Korea , some specialists say 0 *T*-1 .\n",
      "* Excluding one-time additions to profit in each year , earnings per share were $ 2.47 *U* , up 7.4 % from $ 2.30 *U* in fiscal 1988 .\n",
      "Outside , a young pressman filling a news box with an extra edition headlined * `` Herald Examiner Closes '' refused *-1 to take a reader 's quarter .\n",
      "Many institutional index funds are active program traders , *-1 swapping their stocks for futures when profitable * to do so *T*-2 .\n"
     ]
    }
   ],
   "source": [
    "dataset = nltk.corpus.treebank.parsed_sents()\n",
    "train,test = train_test_split(dataset, test_size=0.2)\n",
    "print(f'train size: {len(train)}, test size {len(test)} \\n')\n",
    "sents = [' '.join(tree.leaves()) for tree in train[:5]]\n",
    "for sent in sents:\n",
    "  print(sent)"
   ]
  },
  {
   "cell_type": "code",
   "execution_count": 4,
   "metadata": {
    "colab": {
     "base_uri": "https://localhost:8080/"
    },
    "id": "BRsHQiXy7Z1T",
    "outputId": "8fc6559b-070d-4adc-a492-46667aeb84ae"
   },
   "outputs": [
    {
     "name": "stdout",
     "output_type": "stream",
     "text": [
      "The school-board hearing at which she was dismissed *-2 *T*-1 was crowded *-4 with students , teachers and parents who *T*-98 came *-3 to testify on her behalf .\n",
      "(S\n",
      "  (NP-SBJ-4\n",
      "    (NP (DT The) (NN school-board) (NN hearing))\n",
      "    (SBAR-LOC\n",
      "      (WHPP-1 (IN at) (WHNP (WDT which)))\n",
      "      (S\n",
      "        (NP-SBJ-2 (PRP she))\n",
      "        (VP\n",
      "          (VBD was)\n",
      "          (VP\n",
      "            (VBN dismissed)\n",
      "            (NP (-NONE- *-2))\n",
      "            (PP-LOC (-NONE- *T*-1)))))))\n",
      "  (VP\n",
      "    (VBD was)\n",
      "    (VP\n",
      "      (VBN crowded)\n",
      "      (NP (-NONE- *-4))\n",
      "      (PP-CLR\n",
      "        (IN with)\n",
      "        (NP\n",
      "          (NP\n",
      "            (NNS students)\n",
      "            (, ,)\n",
      "            (NNS teachers)\n",
      "            (CC and)\n",
      "            (NNS parents))\n",
      "          (SBAR\n",
      "            (WHNP-98 (WP who))\n",
      "            (S\n",
      "              (NP-SBJ-3 (-NONE- *T*-98))\n",
      "              (VP\n",
      "                (VBD came)\n",
      "                (S-PRP\n",
      "                  (NP-SBJ (-NONE- *-3))\n",
      "                  (VP\n",
      "                    (TO to)\n",
      "                    (VP\n",
      "                      (VB testify)\n",
      "                      (PP-CLR (IN on) (NP (PRP$ her) (NN behalf)))))))))))))\n",
      "  (. .))\n",
      "It 's probably worth * paying a premium for funds that *T*-42 invest in markets that *T*-43 are partially closed to foreign investors , such as South Korea , some specialists say 0 *T*-1 .\n",
      "(S\n",
      "  (S-TPC-1\n",
      "    (NP-SBJ (PRP It))\n",
      "    (VP\n",
      "      (VBZ 's)\n",
      "      (ADVP (RB probably))\n",
      "      (ADJP-PRD\n",
      "        (IN worth)\n",
      "        (S-NOM\n",
      "          (NP-SBJ (-NONE- *))\n",
      "          (VP\n",
      "            (VBG paying)\n",
      "            (NP (DT a) (NN premium))\n",
      "            (PP-CLR\n",
      "              (IN for)\n",
      "              (NP\n",
      "                (NP (NNS funds))\n",
      "                (SBAR\n",
      "                  (WHNP-42 (WDT that))\n",
      "                  (S\n",
      "                    (NP-SBJ (-NONE- *T*-42))\n",
      "                    (VP\n",
      "                      (VBP invest)\n",
      "                      (PP-CLR\n",
      "                        (IN in)\n",
      "                        (NP\n",
      "                          (NP (NNS markets))\n",
      "                          (SBAR\n",
      "                            (WHNP-43 (WDT that))\n",
      "                            (S\n",
      "                              (NP-SBJ (-NONE- *T*-43))\n",
      "                              (VP\n",
      "                                (VBP are)\n",
      "                                (ADJP-PRD\n",
      "                                  (RB partially)\n",
      "                                  (VBN closed)\n",
      "                                  (PP\n",
      "                                    (TO to)\n",
      "                                    (NP (JJ foreign) (NNS investors)))))))\n",
      "                          (, ,)\n",
      "                          (PP\n",
      "                            (JJ such)\n",
      "                            (IN as)\n",
      "                            (NP (NNP South) (NNP Korea)))))))))))))))\n",
      "  (, ,)\n",
      "  (NP-SBJ (DT some) (NNS specialists))\n",
      "  (VP (VBP say) (SBAR (-NONE- 0) (S (-NONE- *T*-1))))\n",
      "  (. .))\n",
      "* Excluding one-time additions to profit in each year , earnings per share were $ 2.47 *U* , up 7.4 % from $ 2.30 *U* in fiscal 1988 .\n",
      "(S\n",
      "  (S-ADV\n",
      "    (NP-SBJ (-NONE- *))\n",
      "    (VP\n",
      "      (VBG Excluding)\n",
      "      (NP\n",
      "        (NP (JJ one-time) (NNS additions))\n",
      "        (PP (TO to) (NP (NN profit)))\n",
      "        (PP-TMP (IN in) (NP (DT each) (NN year))))))\n",
      "  (, ,)\n",
      "  (NP-SBJ (NP (NNS earnings)) (PP (IN per) (NP (NN share))))\n",
      "  (VP\n",
      "    (VBD were)\n",
      "    (NP-PRD ($ $) (CD 2.47) (-NONE- *U*))\n",
      "    (, ,)\n",
      "    (ADVP-CLR\n",
      "      (RB up)\n",
      "      (NP (CD 7.4) (NN %))\n",
      "      (PP\n",
      "        (IN from)\n",
      "        (NP\n",
      "          (NP ($ $) (CD 2.30) (-NONE- *U*))\n",
      "          (PP-TMP (IN in) (NP (JJ fiscal) (CD 1988)))))))\n",
      "  (. .))\n"
     ]
    }
   ],
   "source": [
    "def remove_none(trees):\n",
    "  for tree in trees:\n",
    "    for sub in tree.subtrees():\n",
    "        for n, child in enumerate(sub):\n",
    "            if isinstance(child, str):\n",
    "                continue\n",
    "            if len(list(child.subtrees(filter=lambda x:x.label()=='-NONE-')))==len(child.leaves()):\n",
    "                del sub[n]\n",
    "print(' '.join(train[0].leaves()))               \n",
    "print(str(train[0]))  \n",
    "print(' '.join(train[1].leaves()))\n",
    "print(str(train[1])) \n",
    "print(' '.join(train[2].leaves())) \n",
    "print(str(train[2]))              \n",
    "remove_none(train)\n",
    "remove_none(test)\n"
   ]
  },
  {
   "cell_type": "code",
   "execution_count": 5,
   "metadata": {
    "colab": {
     "base_uri": "https://localhost:8080/"
    },
    "id": "XPXxDizg79uz",
    "outputId": "65d5c944-9833-4b74-87e6-1ff9be44c703"
   },
   "outputs": [
    {
     "name": "stdout",
     "output_type": "stream",
     "text": [
      "(S\n",
      "  (NP-SBJ-4\n",
      "    (NP (DT The) (NN school-board) (NN hearing))\n",
      "    (SBAR-LOC\n",
      "      (WHPP-1 (IN at) (WHNP (WDT which)))\n",
      "      (S\n",
      "        (NP-SBJ-2 (PRP she))\n",
      "        (VP (VBD was) (VP (VBN dismissed) (PP-LOC ))))))\n",
      "  (VP\n",
      "    (VBD was)\n",
      "    (VP\n",
      "      (VBN crowded)\n",
      "      (PP-CLR\n",
      "        (IN with)\n",
      "        (NP\n",
      "          (NP\n",
      "            (NNS students)\n",
      "            (, ,)\n",
      "            (NNS teachers)\n",
      "            (CC and)\n",
      "            (NNS parents))\n",
      "          (SBAR\n",
      "            (WHNP-98 (WP who))\n",
      "            (S\n",
      "              (VP\n",
      "                (VBD came)\n",
      "                (S-PRP\n",
      "                  (VP\n",
      "                    (TO to)\n",
      "                    (VP\n",
      "                      (VB testify)\n",
      "                      (PP-CLR (IN on) (NP (PRP$ her) (NN behalf)))))))))))))\n",
      "  (. .))\n",
      "(S\n",
      "  (S-TPC-1\n",
      "    (NP-SBJ (PRP It))\n",
      "    (VP\n",
      "      (VBZ 's)\n",
      "      (ADVP (RB probably))\n",
      "      (ADJP-PRD\n",
      "        (IN worth)\n",
      "        (S-NOM\n",
      "          (VP\n",
      "            (VBG paying)\n",
      "            (NP (DT a) (NN premium))\n",
      "            (PP-CLR\n",
      "              (IN for)\n",
      "              (NP\n",
      "                (NP (NNS funds))\n",
      "                (SBAR\n",
      "                  (WHNP-42 (WDT that))\n",
      "                  (S\n",
      "                    (VP\n",
      "                      (VBP invest)\n",
      "                      (PP-CLR\n",
      "                        (IN in)\n",
      "                        (NP\n",
      "                          (NP (NNS markets))\n",
      "                          (SBAR\n",
      "                            (WHNP-43 (WDT that))\n",
      "                            (S\n",
      "                              (VP\n",
      "                                (VBP are)\n",
      "                                (ADJP-PRD\n",
      "                                  (RB partially)\n",
      "                                  (VBN closed)\n",
      "                                  (PP\n",
      "                                    (TO to)\n",
      "                                    (NP (JJ foreign) (NNS investors)))))))\n",
      "                          (, ,)\n",
      "                          (PP\n",
      "                            (JJ such)\n",
      "                            (IN as)\n",
      "                            (NP (NNP South) (NNP Korea)))))))))))))))\n",
      "  (, ,)\n",
      "  (NP-SBJ (DT some) (NNS specialists))\n",
      "  (VP (VBP say))\n",
      "  (. .))\n",
      "(S\n",
      "  (S-ADV\n",
      "    (VP\n",
      "      (VBG Excluding)\n",
      "      (NP\n",
      "        (NP (JJ one-time) (NNS additions))\n",
      "        (PP (TO to) (NP (NN profit)))\n",
      "        (PP-TMP (IN in) (NP (DT each) (NN year))))))\n",
      "  (, ,)\n",
      "  (NP-SBJ (NP (NNS earnings)) (PP (IN per) (NP (NN share))))\n",
      "  (VP\n",
      "    (VBD were)\n",
      "    (NP-PRD ($ $) (CD 2.47))\n",
      "    (, ,)\n",
      "    (ADVP-CLR\n",
      "      (RB up)\n",
      "      (NP (CD 7.4) (NN %))\n",
      "      (PP\n",
      "        (IN from)\n",
      "        (NP\n",
      "          (NP ($ $) (CD 2.30))\n",
      "          (PP-TMP (IN in) (NP (JJ fiscal) (CD 1988)))))))\n",
      "  (. .))\n"
     ]
    }
   ],
   "source": [
    "print(str(train[0]))  \n",
    "print(str(train[1]))  \n",
    "print(str(train[2]))   "
   ]
  },
  {
   "cell_type": "code",
   "execution_count": 6,
   "metadata": {
    "id": "0eR-YkaxBfwn"
   },
   "outputs": [],
   "source": [
    "from nltk.tree import Tree\n",
    "def simplify_trees(trees):\n",
    "  def convert_tree_labels(tree): \n",
    "    children = []\n",
    "    for t in tree:\n",
    "      if isinstance(t, Tree):\n",
    "        children.append(convert_tree_labels(t)) \n",
    "      else:\n",
    "        children.append(t)\n",
    "    label = simplify_functional_tag(tree.label()) \n",
    "    return Tree(label, children)\n",
    "  \n",
    "  return [convert_tree_labels(tree) for tree in trees]\n",
    "\n",
    "train_simplified = simplify_trees(train)\n",
    "test_simplified = simplify_trees(test)\n"
   ]
  },
  {
   "cell_type": "code",
   "execution_count": 7,
   "metadata": {
    "colab": {
     "base_uri": "https://localhost:8080/",
     "height": 71
    },
    "id": "kSamSulBExVn",
    "outputId": "2f242eb4-0b4a-4674-ddee-635d5dbf5b63"
   },
   "outputs": [
    {
     "data": {
      "text/plain": [
       "'(S\\n  (NP-SBJ-4\\n    (NP (DT The) (NN school-board) (NN hearing))\\n    (SBAR-LOC\\n      (WHPP-1 (IN at) (WHNP (WDT which)))\\n      (S\\n        (NP-SBJ-2 (PRP she))\\n        (VP (VBD was) (VP (VBN dismissed) (PP-LOC ))))))\\n  (VP\\n    (VBD was)\\n    (VP\\n      (VBN crowded)\\n      (PP-CLR\\n        (IN with)\\n        (NP\\n          (NP\\n            (NNS students)\\n            (, ,)\\n            (NNS teachers)\\n            (CC and)\\n            (NNS parents))\\n          (SBAR\\n            (WHNP-98 (WP who))\\n            (S\\n              (VP\\n                (VBD came)\\n                (S-PRP\\n                  (VP\\n                    (TO to)\\n                    (VP\\n                      (VB testify)\\n                      (PP-CLR (IN on) (NP (PRP$ her) (NN behalf)))))))))))))\\n  (. .))'"
      ]
     },
     "execution_count": 7,
     "metadata": {},
     "output_type": "execute_result"
    }
   ],
   "source": [
    "str(train[0])"
   ]
  },
  {
   "cell_type": "code",
   "execution_count": 8,
   "metadata": {
    "colab": {
     "base_uri": "https://localhost:8080/",
     "height": 71
    },
    "id": "hbcLnz-AE1dI",
    "outputId": "f053752e-9709-43f4-9759-06e65764d5bb"
   },
   "outputs": [
    {
     "data": {
      "text/plain": [
       "'(S\\n  (NP\\n    (NP (DT The) (NN school-board) (NN hearing))\\n    (SBAR\\n      (WHPP (IN at) (WHNP (WDT which)))\\n      (S (NP (PRP she)) (VP (VBD was) (VP (VBN dismissed) (PP ))))))\\n  (VP\\n    (VBD was)\\n    (VP\\n      (VBN crowded)\\n      (PP\\n        (IN with)\\n        (NP\\n          (NP\\n            (NNS students)\\n            (, ,)\\n            (NNS teachers)\\n            (CC and)\\n            (NNS parents))\\n          (SBAR\\n            (WHNP (WP who))\\n            (S\\n              (VP\\n                (VBD came)\\n                (S\\n                  (VP\\n                    (TO to)\\n                    (VP\\n                      (VB testify)\\n                      (PP (IN on) (NP (PRP$ her) (NN behalf)))))))))))))\\n  (. .))'"
      ]
     },
     "execution_count": 8,
     "metadata": {},
     "output_type": "execute_result"
    }
   ],
   "source": [
    "str(train_simplified[0])"
   ]
  },
  {
   "cell_type": "code",
   "execution_count": 9,
   "metadata": {
    "id": "ZraB8liiHqle"
   },
   "outputs": [],
   "source": [
    "from nltk.tree import Tree\n",
    "def replace_words_with_pos_tags(trees):\n",
    "  def convert_tree_leaves(tree): \n",
    "    children = []\n",
    "    for t in tree:\n",
    "      if isinstance(t, Tree):\n",
    "        children.append(convert_tree_leaves(t)) \n",
    "      else:\n",
    "        children.append(tree.label().lower())\n",
    "    label = simplify_functional_tag(tree.label()) \n",
    "    return Tree(label, children)\n",
    "  \n",
    "  return [convert_tree_leaves(tree) for tree in trees]\n",
    "\n",
    "train_pos_tags = replace_words_with_pos_tags(train_simplified)\n",
    "test_pos_tags = replace_words_with_pos_tags(test_simplified)"
   ]
  },
  {
   "cell_type": "code",
   "execution_count": 10,
   "metadata": {
    "colab": {
     "base_uri": "https://localhost:8080/",
     "height": 71
    },
    "id": "vfEiZLmnKLKt",
    "outputId": "bdd51783-bbf9-490d-fdbb-23d01fe7199c"
   },
   "outputs": [
    {
     "data": {
      "text/plain": [
       "'(S\\n  (NP\\n    (NP (DT The) (NN school-board) (NN hearing))\\n    (SBAR\\n      (WHPP (IN at) (WHNP (WDT which)))\\n      (S (NP (PRP she)) (VP (VBD was) (VP (VBN dismissed) (PP ))))))\\n  (VP\\n    (VBD was)\\n    (VP\\n      (VBN crowded)\\n      (PP\\n        (IN with)\\n        (NP\\n          (NP\\n            (NNS students)\\n            (, ,)\\n            (NNS teachers)\\n            (CC and)\\n            (NNS parents))\\n          (SBAR\\n            (WHNP (WP who))\\n            (S\\n              (VP\\n                (VBD came)\\n                (S\\n                  (VP\\n                    (TO to)\\n                    (VP\\n                      (VB testify)\\n                      (PP (IN on) (NP (PRP$ her) (NN behalf)))))))))))))\\n  (. .))'"
      ]
     },
     "execution_count": 10,
     "metadata": {},
     "output_type": "execute_result"
    }
   ],
   "source": [
    "str(train_simplified[0])"
   ]
  },
  {
   "cell_type": "code",
   "execution_count": 11,
   "metadata": {
    "colab": {
     "base_uri": "https://localhost:8080/",
     "height": 54
    },
    "id": "c_jMTLi6KRZV",
    "outputId": "35a40d7c-a50f-4664-8ce6-96ced952e4bf"
   },
   "outputs": [
    {
     "data": {
      "text/plain": [
       "'(S\\n  (NP\\n    (NP (DT dt) (NN nn) (NN nn))\\n    (SBAR\\n      (WHPP (IN in) (WHNP (WDT wdt)))\\n      (S (NP (PRP prp)) (VP (VBD vbd) (VP (VBN vbn) (PP ))))))\\n  (VP\\n    (VBD vbd)\\n    (VP\\n      (VBN vbn)\\n      (PP\\n        (IN in)\\n        (NP\\n          (NP (NNS nns) (, ,) (NNS nns) (CC cc) (NNS nns))\\n          (SBAR\\n            (WHNP (WP wp))\\n            (S\\n              (VP\\n                (VBD vbd)\\n                (S\\n                  (VP\\n                    (TO to)\\n                    (VP\\n                      (VB vb)\\n                      (PP (IN in) (NP (PRP$ prp$) (NN nn)))))))))))))\\n  (. .))'"
      ]
     },
     "execution_count": 11,
     "metadata": {},
     "output_type": "execute_result"
    }
   ],
   "source": [
    "str(train_pos_tags[0])"
   ]
  },
  {
   "cell_type": "markdown",
   "metadata": {
    "id": "V4QvX6WDleRb"
   },
   "source": [
    "<a name=\"q3.1.2\"></a>\n",
    "<h4>3.1.2 Learn a PCFG over the Chomsky Normal Form version of this treebank</h4>\n",
    "<p/>"
   ]
  },
  {
   "cell_type": "code",
   "execution_count": 239,
   "metadata": {},
   "outputs": [],
   "source": [
    "def learn_pcfg(trees):\n",
    "  res = defaultdict(lambda: defaultdict(lambda: 0))\n",
    "  productions = []\n",
    "  for tree in trees:\n",
    "    tree_prods = list(tree.productions())\n",
    "    for prod in tree_prods:\n",
    "      lhs = prod.lhs()._symbol\n",
    "      lhs = Nonterminal(lhs)\n",
    "      rhs = [Nonterminal(x._symbol) if type(x) is nltk.grammar.Nonterminal else x  for x in prod.rhs() ]\n",
    "      rule = Production(lhs,rhs)\n",
    "      productions.append(rule)\n",
    "\n",
    "  pcfg = induce_pcfg(Nonterminal('S'),productions)\n",
    "  return pcfg\n",
    "\n",
    "def simplify_functional_tag(tag):\n",
    "    if '-' in tag:\n",
    "        tag = tag.split('-')[0]\n",
    "    return tag"
   ]
  },
  {
   "cell_type": "code",
   "execution_count": 12,
   "metadata": {
    "id": "8RBQ9OPqvpzm"
   },
   "outputs": [],
   "source": [
    "for t in train_pos_tags:\n",
    "  t.chomsky_normal_form()\n",
    "for t in test_pos_tags:\n",
    "  t.chomsky_normal_form()\n",
    "\n",
    "\n",
    "pcfg = learn_pcfg(test_pos_tags)"
   ]
  },
  {
   "cell_type": "code",
   "execution_count": 13,
   "metadata": {
    "colab": {
     "base_uri": "https://localhost:8080/"
    },
    "id": "asA_a3LKHQQF",
    "outputId": "9d926cff-7d4c-41ba-ad27-f38d17e6f30f"
   },
   "outputs": [
    {
     "data": {
      "text/plain": [
       "<Grammar with 2698 productions>"
      ]
     },
     "execution_count": 13,
     "metadata": {},
     "output_type": "execute_result"
    }
   ],
   "source": [
    "pcfg"
   ]
  },
  {
   "cell_type": "code",
   "execution_count": 14,
   "metadata": {
    "colab": {
     "base_uri": "https://localhost:8080/",
     "height": 37
    },
    "id": "sU4Gx3QoKvw2",
    "outputId": "aa65912e-9a92-4fa2-aacf-2e4782d3c3d7"
   },
   "outputs": [
    {
     "data": {
      "text/plain": [
       "'in nnp nnp nnp nnp jj nn nn , nnp nnps vbd in $ cd , rb cd nns .'"
      ]
     },
     "execution_count": 14,
     "metadata": {},
     "output_type": "execute_result"
    }
   ],
   "source": [
    "' '.join(test_pos_tags[0].leaves())"
   ]
  },
  {
   "cell_type": "code",
   "execution_count": 15,
   "metadata": {
    "colab": {
     "base_uri": "https://localhost:8080/",
     "height": 37
    },
    "id": "CoNkx0bsK8-m",
    "outputId": "47c1c0af-6dc7-4662-e1c6-b1e2a5f2eae4"
   },
   "outputs": [
    {
     "data": {
      "text/plain": [
       "'dt nn nn in wdt prp vbd vbn vbd vbn in nns , nns cc nns wp vbd to vb in prp$ nn .'"
      ]
     },
     "execution_count": 15,
     "metadata": {},
     "output_type": "execute_result"
    }
   ],
   "source": [
    "' '.join(train_pos_tags[0].leaves())"
   ]
  },
  {
   "cell_type": "markdown",
   "metadata": {
    "id": "F4Yz5qJNllGz"
   },
   "source": [
    "<a name=\"q3.1.3\"></a>\n",
    "<h4>3.1.3 Viterbi Parser</h4>\n",
    "    \n",
    "Construct a <code><a href=\"https://www.nltk.org/_modules/nltk/parse/viterbi.html\">ViterbiParser</a></code> using this PCFG grammar.\n",
    "Test the parser on a few sentences."
   ]
  },
  {
   "cell_type": "code",
   "execution_count": 16,
   "metadata": {
    "id": "q4bo7JeXy6Wq"
   },
   "outputs": [],
   "source": [
    "VP = ViterbiParser(pcfg)"
   ]
  },
  {
   "cell_type": "code",
   "execution_count": 17,
   "metadata": {
    "colab": {
     "base_uri": "https://localhost:8080/"
    },
    "id": "CUtGyQb5VeZA",
    "outputId": "7f86ac6e-2e6b-47c3-c216-e26935508626"
   },
   "outputs": [
    {
     "name": "stdout",
     "output_type": "stream",
     "text": [
      "(S\n",
      "  (NP\n",
      "    (NP (DT dt) (NN nn))\n",
      "    (PP\n",
      "      (IN in)\n",
      "      (NP\n",
      "        (JJ jj)\n",
      "        (NP|<NN-CC-NN>\n",
      "          (NN nn)\n",
      "          (NP|<CC-NN> (CC cc) (NN nn))))))\n",
      "  (S|<VP-.>\n",
      "    (VP\n",
      "      (VP\n",
      "        (VBD vbd)\n",
      "        (VP|<PP-PP>\n",
      "          (PP (IN in) (NP (NNP nnp)))\n",
      "          (PP (IN in) (NP (NNP nnp)))))\n",
      "      (VP|<CC-VP>\n",
      "        (CC cc)\n",
      "        (VP\n",
      "          (MD md)\n",
      "          (VP\n",
      "            (VB vb)\n",
      "            (PP\n",
      "              (TO to)\n",
      "              (NP\n",
      "                (CD cd)\n",
      "                (NP|<JJ-JJ-NNS>\n",
      "                  (JJ jj)\n",
      "                  (NP|<JJ-NNS> (JJ jj) (NNS nns)))))))))\n",
      "    (. .))) (p=1.28767e-21)\n",
      "Wall time: 23.7 s\n"
     ]
    }
   ],
   "source": [
    "%%time\n",
    "x = VP.parse('dt nn in jj nn cc nn vbd in nnp in nnp cc md vb to cd jj jj nns .'.split())\n",
    "for y in x:\n",
    "  print(y)"
   ]
  },
  {
   "cell_type": "code",
   "execution_count": 18,
   "metadata": {
    "colab": {
     "base_uri": "https://localhost:8080/"
    },
    "id": "mN3WH6z6jXxG",
    "outputId": "e51fce49-1c2e-49cd-e2ed-51a60fae9e4e"
   },
   "outputs": [
    {
     "name": "stdout",
     "output_type": "stream",
     "text": [
      "(S\n",
      "  (ADVP (RB rb))\n",
      "  (S|<,-NP-VP-.>\n",
      "    (, ,)\n",
      "    (S|<NP-VP-.>\n",
      "      (NP (NNS nns))\n",
      "      (S|<VP-.>\n",
      "        (VP\n",
      "          (VBD vbd)\n",
      "          (VP|<NP-PP>\n",
      "            (NP (DT dt) (NP|<JJ-NN> (JJ jj) (NN nn)))\n",
      "            (PP\n",
      "              (IN in)\n",
      "              (NP\n",
      "                (NP\n",
      "                  (NP (NN nn))\n",
      "                  (NP|<PP-POS>\n",
      "                    (PP\n",
      "                      (IN in)\n",
      "                      (NP\n",
      "                        (NP (DT dt) (NN nn))\n",
      "                        (NP|<,-SBAR>\n",
      "                          (, ,)\n",
      "                          (SBAR\n",
      "                            (IN in)\n",
      "                            (S\n",
      "                              (NP (PRP prp))\n",
      "                              (VP\n",
      "                                (VBZ vbz)\n",
      "                                (SBAR\n",
      "                                  (WHADVP (WRB wrb))\n",
      "                                  (S\n",
      "                                    (VP\n",
      "                                      (TO to)\n",
      "                                      (VP\n",
      "                                        (VB vb)\n",
      "                                        (VP|<NP-SBAR>\n",
      "                                          (NP\n",
      "                                            (NP\n",
      "                                              (DT dt)\n",
      "                                              (NP|<``-NN-NN>\n",
      "                                                (`` ``)\n",
      "                                                (NP|<NN-NN>\n",
      "                                                  (NN nn)\n",
      "                                                  (NN nn))))\n",
      "                                            (NN nn))\n",
      "                                          (SBAR\n",
      "                                            (IN in)\n",
      "                                            (S\n",
      "                                              (ADVP\n",
      "                                                (RBR rbr))\n",
      "                                              (S|<NP-VP>\n",
      "                                                (NP\n",
      "                                                  (DT dt)\n",
      "                                                  (NN nn))\n",
      "                                                (VP\n",
      "                                                  (VBD vbd)\n",
      "                                                  (VP|<RB-VP>\n",
      "                                                    (RB rb)\n",
      "                                                    (VP\n",
      "                                                      (VBN\n",
      "                                                        vbn)\n",
      "                                                      (PP\n",
      "                                                        (IN\n",
      "                                                          in)\n",
      "                                                        (NP\n",
      "                                                          (VBG\n",
      "                                                            vbg)\n",
      "                                                          (NP|<JJ-NNS>\n",
      "                                                            (JJ\n",
      "                                                              jj)\n",
      "                                                            (NNS\n",
      "                                                              nns)))))))))))))))))))))\n",
      "                    (POS pos)))\n",
      "                (NN nn)))))\n",
      "        (. .))))) (p=8.25157e-49)\n",
      "Wall time: 2min 48s\n"
     ]
    }
   ],
   "source": [
    "%%time\n",
    "x = VP.parse('rb , nns vbd dt jj nn in nn in dt nn , in prp vbz wrb to vb dt `` nn nn '' nn in rbr dt nn vbd rb vbn in vbg jj nns pos nn .'.split())\n",
    "for y in x:\n",
    "  print(y)"
   ]
  },
  {
   "cell_type": "markdown",
   "metadata": {
    "id": "BHo8abOu6VeF"
   },
   "source": [
    "<a name=\"q3.2\"></a>\n",
    "<h3>Question 3.2: Evaluate the Parser</h3>\n",
    "\n",
    "Your task is to compute the ParsEval metric for the constituent-based parse trees on the test dataset of our treebank.  \n",
    "Report the following metrics:\n",
    "<ol>\n",
    "<li>Precision\n",
    "<li>Recall\n",
    "<li>F-measure\n",
    "<li>Labelled Precision\n",
    "<li>Labelled Recall\n",
    "<li>Labelled F-Measure\n",
    "</ol>\n",
    "\n",
    "Where precision and recall are computed over \"constituents\" between the parsed trees and the treebank trees: a constituent is a triplet \n",
    "(interior_node, first_index, last_index) - where first_index is the index of the first word in the sentence covered by the interior node,\n",
    "and last_index that of the last word (that is, [first_index, last_index] is the yield of the interior node).\n",
    "<p/>\n",
    "\n",
    "In labelled precision and recall we count that 2 constituents match if they have the same label for the interior node.  \n",
    "For unlabelled metrics, we just compare the first and last indexes.  \n",
    "Make sure you compare the trees from the treebank after they have been simplified: for example, S-TPC-1 must be compared with S and ADVP-TMP with ADVP, and -NONE- nodes have been eliminated.\n",
    "<p/>\n",
    "\n",
    "You can read more on this metric in the following references:\n",
    "<ol>\n",
    "<li><a href=\"http://courses.washington.edu/ling571/ling571_fall_2010/slides/evalb_improved_pcky.pdf\">An assignment on parsing evaluation by Scott Farrar</a> includes detailed explanation and examples on how the metric is computed.\n",
    "<li><a href=\"http://nlp.cs.nyu.edu/evalb/\">Evalb</a> software: this is the C program used in all standard evaluations of constituent parsers (by Satoshi Sekine and Michael  Collins).\n",
    "<li><a href=\"http://nlp.stanford.edu/nlp/javadoc/javanlp/edu/stanford/nlp/parser/metrics/Evalb.html\">Evalb in Java</a> for those who prefer reading Java over C - is part of the Stanford CoreNLP package.\n",
    "</ol>\n",
    "\n",
    "The specific steps to follow are:\n",
    "<ul>\n",
    "<li>Generate a list of labelled constituents of the form <code>[label first_index last_index]</code> given a parse tree.</li>\n",
    "<li>Compute unlabelled Precision, Recall and F-measure for your parser on the test dataset</li>\n",
    "<li>Compute labelled Precision, Recall and F-measure for your parser on the test dataset</li>\n",
    "</ul>"
   ]
  },
  {
   "cell_type": "code",
   "execution_count": 19,
   "metadata": {
    "id": "NY_23PsQo3dC"
   },
   "outputs": [],
   "source": [
    "predicted_test = [VP.parse(tree.leaves()) for tree in test_pos_tags]"
   ]
  },
  {
   "cell_type": "code",
   "execution_count": 20,
   "metadata": {
    "colab": {
     "base_uri": "https://localhost:8080/"
    },
    "id": "XtfxwJGGpQtq",
    "outputId": "25b69ab6-8d14-4840-b016-6bc0a23ee190"
   },
   "outputs": [
    {
     "name": "stdout",
     "output_type": "stream",
     "text": [
      "10\n",
      "20\n",
      "30\n",
      "40\n",
      "50\n",
      "60\n",
      "70\n",
      "80\n",
      "90\n",
      "100\n",
      "110\n",
      "120\n",
      "130\n",
      "140\n",
      "150\n",
      "160\n",
      "170\n",
      "180\n",
      "190\n",
      "200\n",
      "210\n",
      "220\n",
      "230\n",
      "240\n",
      "250\n",
      "260\n",
      "270\n",
      "280\n",
      "290\n",
      "300\n",
      "310\n",
      "320\n",
      "330\n",
      "340\n",
      "350\n",
      "360\n",
      "370\n",
      "380\n",
      "390\n",
      "400\n",
      "410\n",
      "420\n",
      "430\n",
      "440\n",
      "450\n",
      "460\n",
      "470\n",
      "480\n",
      "490\n",
      "500\n",
      "510\n",
      "520\n",
      "530\n",
      "540\n",
      "550\n",
      "560\n",
      "570\n",
      "580\n",
      "590\n",
      "600\n",
      "610\n",
      "620\n",
      "630\n",
      "640\n",
      "650\n",
      "660\n",
      "670\n",
      "680\n",
      "690\n",
      "700\n",
      "710\n",
      "720\n",
      "730\n",
      "740\n",
      "750\n",
      "760\n",
      "770\n",
      "780\n",
      "Wall time: 17h 39min 12s\n"
     ]
    }
   ],
   "source": [
    "%%time\n",
    "exceptions = 0\n",
    "reps = []\n",
    "predicted_trees = []\n",
    "for generaor in predicted_test:\n",
    "    for tree in generaor:\n",
    "        reps += [str(tree)]\n",
    "        predicted_trees += [tree]\n",
    "        break;\n",
    "    exceptions +=1\n",
    "    if exceptions % 10 == 0 :\n",
    "        print(exceptions)"
   ]
  },
  {
   "cell_type": "code",
   "execution_count": 21,
   "metadata": {
    "id": "1BNhQrjAnGqa"
   },
   "outputs": [
    {
     "data": {
      "text/plain": [
       "[ProbabilisticTree('S', [ProbabilisticTree('PP', [ProbabilisticTree('IN', ['in']) (p=1.0), ProbabilisticTree('NP', [ProbabilisticTree('NP', [ProbabilisticTree('NNP', ['nnp']) (p=1.0), ProbabilisticTree('NP|<NNP-NNP-NNP-JJ-NN>', [ProbabilisticTree('NNP', ['nnp']) (p=1.0), ProbabilisticTree('NP|<NNP-NNP-JJ-NN>', [ProbabilisticTree('NNP', ['nnp']) (p=1.0), ProbabilisticTree('NP|<NNP-JJ-NN>', [ProbabilisticTree('NNP', ['nnp']) (p=1.0), ProbabilisticTree('NP|<JJ-NN>', [ProbabilisticTree('JJ', ['jj']) (p=1.0), ProbabilisticTree('NN', ['nn']) (p=1.0)]) (p=1.0)]) (p=1.0)]) (p=1.0)]) (p=1.0)]) (p=0.0004769475357710652), ProbabilisticTree('NN', ['nn']) (p=1.0)]) (p=2.4264421533663092e-06)]) (p=1.9850415537414608e-06), ProbabilisticTree('S|<,-NP-VP-.>', [ProbabilisticTree(',', [',']) (p=1.0), ProbabilisticTree('S|<NP-VP-.>', [ProbabilisticTree('NP', [ProbabilisticTree('NNP', ['nnp']) (p=1.0), ProbabilisticTree('NNPS', ['nnps']) (p=1.0)]) (p=0.001589825119236884), ProbabilisticTree('S|<VP-.>', [ProbabilisticTree('VP', [ProbabilisticTree('VBD', ['vbd']) (p=1.0), ProbabilisticTree('VP|<PP-,-ADVP>', [ProbabilisticTree('PP', [ProbabilisticTree('IN', ['in']) (p=1.0), ProbabilisticTree('NP', [ProbabilisticTree('$', ['$']) (p=1.0), ProbabilisticTree('CD', ['cd']) (p=1.0)]) (p=0.008108108108108109)]) (p=0.006633140416924201), ProbabilisticTree('VP|<,-ADVP>', [ProbabilisticTree(',', [',']) (p=1.0), ProbabilisticTree('ADVP', [ProbabilisticTree('RB', ['rb']) (p=1.0), ProbabilisticTree('NP', [ProbabilisticTree('CD', ['cd']) (p=1.0), ProbabilisticTree('NNS', ['nns']) (p=1.0)]) (p=0.010174880763116057)]) (p=0.00021907638006709215)]) (p=0.00021907638006709215)]) (p=1.4531643910164763e-06)]) (p=1.994050622321065e-09), ProbabilisticTree('.', ['.']) (p=1.0)]) (p=1.994050622321065e-09)]) (p=3.17019176839597e-12)]) (p=3.17019176839597e-12)]) (p=1.9736283085311193e-19),\n",
       " ProbabilisticTree('S', [ProbabilisticTree('ADVP', [ProbabilisticTree('RB', ['rb']) (p=1.0)]) (p=0.6889952153110048), ProbabilisticTree('S|<,-NP-VP-.>', [ProbabilisticTree(',', [',']) (p=1.0), ProbabilisticTree('S|<NP-VP-.>', [ProbabilisticTree('NP', [ProbabilisticTree('PRP', ['prp']) (p=1.0)]) (p=0.05278219395866455), ProbabilisticTree('S|<VP-.>', [ProbabilisticTree('VP', [ProbabilisticTree('VBP', ['vbp']) (p=1.0), ProbabilisticTree('VP|<RB-VP>', [ProbabilisticTree('RB', ['rb']) (p=1.0), ProbabilisticTree('VP', [ProbabilisticTree('VBN', ['vbn']) (p=1.0), ProbabilisticTree('VP|<NP-PP>', [ProbabilisticTree('NP', [ProbabilisticTree('DT', ['dt']) (p=1.0), ProbabilisticTree('NP|<ADJP-NN>', [ProbabilisticTree('ADJP', [ProbabilisticTree('RBS', ['rbs']) (p=1.0), ProbabilisticTree('JJ', ['jj']) (p=1.0)]) (p=0.017421602787456445), ProbabilisticTree('NN', ['nn']) (p=1.0)]) (p=0.017421602787456445)]) (p=8.586163535948327e-05), ProbabilisticTree('PP', [ProbabilisticTree('IN', ['in']) (p=1.0), ProbabilisticTree('NP', [ProbabilisticTree('NP', [ProbabilisticTree('NP', [ProbabilisticTree('DT', ['dt']) (p=1.0), ProbabilisticTree('NNP', ['nnp']) (p=1.0)]) (p=0.007472178060413354), ProbabilisticTree('PP', [ProbabilisticTree('IN', ['in']) (p=1.0), ProbabilisticTree('NP', [ProbabilisticTree('VBG', ['vbg']) (p=1.0), ProbabilisticTree('NNS', ['nns']) (p=1.0)]) (p=0.0011128775834658188)]) (p=0.0009104310376170471)]) (p=7.743844868931398e-07), ProbabilisticTree('NP|<,-SBAR>', [ProbabilisticTree(',', [',']) (p=1.0), ProbabilisticTree('SBAR', [ProbabilisticTree('WHNP', [ProbabilisticTree('WDT', ['wdt']) (p=1.0)]) (p=0.5641025641025641), ProbabilisticTree('S', [ProbabilisticTree('VP', [ProbabilisticTree('VBP', ['vbp']) (p=1.0), ProbabilisticTree('VP|<ADVP-PP>', [ProbabilisticTree('ADVP', [ProbabilisticTree('RB', ['rb']) (p=1.0)]) (p=0.6889952153110048), ProbabilisticTree('PP', [ProbabilisticTree('IN', ['in']) (p=1.0), ProbabilisticTree('NP', [ProbabilisticTree('NP', [ProbabilisticTree('CD', ['cd']) (p=1.0), ProbabilisticTree('NN', ['nn']) (p=1.0)]) (p=0.011605723370429253), ProbabilisticTree('PP', [ProbabilisticTree('IN', ['in']) (p=1.0), ProbabilisticTree('NP', [ProbabilisticTree('DT', ['dt']) (p=1.0), ProbabilisticTree('NP|<JJ-CD-NNS>', [ProbabilisticTree('JJ', ['jj']) (p=1.0), ProbabilisticTree('NP|<CD-NNS>', [ProbabilisticTree('CD', ['cd']) (p=1.0), ProbabilisticTree('NNS', ['nns']) (p=1.0)]) (p=1.0)]) (p=1.0)]) (p=0.0014308426073131955)]) (p=0.0011705541912219177)]) (p=1.5464152215464828e-06)]) (p=1.2651026812443678e-06)]) (p=8.716496942544927e-07)]) (p=5.980443871385884e-10)]) (p=1.5250900566619016e-10)]) (p=2.1206873568967274e-11)]) (p=2.1206873568967274e-11)]) (p=6.52713589320843e-20)]) (p=5.3397670976663564e-20)]) (p=4.58481135444395e-24)]) (p=1.2582672670858181e-26)]) (p=1.2582672670858181e-26)]) (p=5.611483523881865e-29), ProbabilisticTree('.', ['.']) (p=1.0)]) (p=5.611483523881865e-29)]) (p=2.96186411753383e-30)]) (p=2.96186411753383e-30)]) (p=1.8885749972688376e-32),\n",
       " ProbabilisticTree('S', [ProbabilisticTree('NP', [ProbabilisticTree('NP', [ProbabilisticTree('NNP', ['nnp']) (p=1.0), ProbabilisticTree('POS', ['pos']) (p=1.0)]) (p=0.008108108108108109), ProbabilisticTree('NNP', ['nnp']) (p=1.0)]) (p=2.578094787951704e-06), ProbabilisticTree('S|<VP-.>', [ProbabilisticTree('VP', [ProbabilisticTree('VBD', ['vbd']) (p=1.0), ProbabilisticTree('VP|<NP-PP-,-S>', [ProbabilisticTree('NP', [ProbabilisticTree('DT', ['dt']) (p=1.0), ProbabilisticTree('NP|<JJ-NN-NN>', [ProbabilisticTree('JJ', ['jj']) (p=1.0), ProbabilisticTree('NP|<NN-NN>', [ProbabilisticTree('NN', ['nn']) (p=1.0), ProbabilisticTree('NN', ['nn']) (p=1.0)]) (p=1.0)]) (p=1.0)]) (p=0.002861685214626391), ProbabilisticTree('VP|<PP-,-S>', [ProbabilisticTree('PP', [ProbabilisticTree('IN', ['in']) (p=1.0), ProbabilisticTree('NP', [ProbabilisticTree('NP', [ProbabilisticTree('DT', ['dt']) (p=1.0), ProbabilisticTree('NP|<NN-POS>', [ProbabilisticTree('NN', ['nn']) (p=1.0), ProbabilisticTree('POS', ['pos']) (p=1.0)]) (p=1.0)]) (p=0.005564387917329093), ProbabilisticTree('NP|<JJ-NN>', [ProbabilisticTree('JJ', ['jj']) (p=1.0), ProbabilisticTree('NN', ['nn']) (p=1.0)]) (p=1.0)]) (p=1.8577447736710804e-05)]) (p=1.5197974395833058e-05), ProbabilisticTree('VP|<,-S>', [ProbabilisticTree(',', [',']) (p=1.0), ProbabilisticTree('S', [ProbabilisticTree('VP', [ProbabilisticTree('VBG', ['vbg']) (p=1.0), ProbabilisticTree('VP|<NP-SBAR>', [ProbabilisticTree('NP', [ProbabilisticTree('DT', ['dt']) (p=1.0), ProbabilisticTree('NN', ['nn']) (p=1.0)]) (p=0.09062003179650238), ProbabilisticTree('SBAR', [ProbabilisticTree('WHNP', [ProbabilisticTree('WDT', ['wdt']) (p=1.0)]) (p=0.5641025641025641), ProbabilisticTree('S', [ProbabilisticTree('VP', [ProbabilisticTree('MD', ['md']) (p=1.0), ProbabilisticTree('VP', [ProbabilisticTree('VB', ['vb']) (p=1.0), ProbabilisticTree('VP', [ProbabilisticTree('VBN', ['vbn']) (p=1.0), ProbabilisticTree('VP|<PRT-NP>', [ProbabilisticTree('PRT', [ProbabilisticTree('RP', ['rp']) (p=1.0)]) (p=0.88), ProbabilisticTree('NP', [ProbabilisticTree('PRP$', ['prp$']) (p=1.0), ProbabilisticTree('NP|<JJ-NN>', [ProbabilisticTree('JJ', ['jj']) (p=1.0), ProbabilisticTree('NN', ['nn']) (p=1.0)]) (p=1.0)]) (p=0.0023847376788553257)]) (p=0.0020985691573926868)]) (p=1.4398416174220833e-06)]) (p=2.519105402693868e-08)]) (p=1.3481318793147287e-09)]) (p=3.437909573985118e-10)]) (p=4.780525147257413e-11)]) (p=4.33211340848446e-12)]) (p=4.4584357548725145e-15)]) (p=1.1369584238646616e-15)]) (p=1.1369584238646616e-15)]) (p=1.7279465015021837e-20)]) (p=4.944838955014198e-23)]) (p=1.6963426946875462e-26), ProbabilisticTree('.', ['.']) (p=1.0)]) (p=1.6963426946875462e-26)]) (p=7.375079594854926e-33),\n",
       " ProbabilisticTree('S', [ProbabilisticTree('ADVP', [ProbabilisticTree('RB', ['rb']) (p=1.0)]) (p=0.6889952153110048), ProbabilisticTree('S|<,-NP-VP-.>', [ProbabilisticTree(',', [',']) (p=1.0), ProbabilisticTree('S|<NP-VP-.>', [ProbabilisticTree('NP', [ProbabilisticTree('NNP', ['nnp']) (p=1.0), ProbabilisticTree('NNP', ['nnp']) (p=1.0)]) (p=0.040858505564387915), ProbabilisticTree('S|<VP-.>', [ProbabilisticTree('VP', [ProbabilisticTree('VBD', ['vbd']) (p=1.0), ProbabilisticTree('SBAR', [ProbabilisticTree('IN', ['in']) (p=1.0), ProbabilisticTree('S', [ProbabilisticTree('``', ['``']) (p=1.0), ProbabilisticTree(\"S|<S-,-''-''-CC-S>\", [ProbabilisticTree('S', [ProbabilisticTree('NP', [ProbabilisticTree('PRP', ['prp']) (p=1.0)]) (p=0.05278219395866455), ProbabilisticTree('VP', [ProbabilisticTree('MD', ['md']) (p=1.0), ProbabilisticTree('VP', [ProbabilisticTree('VB', ['vb']) (p=1.0), ProbabilisticTree('VP|<ADJP-S>', [ProbabilisticTree('ADJP', [ProbabilisticTree('JJ', ['jj']) (p=1.0), ProbabilisticTree('S', [ProbabilisticTree('VP', [ProbabilisticTree('TO', ['to']) (p=1.0), ProbabilisticTree('VP', [ProbabilisticTree('VB', ['vb']) (p=1.0), ProbabilisticTree('PP', [ProbabilisticTree('IN', ['in']) (p=1.0), ProbabilisticTree('NP', [ProbabilisticTree('DT', ['dt']) (p=1.0), ProbabilisticTree('NP|<NNP-POS>', [ProbabilisticTree('NNP', ['nnp']) (p=1.0), ProbabilisticTree('POS', ['pos']) (p=1.0)]) (p=1.0)]) (p=0.0009538950715421304)]) (p=0.0007803694608146118)]) (p=1.0976037013172927e-05)]) (p=9.714639963631613e-07)]) (p=2.47735805756364e-07)]) (p=9.495100569059247e-09), ProbabilisticTree('S', [ProbabilisticTree('NP', [ProbabilisticTree('NN', ['nn']) (p=1.0)]) (p=0.040858505564387915), ProbabilisticTree('VP', [ProbabilisticTree('VBZ', ['vbz']) (p=1.0), ProbabilisticTree('VP|<``-ADJP>', [ProbabilisticTree('``', ['``']) (p=1.0), ProbabilisticTree('ADJP', [ProbabilisticTree('ADJP', [ProbabilisticTree('JJ', ['jj']) (p=1.0)]) (p=0.2264808362369338), ProbabilisticTree('ADJP|<CC-ADJP>', [ProbabilisticTree('CC', ['cc']) (p=1.0), ProbabilisticTree('ADJP', [ProbabilisticTree('RB', ['rb']) (p=1.0), ProbabilisticTree('JJ', ['jj']) (p=1.0)]) (p=0.11846689895470383)]) (p=0.11846689895470383)]) (p=0.00018697200238088963)]) (p=0.00018697200238088963)]) (p=6.414133872414738e-08)]) (p=7.97668788246466e-10)]) (p=7.57394536519982e-18)]) (p=2.598265991492219e-21)]) (p=1.3904956935601584e-22)]) (p=2.23387664424363e-24), ProbabilisticTree(\"S|<,-''-''-CC-S>\", [ProbabilisticTree(',', [',']) (p=1.0), ProbabilisticTree(\"S|<''-''-CC-S>\", [ProbabilisticTree(\"''\", [\"''\"]) (p=1.0), ProbabilisticTree(\"S|<''-CC-S>\", [ProbabilisticTree(\"''\", [\"''\"]) (p=1.0), ProbabilisticTree('S|<CC-S>', [ProbabilisticTree('CC', ['cc']) (p=1.0), ProbabilisticTree('S', [ProbabilisticTree('NP', [ProbabilisticTree('PRP', ['prp']) (p=1.0)]) (p=0.05278219395866455), ProbabilisticTree('VP', [ProbabilisticTree('VBZ', ['vbz']) (p=1.0), ProbabilisticTree('NP', [ProbabilisticTree('DT', ['dt']) (p=1.0), ProbabilisticTree('NN', ['nn']) (p=1.0)]) (p=0.09062003179650238)]) (p=0.002953311499371433)]) (p=4.7445911642706946e-05)]) (p=4.7445911642706946e-05)]) (p=4.7445911642706946e-05)]) (p=4.7445911642706946e-05)]) (p=4.7445911642706946e-05)]) (p=1.0598831388348997e-28)]) (p=5.449270636683289e-32)]) (p=1.800545717365632e-32)]) (p=6.115060926902147e-34), ProbabilisticTree('.', ['.']) (p=1.0)]) (p=6.115060926902147e-34)]) (p=2.498522509084025e-35)]) (p=2.498522509084025e-35)]) (p=1.5931342403035124e-37),\n",
       " ProbabilisticTree('S', [ProbabilisticTree('VP', [ProbabilisticTree('VBZ', ['vbz']) (p=1.0), ProbabilisticTree('S', [ProbabilisticTree('NP', [ProbabilisticTree('NP', [ProbabilisticTree('NP', [ProbabilisticTree('DT', ['dt']) (p=1.0), ProbabilisticTree('NP|<NN-POS>', [ProbabilisticTree('NN', ['nn']) (p=1.0), ProbabilisticTree('POS', ['pos']) (p=1.0)]) (p=1.0)]) (p=0.005564387917329093), ProbabilisticTree('NN', ['nn']) (p=1.0)]) (p=2.830849178927361e-05), ProbabilisticTree('NP|<,-NP-,>', [ProbabilisticTree(',', [',']) (p=1.0), ProbabilisticTree('NP|<NP-,>', [ProbabilisticTree('NP', [ProbabilisticTree('NNP', ['nnp']) (p=1.0), ProbabilisticTree('NNP', ['nnp']) (p=1.0)]) (p=0.040858505564387915), ProbabilisticTree(',', [',']) (p=1.0)]) (p=0.040858505564387915)]) (p=0.040858505564387915)]) (p=1.0481499546838398e-08), ProbabilisticTree('VP', [ProbabilisticTree('VBG', ['vbg']) (p=1.0), ProbabilisticTree('S', [ProbabilisticTree('NP', [ProbabilisticTree('NNP', ['nnp']) (p=1.0), ProbabilisticTree('NNP', ['nnp']) (p=1.0)]) (p=0.040858505564387915), ProbabilisticTree('VP', [ProbabilisticTree('VBZ', ['vbz']) (p=1.0), ProbabilisticTree('S', [ProbabilisticTree('``', ['``']) (p=1.0), ProbabilisticTree(\"S|<NP-VP-.-''>\", [ProbabilisticTree('NP', [ProbabilisticTree('NP', [ProbabilisticTree('DT', ['dt']) (p=1.0), ProbabilisticTree('NN', ['nn']) (p=1.0)]) (p=0.09062003179650238), ProbabilisticTree('PP', [ProbabilisticTree('IN', ['in']) (p=1.0), ProbabilisticTree('NP', [ProbabilisticTree('NNS', ['nns']) (p=1.0)]) (p=0.04340222575516693)]) (p=0.03550681046706484)]) (p=0.0003662673860347765), ProbabilisticTree(\"S|<VP-.-''>\", [ProbabilisticTree('VP', [ProbabilisticTree('TO', ['to']) (p=1.0), ProbabilisticTree('VP', [ProbabilisticTree('VP', [ProbabilisticTree('VB', ['vb']) (p=1.0), ProbabilisticTree('NP', [ProbabilisticTree('PRP', ['prp']) (p=1.0)]) (p=0.05278219395866455)]) (p=0.0031868494465608784), ProbabilisticTree('VP|<CC-VP-,-SBAR>', [ProbabilisticTree('CC', ['cc']) (p=1.0), ProbabilisticTree('VP|<VP-,-SBAR>', [ProbabilisticTree('VP', [ProbabilisticTree('VB', ['vb']) (p=1.0), ProbabilisticTree('SBAR', [ProbabilisticTree('IN', ['in']) (p=1.0), ProbabilisticTree('S', [ProbabilisticTree('NP', [ProbabilisticTree('PRP', ['prp']) (p=1.0)]) (p=0.05278219395866455), ProbabilisticTree('VP', [ProbabilisticTree('VBP', ['vbp']) (p=1.0), ProbabilisticTree('VP|<NP-ADVP>', [ProbabilisticTree('NP', [ProbabilisticTree('NN', ['nn']) (p=1.0)]) (p=0.040858505564387915), ProbabilisticTree('ADVP', [ProbabilisticTree('RB', ['rb']) (p=1.0)]) (p=0.6889952153110048)]) (p=0.02815131483862134)]) (p=1.9314795772638995e-05)]) (p=3.1029848826329457e-07)]) (p=1.0252869629678789e-07)]) (p=6.331103030333386e-10), ProbabilisticTree('VP|<,-SBAR>', [ProbabilisticTree(',', [',']) (p=1.0), ProbabilisticTree('SBAR', [ProbabilisticTree('WHADVP', [ProbabilisticTree('WRB', ['wrb']) (p=1.0)]) (p=0.9444444444444444), ProbabilisticTree('SBAR|<PP-S>', [ProbabilisticTree('PP', [ProbabilisticTree('IN', ['in']) (p=1.0), ProbabilisticTree('NP', [ProbabilisticTree('NN', ['nn']) (p=1.0)]) (p=0.040858505564387915)]) (p=0.03342582523822587), ProbabilisticTree('S', [ProbabilisticTree('NP', [ProbabilisticTree('PRP', ['prp']) (p=1.0)]) (p=0.05278219395866455), ProbabilisticTree('VP', [ProbabilisticTree('VBP', ['vbp']) (p=1.0), ProbabilisticTree('VP|<RB-VP>', [ProbabilisticTree('RB', ['rb']) (p=1.0), ProbabilisticTree('VP', [ProbabilisticTree('VB', ['vb']) (p=1.0), ProbabilisticTree('VP|<NP-ADVP-PP>', [ProbabilisticTree('NP', [ProbabilisticTree('PRP', ['prp']) (p=1.0)]) (p=0.05278219395866455), ProbabilisticTree('VP|<ADVP-PP>', [ProbabilisticTree('ADVP', [ProbabilisticTree('RB', ['rb']) (p=1.0)]) (p=0.6889952153110048), ProbabilisticTree('PP', [ProbabilisticTree('IN', ['in']) (p=1.0), ProbabilisticTree('NP', [ProbabilisticTree('DT', ['dt']) (p=1.0)]) (p=0.006041335453100159)]) (p=0.004942339918492541)]) (p=0.0034052485562819424)]) (p=0.00017973648977513592)]) (p=1.233183463294243e-07)]) (p=1.233183463294243e-07)]) (p=5.499617503542079e-10)]) (p=8.83531473727976e-12)]) (p=2.953276863330348e-13)]) (p=4.876234137200458e-16)]) (p=4.876234137200458e-16)]) (p=3.0871940722644923e-25)]) (p=3.0871940722644923e-25)]) (p=3.3751021340041582e-31)]) (p=2.9872259024805243e-32), ProbabilisticTree(\"S|<.-''>\", [ProbabilisticTree('.', ['.']) (p=1.0), ProbabilisticTree(\"''\", [\"''\"]) (p=1.0)]) (p=1.0)]) (p=2.9872259024805243e-32)]) (p=1.0941234227969178e-35)]) (p=3.37518793664859e-38)]) (p=2.8946723298872985e-40)]) (p=3.5998465508835836e-42)]) (p=2.099395930189397e-44)]) (p=6.697610259445453e-53)]) (p=5.744091131599874e-55)]) (p=1.4648170700635153e-55),\n",
       " ProbabilisticTree('S', [ProbabilisticTree('NP', [ProbabilisticTree('NP', [ProbabilisticTree('NNP', ['nnp']) (p=1.0), ProbabilisticTree('NP|<NNP-NNP-NNP-NNP>', [ProbabilisticTree('NNP', ['nnp']) (p=1.0), ProbabilisticTree('NP|<NNP-NNP-NNP>', [ProbabilisticTree('NNP', ['nnp']) (p=1.0), ProbabilisticTree('NP|<NNP-NNP>', [ProbabilisticTree('NNP', ['nnp']) (p=1.0), ProbabilisticTree('NNP', ['nnp']) (p=1.0)]) (p=1.0)]) (p=1.0)]) (p=1.0)]) (p=0.0006359300476947536), ProbabilisticTree('NP|<,-NP-:>', [ProbabilisticTree(',', [',']) (p=1.0), ProbabilisticTree('NP|<NP-:>', [ProbabilisticTree('NP', [ProbabilisticTree('NNP', ['nnp']) (p=1.0)]) (p=0.04006359300476948), ProbabilisticTree(':', [':']) (p=1.0)]) (p=0.04006359300476948)]) (p=0.04006359300476948)]) (p=4.050499620086844e-09)]) (p=1.4577633594142883e-11),\n",
       " ProbabilisticTree('S', [ProbabilisticTree('NP', [ProbabilisticTree('NNP', ['nnp']) (p=1.0)]) (p=0.04006359300476948), ProbabilisticTree('S|<VP-.>', [ProbabilisticTree('VP', [ProbabilisticTree('VBD', ['vbd']) (p=1.0), ProbabilisticTree('VP|<NP-,-ADVP>', [ProbabilisticTree('NP', [ProbabilisticTree('DT', ['dt']) (p=1.0), ProbabilisticTree('NP|<JJ-JJ-NN-NN>', [ProbabilisticTree('JJ', ['jj']) (p=1.0), ProbabilisticTree('NP|<JJ-NN-NN>', [ProbabilisticTree('JJ', ['jj']) (p=1.0), ProbabilisticTree('NP|<NN-NN>', [ProbabilisticTree('NN', ['nn']) (p=1.0), ProbabilisticTree('NN', ['nn']) (p=1.0)]) (p=1.0)]) (p=1.0)]) (p=1.0)]) (p=0.000794912559618442), ProbabilisticTree('VP|<,-ADVP>', [ProbabilisticTree(',', [',']) (p=1.0), ProbabilisticTree('ADVP', [ProbabilisticTree('JJ', ['jj']) (p=1.0)]) (p=0.011961722488038277)]) (p=0.011961722488038277)]) (p=9.508523440411986e-06)]) (p=6.5238582781557355e-09), ProbabilisticTree('.', ['.']) (p=1.0)]) (p=6.5238582781557355e-09)]) (p=4.4076657348894314e-11),\n",
       " ProbabilisticTree('S', [ProbabilisticTree('NP', [ProbabilisticTree('NP', [ProbabilisticTree('NN', ['nn']) (p=1.0)]) (p=0.040858505564387915), ProbabilisticTree('NP|<,-NP-,>', [ProbabilisticTree(',', [',']) (p=1.0), ProbabilisticTree('NP|<NP-,>', [ProbabilisticTree('NP', [ProbabilisticTree('DT', ['dt']) (p=1.0), ProbabilisticTree('NP|<JJ-ADJP-NNS-NN>', [ProbabilisticTree('JJ', ['jj']) (p=1.0), ProbabilisticTree('NP|<ADJP-NNS-NN>', [ProbabilisticTree('ADJP', [ProbabilisticTree('NNP', ['nnp']) (p=1.0), ProbabilisticTree('ADJP|<,-NNP-JJ>', [ProbabilisticTree(',', [',']) (p=1.0), ProbabilisticTree('ADJP|<NNP-JJ>', [ProbabilisticTree('NNP', ['nnp']) (p=1.0), ProbabilisticTree('JJ', ['jj']) (p=1.0)]) (p=1.0)]) (p=1.0)]) (p=0.003484320557491289), ProbabilisticTree('NP|<NNS-NN>', [ProbabilisticTree('NNS', ['nns']) (p=1.0), ProbabilisticTree('NN', ['nn']) (p=1.0)]) (p=1.0)]) (p=0.003484320557491289)]) (p=0.003484320557491289)]) (p=5.539460345773115e-07), ProbabilisticTree(',', [',']) (p=1.0)]) (p=5.539460345773115e-07)]) (p=5.539460345773115e-07)]) (p=2.0510400743408886e-10), ProbabilisticTree('S|<VP-.>', [ProbabilisticTree('VP', [ProbabilisticTree('VBD', ['vbd']) (p=1.0), ProbabilisticTree('S', [ProbabilisticTree('NP', [ProbabilisticTree('PRP', ['prp']) (p=1.0)]) (p=0.05278219395866455), ProbabilisticTree('VP', [ProbabilisticTree('VBZ', ['vbz']) (p=1.0), ProbabilisticTree('VP', [ProbabilisticTree('VBG', ['vbg']) (p=1.0), ProbabilisticTree('S', [ProbabilisticTree('NP', [ProbabilisticTree('NP', [ProbabilisticTree('DT', ['dt']) (p=1.0), ProbabilisticTree('NN', ['nn']) (p=1.0)]) (p=0.09062003179650238), ProbabilisticTree('PP', [ProbabilisticTree('IN', ['in']) (p=1.0), ProbabilisticTree('NP', [ProbabilisticTree('DT', ['dt']) (p=1.0), ProbabilisticTree('NP|<VBN-NN-NN>', [ProbabilisticTree('VBN', ['vbn']) (p=1.0), ProbabilisticTree('NP|<NN-NN>', [ProbabilisticTree('NN', ['nn']) (p=1.0), ProbabilisticTree('NN', ['nn']) (p=1.0)]) (p=1.0)]) (p=1.0)]) (p=0.0004769475357710652)]) (p=0.0003901847304073059)]) (p=4.024916330052489e-06), ProbabilisticTree('VP', [ProbabilisticTree('TO', ['to']) (p=1.0), ProbabilisticTree('VP', [ProbabilisticTree('VB', ['vb']) (p=1.0), ProbabilisticTree('VP|<NP-PP>', [ProbabilisticTree('NP', [ProbabilisticTree('NP', [ProbabilisticTree('PRP$', ['prp$']) (p=1.0), ProbabilisticTree('NN', ['nn']) (p=1.0)]) (p=0.008108108108108109), ProbabilisticTree('PP', [ProbabilisticTree('IN', ['in']) (p=1.0), ProbabilisticTree('NP', [ProbabilisticTree('JJ', ['jj']) (p=1.0), ProbabilisticTree('NNS', ['nns']) (p=1.0)]) (p=0.02559618441971383)]) (p=0.020939913865192082)]) (p=1.932665964097134e-05), ProbabilisticTree('PP', [ProbabilisticTree('IN', ['in']) (p=1.0), ProbabilisticTree('NP', [ProbabilisticTree('NN', ['nn']) (p=1.0), ProbabilisticTree('NNS', ['nns']) (p=1.0)]) (p=0.013990461049284579)]) (p=0.011445418758614307)]) (p=2.2120171279612742e-07)]) (p=4.0218493235659525e-09)]) (p=3.5596470856947366e-10)]) (p=4.360797304466019e-16)]) (p=2.5431751003746935e-18)]) (p=7.328532021662925e-20)]) (p=1.1773525510078168e-21)]) (p=1.2924624916723889e-23), ProbabilisticTree('.', ['.']) (p=1.0)]) (p=1.2924624916723889e-23)]) (p=4.470399463860336e-34),\n",
       " ProbabilisticTree('S', [ProbabilisticTree('PP', [ProbabilisticTree('IN', ['in']) (p=1.0), ProbabilisticTree('S', [ProbabilisticTree('VP', [ProbabilisticTree('VBG', ['vbg']) (p=1.0), ProbabilisticTree('NP', [ProbabilisticTree('PRP', ['prp']) (p=1.0)]) (p=0.05278219395866455)]) (p=0.0015934247232804392)]) (p=0.00040634378547408625)]) (p=1.1827054047062802e-05), ProbabilisticTree('S|<,-NP-PRN-VP-.>', [ProbabilisticTree(',', [',']) (p=1.0), ProbabilisticTree('S|<NP-PRN-VP-.>', [ProbabilisticTree('NP', [ProbabilisticTree('NNS', ['nns']) (p=1.0)]) (p=0.04340222575516693), ProbabilisticTree('S|<PRN-VP-.>', [ProbabilisticTree('PRN', [ProbabilisticTree(':', [':']) (p=1.0), ProbabilisticTree('PRN|<PP-:>', [ProbabilisticTree('PP', [ProbabilisticTree('IN', ['in']) (p=1.0), ProbabilisticTree('NP', [ProbabilisticTree('JJ', ['jj']) (p=1.0), ProbabilisticTree('NN', ['nn']) (p=1.0)]) (p=0.015739268680445152)]) (p=0.012876096103441096), ProbabilisticTree(':', [':']) (p=1.0)]) (p=0.012876096103441096)]) (p=0.00042920320344803654), ProbabilisticTree('S|<VP-.>', [ProbabilisticTree('VP', [ProbabilisticTree('VBP', ['vbp']) (p=1.0), ProbabilisticTree('VP|<PP-ADVP-NP>', [ProbabilisticTree('PP', [ProbabilisticTree('TO', ['to']) (p=1.0), ProbabilisticTree('NP', [ProbabilisticTree('NNS', ['nns']) (p=1.0)]) (p=0.04340222575516693)]) (p=0.003947707644051047), ProbabilisticTree('VP|<ADVP-NP>', [ProbabilisticTree('ADVP', [ProbabilisticTree('RB', ['rb']) (p=1.0)]) (p=0.6889952153110048), ProbabilisticTree('NP', [ProbabilisticTree('NP', [ProbabilisticTree('DT', ['dt']) (p=1.0), ProbabilisticTree('NP|<JJ-NNS>', [ProbabilisticTree('JJ', ['jj']) (p=1.0), ProbabilisticTree('NNS', ['nns']) (p=1.0)]) (p=1.0)]) (p=0.004451510333863275), ProbabilisticTree('SBAR', [ProbabilisticTree('WHPP', [ProbabilisticTree('IN', ['in']) (p=1.0), ProbabilisticTree('WHNP', [ProbabilisticTree('WDT', ['wdt']) (p=1.0)]) (p=0.5641025641025641)]) (p=0.5641025641025641), ProbabilisticTree('S', [ProbabilisticTree('NP', [ProbabilisticTree('DT', ['dt']) (p=1.0), ProbabilisticTree('NN', ['nn']) (p=1.0)]) (p=0.09062003179650238), ProbabilisticTree('VP', [ProbabilisticTree('MD', ['md']) (p=1.0), ProbabilisticTree('VP', [ProbabilisticTree('VP', [ProbabilisticTree('VB', ['vb']) (p=1.0)]) (p=0.007890222984562607), ProbabilisticTree('VP|<,-CC-VP>', [ProbabilisticTree(',', [',']) (p=1.0), ProbabilisticTree('VP|<CC-VP>', [ProbabilisticTree('CC', ['cc']) (p=1.0), ProbabilisticTree('VP', [ProbabilisticTree('ADVP', [ProbabilisticTree('RB', ['rb']) (p=1.0)]) (p=0.6889952153110048), ProbabilisticTree('VP|<VB-PRT-NP>', [ProbabilisticTree('VB', ['vb']) (p=1.0), ProbabilisticTree('VP|<PRT-NP>', [ProbabilisticTree('PRT', [ProbabilisticTree('RP', ['rp']) (p=1.0)]) (p=0.88), ProbabilisticTree('NP', [ProbabilisticTree('DT', ['dt']) (p=1.0), ProbabilisticTree('NP|<JJ-JJ-NNS-CC-NNS>', [ProbabilisticTree('JJ', ['jj']) (p=1.0), ProbabilisticTree('NP|<JJ-NNS-CC-NNS>', [ProbabilisticTree('JJ', ['jj']) (p=1.0), ProbabilisticTree('NP|<NNS-CC-NNS>', [ProbabilisticTree('NNS', ['nns']) (p=1.0), ProbabilisticTree('NP|<CC-NNS>', [ProbabilisticTree('CC', ['cc']) (p=1.0), ProbabilisticTree('NNS', ['nns']) (p=1.0)]) (p=1.0)]) (p=1.0)]) (p=1.0)]) (p=1.0)]) (p=0.0001589825119236884)]) (p=0.00013990461049284578)]) (p=0.00013990461049284578)]) (p=3.3068132840315795e-08)]) (p=3.3068132840315795e-08)]) (p=3.3068132840315795e-08)]) (p=6.265538910986638e-13)]) (p=3.353084288555456e-14)]) (p=9.248488949531456e-16)]) (p=5.472478668361809e-18)]) (p=4.0665874580702503e-22)]) (p=2.801859301254144e-22)]) (p=1.1060921381116509e-24)]) (p=3.7944841787706716e-28), ProbabilisticTree('.', ['.']) (p=1.0)]) (p=3.7944841787706716e-28)]) (p=1.6286047649612645e-31)]) (p=7.068507167478938e-33)]) (p=7.068507167478938e-33)]) (p=1.289454236017854e-40),\n",
       " ProbabilisticTree('S', [ProbabilisticTree('NP', [ProbabilisticTree('NP', [ProbabilisticTree('NP', [ProbabilisticTree('DT', ['dt']) (p=1.0), ProbabilisticTree('NP|<RBR-JJ-NN>', [ProbabilisticTree('RBR', ['rbr']) (p=1.0), ProbabilisticTree('NP|<JJ-NN>', [ProbabilisticTree('JJ', ['jj']) (p=1.0), ProbabilisticTree('NN', ['nn']) (p=1.0)]) (p=1.0)]) (p=1.0)]) (p=0.0003179650238473768), ProbabilisticTree('PP', [ProbabilisticTree('IN', ['in']) (p=1.0), ProbabilisticTree('NP', [ProbabilisticTree('VBG', ['vbg']) (p=1.0), ProbabilisticTree('NNS', ['nns']) (p=1.0)]) (p=0.0011128775834658188)]) (p=0.0009104310376170471)]) (p=3.2952531357154887e-08), ProbabilisticTree('NP|<PP-,-SBAR-,>', [ProbabilisticTree('PP', [ProbabilisticTree('IN', ['in']) (p=1.0), ProbabilisticTree('NP', [ProbabilisticTree('NNS', ['nns']) (p=1.0)]) (p=0.04340222575516693)]) (p=0.03550681046706484), ProbabilisticTree('NP|<,-SBAR-,>', [ProbabilisticTree(',', [',']) (p=1.0), ProbabilisticTree('NP|<SBAR-,>', [ProbabilisticTree('SBAR', [ProbabilisticTree('IN', ['in']) (p=1.0), ProbabilisticTree('S', [ProbabilisticTree('VP', [ProbabilisticTree('VB', ['vb']) (p=1.0), ProbabilisticTree('VP|<NP-PP>', [ProbabilisticTree('NP', [ProbabilisticTree('DT', ['dt']) (p=1.0), ProbabilisticTree('NNS', ['nns']) (p=1.0)]) (p=0.017965023847376787), ProbabilisticTree('PP', [ProbabilisticTree('IN', ['in']) (p=1.0), ProbabilisticTree('NP', [ProbabilisticTree('JJ', ['jj']) (p=1.0), ProbabilisticTree('NNP', ['nnp']) (p=1.0)]) (p=0.0009538950715421304)]) (p=0.0007803694608146118)]) (p=1.4019355973299066e-05)]) (p=2.5489738133271027e-07)]) (p=6.500210855579655e-08)]) (p=2.1477969435394313e-08), ProbabilisticTree(',', [',']) (p=1.0)]) (p=2.1477969435394313e-08)]) (p=2.1477969435394313e-08)]) (p=7.626141899599575e-10)]) (p=1.5980965346942304e-20), ProbabilisticTree('S|<VP-.>', [ProbabilisticTree('VP', [ProbabilisticTree('VBZ', ['vbz']) (p=1.0), ProbabilisticTree('VP', [ProbabilisticTree('VBN', ['vbn']) (p=1.0), ProbabilisticTree('VP|<PP-PP>', [ProbabilisticTree('PP', [ProbabilisticTree('IN', ['in']) (p=1.0), ProbabilisticTree('S', [ProbabilisticTree('NP', [ProbabilisticTree('DT', ['dt']) (p=1.0), ProbabilisticTree('NNP', ['nnp']) (p=1.0)]) (p=0.007472178060413354), ProbabilisticTree('VP', [ProbabilisticTree('TO', ['to']) (p=1.0), ProbabilisticTree('VP', [ProbabilisticTree('VB', ['vb']) (p=1.0), ProbabilisticTree('VP|<ADJP-ADVP>', [ProbabilisticTree('ADJP', [ProbabilisticTree('ADJP', [ProbabilisticTree('JJ', ['jj']) (p=1.0)]) (p=0.2264808362369338), ProbabilisticTree('ADJP|<,-ADJP>', [ProbabilisticTree(',', [',']) (p=1.0), ProbabilisticTree('ADJP', [ProbabilisticTree('JJ', ['jj']) (p=1.0)]) (p=0.2264808362369338)]) (p=0.2264808362369338)]) (p=0.00017872323756996803), ProbabilisticTree('ADVP', [ProbabilisticTree('RB', ['rb']) (p=1.0)]) (p=0.6889952153110048)]) (p=0.00012313945555059998)]) (p=4.2243380977907365e-08)]) (p=3.738865280377393e-09)]) (p=8.503331894280355e-12)]) (p=2.4749822561314964e-13), ProbabilisticTree('PP', [ProbabilisticTree('IN', ['in']) (p=1.0), ProbabilisticTree('NP', [ProbabilisticTree('NNS', ['nns']) (p=1.0)]) (p=0.04340222575516693)]) (p=0.03550681046706484)]) (p=8.787872587780956e-15)]) (p=3.919119850468351e-17)]) (p=1.1293518608553738e-18), ProbabilisticTree('.', ['.']) (p=1.0)]) (p=1.1293518608553738e-18)]) (p=3.043592600786493e-39)]"
      ]
     },
     "execution_count": 21,
     "metadata": {},
     "output_type": "execute_result"
    }
   ],
   "source": [
    "predicted_trees[:10]"
   ]
  },
  {
   "cell_type": "code",
   "execution_count": 22,
   "metadata": {
    "id": "7q8S3Ox1Z3_t"
   },
   "outputs": [
    {
     "data": {
      "text/plain": [
       "'in nnp nnp nnp nnp jj nn nn , nnp nnps vbd in $ cd , rb cd nns .'"
      ]
     },
     "execution_count": 22,
     "metadata": {},
     "output_type": "execute_result"
    }
   ],
   "source": [
    "' '.join(predicted_trees[0].leaves())"
   ]
  },
  {
   "cell_type": "code",
   "execution_count": 23,
   "metadata": {
    "id": "OeP2TdQkSe5F"
   },
   "outputs": [],
   "source": [
    "children = lambda tree:  [child for child in tree]\n",
    "def pre_terminal(subtree):\n",
    "  ch = children(subtree)\n",
    "  return all(type(child) == str for child in ch)\n",
    "\n",
    "def get_subtrees_triplets(tree,tree_offset):\n",
    "  first_index = tree_offset\n",
    "  res = []\n",
    "  for sub_tree in tree:\n",
    "    if pre_terminal(sub_tree):\n",
    "      res.append( (sub_tree.label(),tree_offset,tree_offset+1) )\n",
    "      tree_offset = tree_offset + 1\n",
    "    else: \n",
    "      triplets,_,last_index = get_subtrees_triplets(sub_tree,tree_offset)\n",
    "      res += triplets\n",
    "      tree_offset = last_index\n",
    "  res.append( (tree.label(),first_index,tree_offset) )\n",
    "  return res, first_index, tree_offset\n",
    "triplests_predicted, first,last = get_subtrees_triplets(predicted_trees[0],0)\n",
    "triplests_gold, first,last = get_subtrees_triplets(test_pos_tags[0],0)"
   ]
  },
  {
   "cell_type": "code",
   "execution_count": 24,
   "metadata": {
    "id": "E8uVANbiZn_m"
   },
   "outputs": [
    {
     "data": {
      "text/plain": [
       "[('IN', 0, 1), ('NNP', 1, 2), ('NNP', 2, 3)]"
      ]
     },
     "execution_count": 24,
     "metadata": {},
     "output_type": "execute_result"
    }
   ],
   "source": [
    "triplests_predicted[:3]"
   ]
  },
  {
   "cell_type": "code",
   "execution_count": 25,
   "metadata": {
    "id": "-X5vvhfshyTV"
   },
   "outputs": [
    {
     "data": {
      "text/plain": [
       "[('IN', 0, 1), ('NNP', 1, 2), ('NNP', 2, 3)]"
      ]
     },
     "execution_count": 25,
     "metadata": {},
     "output_type": "execute_result"
    }
   ],
   "source": [
    "triplests_gold[:3]"
   ]
  },
  {
   "cell_type": "code",
   "execution_count": 33,
   "metadata": {
    "id": "MrUIYZXjku0X"
   },
   "outputs": [],
   "source": [
    "predicted_trees2 = [get_subtrees_triplets(tree,0)[0] for tree in predicted_trees]\n",
    "gold_trees2 = [get_subtrees_triplets(tree,0)[0] for tree in test_pos_tags]\n",
    "\n",
    "def get_number_of_constituents(trees):\n",
    "  s = sum([len(x) for x in trees])\n",
    "  return s\n",
    "def get_number_of_correct_constituents(predicted, gold, labeled=True):\n",
    "    convert = lambda x: x if  labeled else (x[1],x[2])\n",
    "    assert(len(predicted) == len(gold))\n",
    "    res = 0\n",
    "    for i in range(len(predicted)):\n",
    "        predicted_tree = predicted[i]\n",
    "        gold_tree = gold[i]  \n",
    "        for constituent in predicted_tree:\n",
    "            if any(convert(constituent) == convert(c) for c in gold_tree):\n",
    "                res += 1\n",
    "    return res"
   ]
  },
  {
   "cell_type": "markdown",
   "metadata": {
    "id": "-XMVDgAPLvnC"
   },
   "source": [
    "![Screen Shot 2021-01-15 at 17.00.29.png](data:image/png;base64,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)"
   ]
  },
  {
   "cell_type": "code",
   "execution_count": 34,
   "metadata": {
    "id": "-EHEfPXsH8MK"
   },
   "outputs": [
    {
     "name": "stdout",
     "output_type": "stream",
     "text": [
      "labeled recall: 80.55 %\n",
      "labeled precision: 81.79 %\n",
      "labeled F-measure(beta = 1): 0.8116485439320086\n",
      "labeled F-measure(beta = 0.5): 0.8153784340314401\n",
      "labeled F-measure(beta = 2): 0.8079526226734348\n",
      "######\n",
      "unlabeled recall: 86.73 %\n",
      "unlabeled precision: 88.06 %\n",
      "unlabeled F-measure(beta = 1): 0.8738657667791525\n",
      "unlabeled F-measure(beta = 0.5): 0.8778815729998494\n",
      "unlabeled F-measure(beta = 2): 0.8698865332935205\n"
     ]
    }
   ],
   "source": [
    "NOF_predicted_constit = get_number_of_constituents(predicted_trees2)\n",
    "NOF_gold_constit = get_number_of_constituents(gold_trees2)\n",
    "NOF_correct_labeled = get_number_of_correct_constituents(predicted_trees2,gold_trees2[:-1], labeled=True)\n",
    "NOF_correct_unlabeled = get_number_of_correct_constituents(predicted_trees2,gold_trees2[:-1], labeled=False)\n",
    "formatter = lambda x:(\"%.2f\" % (x * 100)) + ' %'\n",
    "f_measure = lambda P, R, beta=1: (beta*beta + 1)*P*R/((beta*beta)*P + R) \n",
    "#labeled recall\n",
    "L_R = NOF_correct_labeled/NOF_gold_constit\n",
    "print(f'labeled recall: {formatter(L_R)}')\n",
    "\n",
    "#labeled precision\n",
    "L_P = NOF_correct_labeled/NOF_predicted_constit\n",
    "print(f'labeled precision: {formatter(L_P)}')\n",
    "\n",
    "#labeled F-measure\n",
    "print(f'labeled F-measure(beta = 1): {f_measure(L_P, L_R, beta = 1)}')\n",
    "print(f'labeled F-measure(beta = 0.5): {f_measure(L_P, L_R, beta = 0.5)}')\n",
    "print(f'labeled F-measure(beta = 2): {f_measure(L_P, L_R, beta = 2)}')\n",
    "\n",
    "print(f'######')\n",
    "#unlabeled recall\n",
    "UN_R = NOF_correct_unlabeled/NOF_gold_constit\n",
    "print(f'unlabeled recall: {formatter(UN_R)}')\n",
    "\n",
    "#unlabeled precision\n",
    "UN_P = NOF_correct_unlabeled/NOF_predicted_constit\n",
    "print(f'unlabeled precision: {formatter(UN_P)}')\n",
    "\n",
    "#unlabeled F-measure\n",
    "print(f'unlabeled F-measure(beta = 1): {f_measure(UN_P, UN_R, beta = 1)}')\n",
    "print(f'unlabeled F-measure(beta = 0.5): {f_measure(UN_P, UN_R, beta = 0.5)}')\n",
    "print(f'unlabeled F-measure(beta = 2): {f_measure(UN_P, UN_R, beta = 2)}')\n",
    "\n"
   ]
  },
  {
   "cell_type": "markdown",
   "metadata": {
    "id": "q_rJagq06VeF"
   },
   "source": [
    "<a name=\"q3.3\"></a>\n",
    "<h3>Question 3.3: Accuracy per Distance</h3>\n",
    "\n",
    "In general, parsers do a much better job on short constituents than long ones.  \n",
    "Draw a plot of the accuracy of constituents per constituent length.  \n",
    "The length of a constituent (node, first, last) is last-first+1.  \n",
    "For a given constituent length X, accuracy is the number of constituents \n",
    "of length X in the parsed tree that are accurate divided by the total number of constituents of length X."
   ]
  },
  {
   "cell_type": "code",
   "execution_count": 35,
   "metadata": {
    "id": "G_dHl60jL44f"
   },
   "outputs": [],
   "source": [
    "predicted_trees_triplets = [get_subtrees_triplets(tree,0) for tree in predicted_trees]\n",
    "gold_trees_triplets = [get_subtrees_triplets(tree,0) for tree in test_pos_tags]\n",
    "def constituents_of_length(trees,i):\n",
    "  res = 0\n",
    "  for tree in trees:\n",
    "    for constituent in tree[0]:\n",
    "      if constituent[2]-constituent[1] == i:\n",
    "        res += 1\n",
    "  return res \n",
    "def accuracy_of_length(predicted, gold,length, labeled=True):\n",
    "    convert = lambda x: x if  labeled else (x[1],x[2])\n",
    "    assert(len(predicted) == len(gold))\n",
    "    res = 0\n",
    "    for i in range(len(predicted)):\n",
    "      predicted_tree = predicted[i]\n",
    "      gold_tree = gold[i]  \n",
    "      for constituent in predicted_tree[0]:\n",
    "        if constituent[2] - constituent[1] != length:\n",
    "          continue\n",
    "        if any(convert(constituent) == convert(c) for c in gold_tree[0]):\n",
    "          res += 1\n",
    "    \n",
    "    return res\n"
   ]
  },
  {
   "cell_type": "code",
   "execution_count": 37,
   "metadata": {
    "id": "OrotKTUlQ7KY"
   },
   "outputs": [
    {
     "data": {
      "image/png": "[encoded data removed]",
      "text/plain": [
       "<Figure size 432x288 with 1 Axes>"
      ]
     },
     "metadata": {
      "needs_background": "light"
     },
     "output_type": "display_data"
    }
   ],
   "source": [
    "acc = []\n",
    "for i in range(35):\n",
    "  correct = accuracy_of_length(predicted_trees_triplets,gold_trees_triplets[:-1],i)\n",
    "  overall = constituents_of_length(predicted_trees_triplets,i)\n",
    "  if overall != 0:\n",
    "      acc.append(correct/overall)\n",
    "  else:\n",
    "      acc.append(None)\n",
    "res = list(filter(lambda x: x[1] != None, enumerate(acc)))\n",
    "x = [a[0] for a in res]\n",
    "y = [a[1] for a in res]\n",
    "\n",
    "import matplotlib\n",
    "import matplotlib.pyplot as plt\n",
    "\n",
    "fig, ax = plt.subplots()\n",
    "ax.plot(x, y)\n",
    "\n",
    "ax.set(xlabel='length', ylabel='accuracy (%)',\n",
    "       title='accuracy per length')\n",
    "\n",
    "plt.show()"
   ]
  },
  {
   "cell_type": "markdown",
   "metadata": {
    "id": "4DSwPmft6VeF"
   },
   "source": [
    "<a name=\"q3.4\"></a>\n",
    "<h3>Question 3.4: Accuracy per Label</h3>\n",
    "\n",
    "Report accuracy of constituents per label type (S, SBAR, NP, VP, PP etc).\n",
    "For each node type, report number of occurrences and accuracy. \n",
    "Note: report accuracy per node type WITHOUT Chomsky Normal Form modification.\n",
    "For example, if the CNF of the tree generated a non-terminal NP^S, we should count this as NP for this question."
   ]
  },
  {
   "cell_type": "code",
   "execution_count": 42,
   "metadata": {
    "id": "iC0doixlSu_s"
   },
   "outputs": [],
   "source": []
  },
  {
   "cell_type": "code",
   "execution_count": 44,
   "metadata": {},
   "outputs": [
    {
     "data": {
      "text/plain": [
       "[Tree('S', [Tree('NP', [Tree('NP', [Tree('NNP', ['Pierre']), Tree('NNP', ['Vinken'])]), Tree('NP|<,-ADJP-,>', [Tree(',', [',']), Tree('NP|<ADJP-,>', [Tree('ADJP', [Tree('NP', [Tree('CD', ['61']), Tree('NNS', ['years'])]), Tree('JJ', ['old'])]), Tree(',', [','])])])]), Tree('S|<VP-.>', [Tree('VP', [Tree('MD', ['will']), Tree('VP', [Tree('VB', ['join']), Tree('VP|<NP-PP-NP>', [Tree('NP', [Tree('DT', ['the']), Tree('NN', ['board'])]), Tree('VP|<PP-NP>', [Tree('PP', [Tree('IN', ['as']), Tree('NP', [Tree('DT', ['a']), Tree('NP|<JJ-NN>', [Tree('JJ', ['nonexecutive']), Tree('NN', ['director'])])])]), Tree('NP', [Tree('NNP', ['Nov.']), Tree('CD', ['29'])])])])])]), Tree('.', ['.'])])])]"
      ]
     },
     "execution_count": 44,
     "metadata": {},
     "output_type": "execute_result"
    }
   ],
   "source": []
  },
  {
   "cell_type": "code",
   "execution_count": 73,
   "metadata": {},
   "outputs": [],
   "source": [
    "def is_original(x):\n",
    "    return '|' not in x  or  x == 'ADVP|PRT'\n",
    "def original_label(x):\n",
    "    if is_original(x):\n",
    "        return x\n",
    "    return x.split('|')[0]\n",
    "\n",
    "# label\n",
    "NOF_constituents_per_label = defaultdict(lambda : 0)\n",
    "NOF_correct_constituents_per_label = defaultdict(lambda : 0)\n",
    "\n",
    "def fill_number_of_constituents_per_label(trees):\n",
    "    for tree in trees:\n",
    "        for constituent in tree:\n",
    "            original = original_label(constituent[0])\n",
    "            NOF_constituents_per_label[original] += 1\n",
    "def fill_number_of_correct_constituents_per_label(predicted, gold, labeled=True):\n",
    "    convert = lambda x: x if  labeled else (x[1],x[2])\n",
    "    assert(len(predicted) == len(gold))\n",
    "    for i in range(len(predicted)):\n",
    "        predicted_tree = predicted[i]\n",
    "        gold_tree = gold[i]  \n",
    "        for constituent in predicted_tree:\n",
    "            original = original_label(constituent[0])\n",
    "            if any(convert(constituent) == convert(c) for c in gold_tree):\n",
    "                NOF_correct_constituents_per_label[original] += 1\n"
   ]
  },
  {
   "cell_type": "code",
   "execution_count": 74,
   "metadata": {},
   "outputs": [],
   "source": [
    "fill_number_of_constituents_per_label(predicted_trees2)\n",
    "fill_number_of_correct_constituents_per_label(predicted_trees2,gold_trees2[:-1])\n"
   ]
  },
  {
   "cell_type": "code",
   "execution_count": 80,
   "metadata": {},
   "outputs": [
    {
     "data": {
      "text/plain": [
       "61"
      ]
     },
     "execution_count": 80,
     "metadata": {},
     "output_type": "execute_result"
    }
   ],
   "source": [
    "len(NOF_correct_constituents_per_label.keys())"
   ]
  },
  {
   "cell_type": "code",
   "execution_count": 81,
   "metadata": {},
   "outputs": [
    {
     "data": {
      "text/plain": [
       "61"
      ]
     },
     "execution_count": 81,
     "metadata": {},
     "output_type": "execute_result"
    }
   ],
   "source": [
    "len(NOF_constituents_per_label.keys())"
   ]
  },
  {
   "cell_type": "code",
   "execution_count": 83,
   "metadata": {},
   "outputs": [],
   "source": [
    "accuracy_dict = defaultdict(lambda : 0)\n",
    "for key in NOF_correct_constituents_per_label.keys():\n",
    "    accuracy_dict[key] = NOF_correct_constituents_per_label[key] / NOF_constituents_per_label[key]"
   ]
  },
  {
   "cell_type": "code",
   "execution_count": 95,
   "metadata": {},
   "outputs": [
    {
     "data": {
      "text/plain": [
       "61"
      ]
     },
     "execution_count": 95,
     "metadata": {},
     "output_type": "execute_result"
    }
   ],
   "source": [
    "l = [(v, k) for k, v in accuracy_dict.items()]\n",
    "l.sort(reverse=True)\n",
    "x = [tup[0] for tup in l]\n",
    "y = [tup[1] for tup in l]\n",
    "len(x)"
   ]
  },
  {
   "cell_type": "code",
   "execution_count": 105,
   "metadata": {},
   "outputs": [
    {
     "data": {
      "text/plain": [
       "(0.0, 1.05)"
      ]
     },
     "execution_count": 105,
     "metadata": {},
     "output_type": "execute_result"
    },
    {
     "data": {
      "image/png": "[encoded data removed]",
      "text/plain": [
       "<Figure size 2880x1440 with 6 Axes>"
      ]
     },
     "metadata": {
      "needs_background": "light"
     },
     "output_type": "display_data"
    }
   ],
   "source": [
    "from matplotlib.gridspec import GridSpec\n",
    "import matplotlib.pyplot as plt\n",
    "%matplotlib inline\n",
    "def count_of(label,coarse=True):\n",
    "  if coarse:\n",
    "      return df[df['coarse'] == label].shape[0]\n",
    "  else:\n",
    "      return df[df['fine'] == label].shape[0]\n",
    "def get_percentage_array(coarse=None):\n",
    "  counts = []\n",
    "  if coarse == None:\n",
    "    counts = [count_of(label) for label in coarse_categories]\n",
    "  else:  \n",
    "    counts = [count_of(label,coarse=False) for label in fine_categories[coarse]]\n",
    "  normalized = [count/sum(counts) for count in counts]\n",
    "  return normalized\n",
    "\n",
    "\n",
    "# Make square figures and axes\n",
    "plt.figure(1, figsize=(40,20))\n",
    "the_grid = GridSpec(3, 2)\n",
    "\n",
    "\n",
    "\n",
    "\n",
    "plt.subplot(the_grid[0, 0])\n",
    "plt.bar(y[:10],x[:10])\n",
    "plt.ylim(top=1.05)\n",
    "plt.subplot(the_grid[0, 1], title='DESCRIPTION')\n",
    "plt.bar(y[10:20],x[10:20])\n",
    "plt.ylim(top=1.05)\n",
    "plt.subplot(the_grid[1, 0], title='ENTITY')\n",
    "plt.bar(y[20:30],x[20:30])\n",
    "plt.ylim(top=1.05)\n",
    "plt.subplot(the_grid[1, 1], title='ABBREVIATION')\n",
    "plt.bar(y[30:40],x[30:40])\n",
    "plt.ylim(top=1.05)\n",
    "plt.subplot(the_grid[2, 0], title='HUMAN')\n",
    "plt.bar(y[40:50],x[40:50])\n",
    "plt.ylim(top=1.05)\n",
    "plt.subplot(the_grid[2, 1], title='NUMERIC VALUE')\n",
    "plt.bar(y[50:],x[50:])\n",
    "plt.ylim(top=1.05)"
   ]
  },
  {
   "cell_type": "markdown",
   "metadata": {
    "id": "EzPSBxLk6VeF"
   },
   "source": [
    "END"
   ]
  }
 ],
 "metadata": {
  "colab": {
   "collapsed_sections": [],
   "name": "NLP21HW3.ipynb",
   "provenance": []
  },
  "kernelspec": {
   "display_name": "Python 3",
   "language": "python",
   "name": "python3"
  },
  "language_info": {
   "codemirror_mode": {
    "name": "ipython",
    "version": 3
   },
   "file_extension": ".py",
   "mimetype": "text/x-python",
   "name": "python",
   "nbconvert_exporter": "python",
   "pygments_lexer": "ipython3",
   "version": "3.8.5"
  }
 },
 "nbformat": 4,
 "nbformat_minor": 4
}
